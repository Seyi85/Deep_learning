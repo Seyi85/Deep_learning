{
  "nbformat": 4,
  "nbformat_minor": 0,
  "metadata": {
    "kernelspec": {
      "display_name": "Python 3",
      "language": "python",
      "name": "python3"
    },
    "language_info": {
      "codemirror_mode": {
        "name": "ipython",
        "version": 3
      },
      "file_extension": ".py",
      "mimetype": "text/x-python",
      "name": "python",
      "nbconvert_exporter": "python",
      "pygments_lexer": "ipython3",
      "version": "3.9.1"
    },
    "colab": {
      "name": "4. Exercise Transfer Learning (Pytorch).ipynb",
      "provenance": [],
      "include_colab_link": true
    },
    "accelerator": "GPU",
    "widgets": {
      "application/vnd.jupyter.widget-state+json": {
        "347f409d05ea4ef89fcce6bb2ac798bf": {
          "model_module": "@jupyter-widgets/controls",
          "model_name": "HBoxModel",
          "state": {
            "_view_name": "HBoxView",
            "_dom_classes": [],
            "_model_name": "HBoxModel",
            "_view_module": "@jupyter-widgets/controls",
            "_model_module_version": "1.5.0",
            "_view_count": null,
            "_view_module_version": "1.5.0",
            "box_style": "",
            "layout": "IPY_MODEL_3a87b713f1aa45aaaa93b5994bb76429",
            "_model_module": "@jupyter-widgets/controls",
            "children": [
              "IPY_MODEL_dade76bdf0f644d3bd83a19d4c2892ae",
              "IPY_MODEL_be8986cf737841628b998be815254394"
            ]
          }
        },
        "3a87b713f1aa45aaaa93b5994bb76429": {
          "model_module": "@jupyter-widgets/base",
          "model_name": "LayoutModel",
          "state": {
            "_view_name": "LayoutView",
            "grid_template_rows": null,
            "right": null,
            "justify_content": null,
            "_view_module": "@jupyter-widgets/base",
            "overflow": null,
            "_model_module_version": "1.2.0",
            "_view_count": null,
            "flex_flow": null,
            "width": null,
            "min_width": null,
            "border": null,
            "align_items": null,
            "bottom": null,
            "_model_module": "@jupyter-widgets/base",
            "top": null,
            "grid_column": null,
            "overflow_y": null,
            "overflow_x": null,
            "grid_auto_flow": null,
            "grid_area": null,
            "grid_template_columns": null,
            "flex": null,
            "_model_name": "LayoutModel",
            "justify_items": null,
            "grid_row": null,
            "max_height": null,
            "align_content": null,
            "visibility": null,
            "align_self": null,
            "height": null,
            "min_height": null,
            "padding": null,
            "grid_auto_rows": null,
            "grid_gap": null,
            "max_width": null,
            "order": null,
            "_view_module_version": "1.2.0",
            "grid_template_areas": null,
            "object_position": null,
            "object_fit": null,
            "grid_auto_columns": null,
            "margin": null,
            "display": null,
            "left": null
          }
        },
        "dade76bdf0f644d3bd83a19d4c2892ae": {
          "model_module": "@jupyter-widgets/controls",
          "model_name": "FloatProgressModel",
          "state": {
            "_view_name": "ProgressView",
            "style": "IPY_MODEL_a7aa381d0b29487291d5404d13ca71e5",
            "_dom_classes": [],
            "description": "100%",
            "_model_name": "FloatProgressModel",
            "bar_style": "success",
            "max": 32342954,
            "_view_module": "@jupyter-widgets/controls",
            "_model_module_version": "1.5.0",
            "value": 32342954,
            "_view_count": null,
            "_view_module_version": "1.5.0",
            "orientation": "horizontal",
            "min": 0,
            "description_tooltip": null,
            "_model_module": "@jupyter-widgets/controls",
            "layout": "IPY_MODEL_e340c7d833444aa1b9f9f289a7e07abc"
          }
        },
        "be8986cf737841628b998be815254394": {
          "model_module": "@jupyter-widgets/controls",
          "model_name": "HTMLModel",
          "state": {
            "_view_name": "HTMLView",
            "style": "IPY_MODEL_4e6faa88c9f141548be7ae4f32104a6b",
            "_dom_classes": [],
            "description": "",
            "_model_name": "HTMLModel",
            "placeholder": "​",
            "_view_module": "@jupyter-widgets/controls",
            "_model_module_version": "1.5.0",
            "value": " 30.8M/30.8M [00:17&lt;00:00, 1.82MB/s]",
            "_view_count": null,
            "_view_module_version": "1.5.0",
            "description_tooltip": null,
            "_model_module": "@jupyter-widgets/controls",
            "layout": "IPY_MODEL_72c397d98f0b41ab8f8feb021fe33052"
          }
        },
        "a7aa381d0b29487291d5404d13ca71e5": {
          "model_module": "@jupyter-widgets/controls",
          "model_name": "ProgressStyleModel",
          "state": {
            "_view_name": "StyleView",
            "_model_name": "ProgressStyleModel",
            "description_width": "initial",
            "_view_module": "@jupyter-widgets/base",
            "_model_module_version": "1.5.0",
            "_view_count": null,
            "_view_module_version": "1.2.0",
            "bar_color": null,
            "_model_module": "@jupyter-widgets/controls"
          }
        },
        "e340c7d833444aa1b9f9f289a7e07abc": {
          "model_module": "@jupyter-widgets/base",
          "model_name": "LayoutModel",
          "state": {
            "_view_name": "LayoutView",
            "grid_template_rows": null,
            "right": null,
            "justify_content": null,
            "_view_module": "@jupyter-widgets/base",
            "overflow": null,
            "_model_module_version": "1.2.0",
            "_view_count": null,
            "flex_flow": null,
            "width": null,
            "min_width": null,
            "border": null,
            "align_items": null,
            "bottom": null,
            "_model_module": "@jupyter-widgets/base",
            "top": null,
            "grid_column": null,
            "overflow_y": null,
            "overflow_x": null,
            "grid_auto_flow": null,
            "grid_area": null,
            "grid_template_columns": null,
            "flex": null,
            "_model_name": "LayoutModel",
            "justify_items": null,
            "grid_row": null,
            "max_height": null,
            "align_content": null,
            "visibility": null,
            "align_self": null,
            "height": null,
            "min_height": null,
            "padding": null,
            "grid_auto_rows": null,
            "grid_gap": null,
            "max_width": null,
            "order": null,
            "_view_module_version": "1.2.0",
            "grid_template_areas": null,
            "object_position": null,
            "object_fit": null,
            "grid_auto_columns": null,
            "margin": null,
            "display": null,
            "left": null
          }
        },
        "4e6faa88c9f141548be7ae4f32104a6b": {
          "model_module": "@jupyter-widgets/controls",
          "model_name": "DescriptionStyleModel",
          "state": {
            "_view_name": "StyleView",
            "_model_name": "DescriptionStyleModel",
            "description_width": "",
            "_view_module": "@jupyter-widgets/base",
            "_model_module_version": "1.5.0",
            "_view_count": null,
            "_view_module_version": "1.2.0",
            "_model_module": "@jupyter-widgets/controls"
          }
        },
        "72c397d98f0b41ab8f8feb021fe33052": {
          "model_module": "@jupyter-widgets/base",
          "model_name": "LayoutModel",
          "state": {
            "_view_name": "LayoutView",
            "grid_template_rows": null,
            "right": null,
            "justify_content": null,
            "_view_module": "@jupyter-widgets/base",
            "overflow": null,
            "_model_module_version": "1.2.0",
            "_view_count": null,
            "flex_flow": null,
            "width": null,
            "min_width": null,
            "border": null,
            "align_items": null,
            "bottom": null,
            "_model_module": "@jupyter-widgets/base",
            "top": null,
            "grid_column": null,
            "overflow_y": null,
            "overflow_x": null,
            "grid_auto_flow": null,
            "grid_area": null,
            "grid_template_columns": null,
            "flex": null,
            "_model_name": "LayoutModel",
            "justify_items": null,
            "grid_row": null,
            "max_height": null,
            "align_content": null,
            "visibility": null,
            "align_self": null,
            "height": null,
            "min_height": null,
            "padding": null,
            "grid_auto_rows": null,
            "grid_gap": null,
            "max_width": null,
            "order": null,
            "_view_module_version": "1.2.0",
            "grid_template_areas": null,
            "object_position": null,
            "object_fit": null,
            "grid_auto_columns": null,
            "margin": null,
            "display": null,
            "left": null
          }
        }
      }
    }
  },
  "cells": [
    {
      "cell_type": "markdown",
      "metadata": {
        "id": "view-in-github",
        "colab_type": "text"
      },
      "source": [
        "<a href=\"https://colab.research.google.com/github/Seyi85/Deep_learning/blob/main/4_Exercise_Transfer_Learning_(Pytorch).ipynb\" target=\"_parent\"><img src=\"https://colab.research.google.com/assets/colab-badge.svg\" alt=\"Open In Colab\"/></a>"
      ]
    },
    {
      "cell_type": "markdown",
      "metadata": {
        "id": "2yVJENTTHQzu"
      },
      "source": [
        "# Transfer Learning\n",
        "\n",
        "In this notebook, you'll learn how to use pre-trained networks to solved challenging problems in computer vision using the cat vs dog of yesterday.\n",
        "\n",
        "Transfer Learning consists of using, for the feature extraction part, the weights of a model that has been already trained on another dataset. \n",
        "\n",
        "Once trained, these models work astonishingly well as feature detectors for images they weren't trained on. Here we'll use transfer learning to train a network that can classify our cat and dog photos with near perfect accuracy.\n",
        "\n",
        "With `torchvision.models` you can download these pre-trained networks and use them in your applications. We'll include `models` in our imports now."
      ]
    },
    {
      "cell_type": "code",
      "metadata": {
        "id": "NaPEZtU0HQ0H"
      },
      "source": [
        "%matplotlib inline\n",
        "%config InlineBackend.figure_format = 'retina'\n",
        "\n",
        "import matplotlib.pyplot as plt\n",
        "\n",
        "import torch\n",
        "from torch import nn\n",
        "from torch import optim\n",
        "import torch.nn.functional as F\n",
        "from torchvision import datasets, transforms, models"
      ],
      "execution_count": 2,
      "outputs": []
    },
    {
      "cell_type": "code",
      "metadata": {
        "colab": {
          "base_uri": "https://localhost:8080/"
        },
        "id": "7TLidn6CYnBA",
        "outputId": "ce81df72-1859-43ad-d4b8-b2215768f2fe"
      },
      "source": [
        "from google.colab import drive\n",
        "drive.mount('/content/drive')"
      ],
      "execution_count": 4,
      "outputs": [
        {
          "output_type": "stream",
          "text": [
            "Mounted at /content/drive\n"
          ],
          "name": "stdout"
        }
      ]
    },
    {
      "cell_type": "code",
      "metadata": {
        "colab": {
          "base_uri": "https://localhost:8080/"
        },
        "id": "tcpK_pnUID1V",
        "outputId": "df8009e7-c916-40c3-d440-db590098898c"
      },
      "source": [
        "\n"
      ],
      "execution_count": 4,
      "outputs": [
        {
          "output_type": "stream",
          "text": [
            "Mounted at /content/drive\n"
          ],
          "name": "stdout"
        }
      ]
    },
    {
      "cell_type": "markdown",
      "metadata": {
        "id": "MRE2GIiHHQ0K"
      },
      "source": [
        "Most of the pretrained models require the input to be 224x224 images. Also, we'll need to match the normalization used when the models were trained. Each color channel was normalized separately, the means are `[0.485, 0.456, 0.406]` and the standard deviations are `[0.229, 0.224, 0.225]`.\n",
        "\n",
        ">**Bonus Exercise**: Try this at the end: build a data augmentation pipeline using Albumentations library (check the other notebook)."
      ]
    },
    {
      "cell_type": "code",
      "metadata": {
        "id": "8tsgS05OHQ0M"
      },
      "source": [
        "## Load and preprocess the Cat vs Dog dataset of yesterday. \n",
        "## The images should have size 224x224\n",
        "\n",
        "data_dir = '/content/drive/MyDrive/cat_dog'\n",
        "\n",
        "# TODO: Define transforms for the training data and testing data\n",
        "train_transforms = transforms.Compose([transforms.RandomRotation(30),\n",
        "                                       transforms.RandomResizedCrop(224),\n",
        "                                       transforms.RandomHorizontalFlip(),\n",
        "                                       transforms.ToTensor(),\n",
        "                                       transforms.Normalize([0.5,0.5,0.5],\n",
        "                                                            [0.5,0.5,0.5])])\n",
        "\n",
        "test_transforms = transforms.Compose([transforms.RandomRotation(30),\n",
        "                                       transforms.RandomResizedCrop(224),\n",
        "                                       transforms.RandomHorizontalFlip(),\n",
        "                                       transforms.ToTensor(),\n",
        "                                       transforms.Normalize([0.5,0.5,0.5],\n",
        "                                                            [0.5,0.5,0.5])]) \n",
        "\n",
        "\n",
        "\n",
        "# Pass transforms in here, then run the next cell to see how the transforms look\n",
        "train_data = datasets.ImageFolder(data_dir + '/train', transform=train_transforms)\n",
        "test_data =datasets.ImageFolder(data_dir + '/test', transform=train_transforms)\n",
        "\n",
        "trainloader = torch.utils.data.DataLoader(train_data, batch_size=32,shuffle=True)\n",
        "testloader = torch.utils.data.DataLoader(test_data, batch_size=32,shuffle=True)"
      ],
      "execution_count": 5,
      "outputs": []
    },
    {
      "cell_type": "code",
      "metadata": {
        "id": "wkj8kuaTJ1qX"
      },
      "source": [
        ""
      ],
      "execution_count": null,
      "outputs": []
    },
    {
      "cell_type": "markdown",
      "metadata": {
        "id": "HajlZNlUHQ0O"
      },
      "source": [
        "We can load in a model such as [DenseNet](http://pytorch.org/docs/0.3.0/torchvision/models.html#id5). Let's print out the model architecture so we can see what's going on. You can pick other models as well from here: https://pytorch.org/docs/0.3.0/torchvision/models.html#id5"
      ]
    },
    {
      "cell_type": "code",
      "metadata": {
        "scrolled": true,
        "colab": {
          "base_uri": "https://localhost:8080/",
          "height": 1000,
          "referenced_widgets": [
            "347f409d05ea4ef89fcce6bb2ac798bf",
            "3a87b713f1aa45aaaa93b5994bb76429",
            "dade76bdf0f644d3bd83a19d4c2892ae",
            "be8986cf737841628b998be815254394",
            "a7aa381d0b29487291d5404d13ca71e5",
            "e340c7d833444aa1b9f9f289a7e07abc",
            "4e6faa88c9f141548be7ae4f32104a6b",
            "72c397d98f0b41ab8f8feb021fe33052"
          ]
        },
        "id": "QREheH0aHQ0P",
        "outputId": "3b232b7a-a7ac-4cd7-b4cb-e24432662d06"
      },
      "source": [
        "model = models.densenet121(pretrained=True)\n",
        "model"
      ],
      "execution_count": 6,
      "outputs": [
        {
          "output_type": "stream",
          "text": [
            "Downloading: \"https://download.pytorch.org/models/densenet121-a639ec97.pth\" to /root/.cache/torch/hub/checkpoints/densenet121-a639ec97.pth\n"
          ],
          "name": "stderr"
        },
        {
          "output_type": "display_data",
          "data": {
            "application/vnd.jupyter.widget-view+json": {
              "model_id": "347f409d05ea4ef89fcce6bb2ac798bf",
              "version_minor": 0,
              "version_major": 2
            },
            "text/plain": [
              "HBox(children=(FloatProgress(value=0.0, max=32342954.0), HTML(value='')))"
            ]
          },
          "metadata": {
            "tags": []
          }
        },
        {
          "output_type": "stream",
          "text": [
            "\n"
          ],
          "name": "stdout"
        },
        {
          "output_type": "execute_result",
          "data": {
            "text/plain": [
              "DenseNet(\n",
              "  (features): Sequential(\n",
              "    (conv0): Conv2d(3, 64, kernel_size=(7, 7), stride=(2, 2), padding=(3, 3), bias=False)\n",
              "    (norm0): BatchNorm2d(64, eps=1e-05, momentum=0.1, affine=True, track_running_stats=True)\n",
              "    (relu0): ReLU(inplace=True)\n",
              "    (pool0): MaxPool2d(kernel_size=3, stride=2, padding=1, dilation=1, ceil_mode=False)\n",
              "    (denseblock1): _DenseBlock(\n",
              "      (denselayer1): _DenseLayer(\n",
              "        (norm1): BatchNorm2d(64, eps=1e-05, momentum=0.1, affine=True, track_running_stats=True)\n",
              "        (relu1): ReLU(inplace=True)\n",
              "        (conv1): Conv2d(64, 128, kernel_size=(1, 1), stride=(1, 1), bias=False)\n",
              "        (norm2): BatchNorm2d(128, eps=1e-05, momentum=0.1, affine=True, track_running_stats=True)\n",
              "        (relu2): ReLU(inplace=True)\n",
              "        (conv2): Conv2d(128, 32, kernel_size=(3, 3), stride=(1, 1), padding=(1, 1), bias=False)\n",
              "      )\n",
              "      (denselayer2): _DenseLayer(\n",
              "        (norm1): BatchNorm2d(96, eps=1e-05, momentum=0.1, affine=True, track_running_stats=True)\n",
              "        (relu1): ReLU(inplace=True)\n",
              "        (conv1): Conv2d(96, 128, kernel_size=(1, 1), stride=(1, 1), bias=False)\n",
              "        (norm2): BatchNorm2d(128, eps=1e-05, momentum=0.1, affine=True, track_running_stats=True)\n",
              "        (relu2): ReLU(inplace=True)\n",
              "        (conv2): Conv2d(128, 32, kernel_size=(3, 3), stride=(1, 1), padding=(1, 1), bias=False)\n",
              "      )\n",
              "      (denselayer3): _DenseLayer(\n",
              "        (norm1): BatchNorm2d(128, eps=1e-05, momentum=0.1, affine=True, track_running_stats=True)\n",
              "        (relu1): ReLU(inplace=True)\n",
              "        (conv1): Conv2d(128, 128, kernel_size=(1, 1), stride=(1, 1), bias=False)\n",
              "        (norm2): BatchNorm2d(128, eps=1e-05, momentum=0.1, affine=True, track_running_stats=True)\n",
              "        (relu2): ReLU(inplace=True)\n",
              "        (conv2): Conv2d(128, 32, kernel_size=(3, 3), stride=(1, 1), padding=(1, 1), bias=False)\n",
              "      )\n",
              "      (denselayer4): _DenseLayer(\n",
              "        (norm1): BatchNorm2d(160, eps=1e-05, momentum=0.1, affine=True, track_running_stats=True)\n",
              "        (relu1): ReLU(inplace=True)\n",
              "        (conv1): Conv2d(160, 128, kernel_size=(1, 1), stride=(1, 1), bias=False)\n",
              "        (norm2): BatchNorm2d(128, eps=1e-05, momentum=0.1, affine=True, track_running_stats=True)\n",
              "        (relu2): ReLU(inplace=True)\n",
              "        (conv2): Conv2d(128, 32, kernel_size=(3, 3), stride=(1, 1), padding=(1, 1), bias=False)\n",
              "      )\n",
              "      (denselayer5): _DenseLayer(\n",
              "        (norm1): BatchNorm2d(192, eps=1e-05, momentum=0.1, affine=True, track_running_stats=True)\n",
              "        (relu1): ReLU(inplace=True)\n",
              "        (conv1): Conv2d(192, 128, kernel_size=(1, 1), stride=(1, 1), bias=False)\n",
              "        (norm2): BatchNorm2d(128, eps=1e-05, momentum=0.1, affine=True, track_running_stats=True)\n",
              "        (relu2): ReLU(inplace=True)\n",
              "        (conv2): Conv2d(128, 32, kernel_size=(3, 3), stride=(1, 1), padding=(1, 1), bias=False)\n",
              "      )\n",
              "      (denselayer6): _DenseLayer(\n",
              "        (norm1): BatchNorm2d(224, eps=1e-05, momentum=0.1, affine=True, track_running_stats=True)\n",
              "        (relu1): ReLU(inplace=True)\n",
              "        (conv1): Conv2d(224, 128, kernel_size=(1, 1), stride=(1, 1), bias=False)\n",
              "        (norm2): BatchNorm2d(128, eps=1e-05, momentum=0.1, affine=True, track_running_stats=True)\n",
              "        (relu2): ReLU(inplace=True)\n",
              "        (conv2): Conv2d(128, 32, kernel_size=(3, 3), stride=(1, 1), padding=(1, 1), bias=False)\n",
              "      )\n",
              "    )\n",
              "    (transition1): _Transition(\n",
              "      (norm): BatchNorm2d(256, eps=1e-05, momentum=0.1, affine=True, track_running_stats=True)\n",
              "      (relu): ReLU(inplace=True)\n",
              "      (conv): Conv2d(256, 128, kernel_size=(1, 1), stride=(1, 1), bias=False)\n",
              "      (pool): AvgPool2d(kernel_size=2, stride=2, padding=0)\n",
              "    )\n",
              "    (denseblock2): _DenseBlock(\n",
              "      (denselayer1): _DenseLayer(\n",
              "        (norm1): BatchNorm2d(128, eps=1e-05, momentum=0.1, affine=True, track_running_stats=True)\n",
              "        (relu1): ReLU(inplace=True)\n",
              "        (conv1): Conv2d(128, 128, kernel_size=(1, 1), stride=(1, 1), bias=False)\n",
              "        (norm2): BatchNorm2d(128, eps=1e-05, momentum=0.1, affine=True, track_running_stats=True)\n",
              "        (relu2): ReLU(inplace=True)\n",
              "        (conv2): Conv2d(128, 32, kernel_size=(3, 3), stride=(1, 1), padding=(1, 1), bias=False)\n",
              "      )\n",
              "      (denselayer2): _DenseLayer(\n",
              "        (norm1): BatchNorm2d(160, eps=1e-05, momentum=0.1, affine=True, track_running_stats=True)\n",
              "        (relu1): ReLU(inplace=True)\n",
              "        (conv1): Conv2d(160, 128, kernel_size=(1, 1), stride=(1, 1), bias=False)\n",
              "        (norm2): BatchNorm2d(128, eps=1e-05, momentum=0.1, affine=True, track_running_stats=True)\n",
              "        (relu2): ReLU(inplace=True)\n",
              "        (conv2): Conv2d(128, 32, kernel_size=(3, 3), stride=(1, 1), padding=(1, 1), bias=False)\n",
              "      )\n",
              "      (denselayer3): _DenseLayer(\n",
              "        (norm1): BatchNorm2d(192, eps=1e-05, momentum=0.1, affine=True, track_running_stats=True)\n",
              "        (relu1): ReLU(inplace=True)\n",
              "        (conv1): Conv2d(192, 128, kernel_size=(1, 1), stride=(1, 1), bias=False)\n",
              "        (norm2): BatchNorm2d(128, eps=1e-05, momentum=0.1, affine=True, track_running_stats=True)\n",
              "        (relu2): ReLU(inplace=True)\n",
              "        (conv2): Conv2d(128, 32, kernel_size=(3, 3), stride=(1, 1), padding=(1, 1), bias=False)\n",
              "      )\n",
              "      (denselayer4): _DenseLayer(\n",
              "        (norm1): BatchNorm2d(224, eps=1e-05, momentum=0.1, affine=True, track_running_stats=True)\n",
              "        (relu1): ReLU(inplace=True)\n",
              "        (conv1): Conv2d(224, 128, kernel_size=(1, 1), stride=(1, 1), bias=False)\n",
              "        (norm2): BatchNorm2d(128, eps=1e-05, momentum=0.1, affine=True, track_running_stats=True)\n",
              "        (relu2): ReLU(inplace=True)\n",
              "        (conv2): Conv2d(128, 32, kernel_size=(3, 3), stride=(1, 1), padding=(1, 1), bias=False)\n",
              "      )\n",
              "      (denselayer5): _DenseLayer(\n",
              "        (norm1): BatchNorm2d(256, eps=1e-05, momentum=0.1, affine=True, track_running_stats=True)\n",
              "        (relu1): ReLU(inplace=True)\n",
              "        (conv1): Conv2d(256, 128, kernel_size=(1, 1), stride=(1, 1), bias=False)\n",
              "        (norm2): BatchNorm2d(128, eps=1e-05, momentum=0.1, affine=True, track_running_stats=True)\n",
              "        (relu2): ReLU(inplace=True)\n",
              "        (conv2): Conv2d(128, 32, kernel_size=(3, 3), stride=(1, 1), padding=(1, 1), bias=False)\n",
              "      )\n",
              "      (denselayer6): _DenseLayer(\n",
              "        (norm1): BatchNorm2d(288, eps=1e-05, momentum=0.1, affine=True, track_running_stats=True)\n",
              "        (relu1): ReLU(inplace=True)\n",
              "        (conv1): Conv2d(288, 128, kernel_size=(1, 1), stride=(1, 1), bias=False)\n",
              "        (norm2): BatchNorm2d(128, eps=1e-05, momentum=0.1, affine=True, track_running_stats=True)\n",
              "        (relu2): ReLU(inplace=True)\n",
              "        (conv2): Conv2d(128, 32, kernel_size=(3, 3), stride=(1, 1), padding=(1, 1), bias=False)\n",
              "      )\n",
              "      (denselayer7): _DenseLayer(\n",
              "        (norm1): BatchNorm2d(320, eps=1e-05, momentum=0.1, affine=True, track_running_stats=True)\n",
              "        (relu1): ReLU(inplace=True)\n",
              "        (conv1): Conv2d(320, 128, kernel_size=(1, 1), stride=(1, 1), bias=False)\n",
              "        (norm2): BatchNorm2d(128, eps=1e-05, momentum=0.1, affine=True, track_running_stats=True)\n",
              "        (relu2): ReLU(inplace=True)\n",
              "        (conv2): Conv2d(128, 32, kernel_size=(3, 3), stride=(1, 1), padding=(1, 1), bias=False)\n",
              "      )\n",
              "      (denselayer8): _DenseLayer(\n",
              "        (norm1): BatchNorm2d(352, eps=1e-05, momentum=0.1, affine=True, track_running_stats=True)\n",
              "        (relu1): ReLU(inplace=True)\n",
              "        (conv1): Conv2d(352, 128, kernel_size=(1, 1), stride=(1, 1), bias=False)\n",
              "        (norm2): BatchNorm2d(128, eps=1e-05, momentum=0.1, affine=True, track_running_stats=True)\n",
              "        (relu2): ReLU(inplace=True)\n",
              "        (conv2): Conv2d(128, 32, kernel_size=(3, 3), stride=(1, 1), padding=(1, 1), bias=False)\n",
              "      )\n",
              "      (denselayer9): _DenseLayer(\n",
              "        (norm1): BatchNorm2d(384, eps=1e-05, momentum=0.1, affine=True, track_running_stats=True)\n",
              "        (relu1): ReLU(inplace=True)\n",
              "        (conv1): Conv2d(384, 128, kernel_size=(1, 1), stride=(1, 1), bias=False)\n",
              "        (norm2): BatchNorm2d(128, eps=1e-05, momentum=0.1, affine=True, track_running_stats=True)\n",
              "        (relu2): ReLU(inplace=True)\n",
              "        (conv2): Conv2d(128, 32, kernel_size=(3, 3), stride=(1, 1), padding=(1, 1), bias=False)\n",
              "      )\n",
              "      (denselayer10): _DenseLayer(\n",
              "        (norm1): BatchNorm2d(416, eps=1e-05, momentum=0.1, affine=True, track_running_stats=True)\n",
              "        (relu1): ReLU(inplace=True)\n",
              "        (conv1): Conv2d(416, 128, kernel_size=(1, 1), stride=(1, 1), bias=False)\n",
              "        (norm2): BatchNorm2d(128, eps=1e-05, momentum=0.1, affine=True, track_running_stats=True)\n",
              "        (relu2): ReLU(inplace=True)\n",
              "        (conv2): Conv2d(128, 32, kernel_size=(3, 3), stride=(1, 1), padding=(1, 1), bias=False)\n",
              "      )\n",
              "      (denselayer11): _DenseLayer(\n",
              "        (norm1): BatchNorm2d(448, eps=1e-05, momentum=0.1, affine=True, track_running_stats=True)\n",
              "        (relu1): ReLU(inplace=True)\n",
              "        (conv1): Conv2d(448, 128, kernel_size=(1, 1), stride=(1, 1), bias=False)\n",
              "        (norm2): BatchNorm2d(128, eps=1e-05, momentum=0.1, affine=True, track_running_stats=True)\n",
              "        (relu2): ReLU(inplace=True)\n",
              "        (conv2): Conv2d(128, 32, kernel_size=(3, 3), stride=(1, 1), padding=(1, 1), bias=False)\n",
              "      )\n",
              "      (denselayer12): _DenseLayer(\n",
              "        (norm1): BatchNorm2d(480, eps=1e-05, momentum=0.1, affine=True, track_running_stats=True)\n",
              "        (relu1): ReLU(inplace=True)\n",
              "        (conv1): Conv2d(480, 128, kernel_size=(1, 1), stride=(1, 1), bias=False)\n",
              "        (norm2): BatchNorm2d(128, eps=1e-05, momentum=0.1, affine=True, track_running_stats=True)\n",
              "        (relu2): ReLU(inplace=True)\n",
              "        (conv2): Conv2d(128, 32, kernel_size=(3, 3), stride=(1, 1), padding=(1, 1), bias=False)\n",
              "      )\n",
              "    )\n",
              "    (transition2): _Transition(\n",
              "      (norm): BatchNorm2d(512, eps=1e-05, momentum=0.1, affine=True, track_running_stats=True)\n",
              "      (relu): ReLU(inplace=True)\n",
              "      (conv): Conv2d(512, 256, kernel_size=(1, 1), stride=(1, 1), bias=False)\n",
              "      (pool): AvgPool2d(kernel_size=2, stride=2, padding=0)\n",
              "    )\n",
              "    (denseblock3): _DenseBlock(\n",
              "      (denselayer1): _DenseLayer(\n",
              "        (norm1): BatchNorm2d(256, eps=1e-05, momentum=0.1, affine=True, track_running_stats=True)\n",
              "        (relu1): ReLU(inplace=True)\n",
              "        (conv1): Conv2d(256, 128, kernel_size=(1, 1), stride=(1, 1), bias=False)\n",
              "        (norm2): BatchNorm2d(128, eps=1e-05, momentum=0.1, affine=True, track_running_stats=True)\n",
              "        (relu2): ReLU(inplace=True)\n",
              "        (conv2): Conv2d(128, 32, kernel_size=(3, 3), stride=(1, 1), padding=(1, 1), bias=False)\n",
              "      )\n",
              "      (denselayer2): _DenseLayer(\n",
              "        (norm1): BatchNorm2d(288, eps=1e-05, momentum=0.1, affine=True, track_running_stats=True)\n",
              "        (relu1): ReLU(inplace=True)\n",
              "        (conv1): Conv2d(288, 128, kernel_size=(1, 1), stride=(1, 1), bias=False)\n",
              "        (norm2): BatchNorm2d(128, eps=1e-05, momentum=0.1, affine=True, track_running_stats=True)\n",
              "        (relu2): ReLU(inplace=True)\n",
              "        (conv2): Conv2d(128, 32, kernel_size=(3, 3), stride=(1, 1), padding=(1, 1), bias=False)\n",
              "      )\n",
              "      (denselayer3): _DenseLayer(\n",
              "        (norm1): BatchNorm2d(320, eps=1e-05, momentum=0.1, affine=True, track_running_stats=True)\n",
              "        (relu1): ReLU(inplace=True)\n",
              "        (conv1): Conv2d(320, 128, kernel_size=(1, 1), stride=(1, 1), bias=False)\n",
              "        (norm2): BatchNorm2d(128, eps=1e-05, momentum=0.1, affine=True, track_running_stats=True)\n",
              "        (relu2): ReLU(inplace=True)\n",
              "        (conv2): Conv2d(128, 32, kernel_size=(3, 3), stride=(1, 1), padding=(1, 1), bias=False)\n",
              "      )\n",
              "      (denselayer4): _DenseLayer(\n",
              "        (norm1): BatchNorm2d(352, eps=1e-05, momentum=0.1, affine=True, track_running_stats=True)\n",
              "        (relu1): ReLU(inplace=True)\n",
              "        (conv1): Conv2d(352, 128, kernel_size=(1, 1), stride=(1, 1), bias=False)\n",
              "        (norm2): BatchNorm2d(128, eps=1e-05, momentum=0.1, affine=True, track_running_stats=True)\n",
              "        (relu2): ReLU(inplace=True)\n",
              "        (conv2): Conv2d(128, 32, kernel_size=(3, 3), stride=(1, 1), padding=(1, 1), bias=False)\n",
              "      )\n",
              "      (denselayer5): _DenseLayer(\n",
              "        (norm1): BatchNorm2d(384, eps=1e-05, momentum=0.1, affine=True, track_running_stats=True)\n",
              "        (relu1): ReLU(inplace=True)\n",
              "        (conv1): Conv2d(384, 128, kernel_size=(1, 1), stride=(1, 1), bias=False)\n",
              "        (norm2): BatchNorm2d(128, eps=1e-05, momentum=0.1, affine=True, track_running_stats=True)\n",
              "        (relu2): ReLU(inplace=True)\n",
              "        (conv2): Conv2d(128, 32, kernel_size=(3, 3), stride=(1, 1), padding=(1, 1), bias=False)\n",
              "      )\n",
              "      (denselayer6): _DenseLayer(\n",
              "        (norm1): BatchNorm2d(416, eps=1e-05, momentum=0.1, affine=True, track_running_stats=True)\n",
              "        (relu1): ReLU(inplace=True)\n",
              "        (conv1): Conv2d(416, 128, kernel_size=(1, 1), stride=(1, 1), bias=False)\n",
              "        (norm2): BatchNorm2d(128, eps=1e-05, momentum=0.1, affine=True, track_running_stats=True)\n",
              "        (relu2): ReLU(inplace=True)\n",
              "        (conv2): Conv2d(128, 32, kernel_size=(3, 3), stride=(1, 1), padding=(1, 1), bias=False)\n",
              "      )\n",
              "      (denselayer7): _DenseLayer(\n",
              "        (norm1): BatchNorm2d(448, eps=1e-05, momentum=0.1, affine=True, track_running_stats=True)\n",
              "        (relu1): ReLU(inplace=True)\n",
              "        (conv1): Conv2d(448, 128, kernel_size=(1, 1), stride=(1, 1), bias=False)\n",
              "        (norm2): BatchNorm2d(128, eps=1e-05, momentum=0.1, affine=True, track_running_stats=True)\n",
              "        (relu2): ReLU(inplace=True)\n",
              "        (conv2): Conv2d(128, 32, kernel_size=(3, 3), stride=(1, 1), padding=(1, 1), bias=False)\n",
              "      )\n",
              "      (denselayer8): _DenseLayer(\n",
              "        (norm1): BatchNorm2d(480, eps=1e-05, momentum=0.1, affine=True, track_running_stats=True)\n",
              "        (relu1): ReLU(inplace=True)\n",
              "        (conv1): Conv2d(480, 128, kernel_size=(1, 1), stride=(1, 1), bias=False)\n",
              "        (norm2): BatchNorm2d(128, eps=1e-05, momentum=0.1, affine=True, track_running_stats=True)\n",
              "        (relu2): ReLU(inplace=True)\n",
              "        (conv2): Conv2d(128, 32, kernel_size=(3, 3), stride=(1, 1), padding=(1, 1), bias=False)\n",
              "      )\n",
              "      (denselayer9): _DenseLayer(\n",
              "        (norm1): BatchNorm2d(512, eps=1e-05, momentum=0.1, affine=True, track_running_stats=True)\n",
              "        (relu1): ReLU(inplace=True)\n",
              "        (conv1): Conv2d(512, 128, kernel_size=(1, 1), stride=(1, 1), bias=False)\n",
              "        (norm2): BatchNorm2d(128, eps=1e-05, momentum=0.1, affine=True, track_running_stats=True)\n",
              "        (relu2): ReLU(inplace=True)\n",
              "        (conv2): Conv2d(128, 32, kernel_size=(3, 3), stride=(1, 1), padding=(1, 1), bias=False)\n",
              "      )\n",
              "      (denselayer10): _DenseLayer(\n",
              "        (norm1): BatchNorm2d(544, eps=1e-05, momentum=0.1, affine=True, track_running_stats=True)\n",
              "        (relu1): ReLU(inplace=True)\n",
              "        (conv1): Conv2d(544, 128, kernel_size=(1, 1), stride=(1, 1), bias=False)\n",
              "        (norm2): BatchNorm2d(128, eps=1e-05, momentum=0.1, affine=True, track_running_stats=True)\n",
              "        (relu2): ReLU(inplace=True)\n",
              "        (conv2): Conv2d(128, 32, kernel_size=(3, 3), stride=(1, 1), padding=(1, 1), bias=False)\n",
              "      )\n",
              "      (denselayer11): _DenseLayer(\n",
              "        (norm1): BatchNorm2d(576, eps=1e-05, momentum=0.1, affine=True, track_running_stats=True)\n",
              "        (relu1): ReLU(inplace=True)\n",
              "        (conv1): Conv2d(576, 128, kernel_size=(1, 1), stride=(1, 1), bias=False)\n",
              "        (norm2): BatchNorm2d(128, eps=1e-05, momentum=0.1, affine=True, track_running_stats=True)\n",
              "        (relu2): ReLU(inplace=True)\n",
              "        (conv2): Conv2d(128, 32, kernel_size=(3, 3), stride=(1, 1), padding=(1, 1), bias=False)\n",
              "      )\n",
              "      (denselayer12): _DenseLayer(\n",
              "        (norm1): BatchNorm2d(608, eps=1e-05, momentum=0.1, affine=True, track_running_stats=True)\n",
              "        (relu1): ReLU(inplace=True)\n",
              "        (conv1): Conv2d(608, 128, kernel_size=(1, 1), stride=(1, 1), bias=False)\n",
              "        (norm2): BatchNorm2d(128, eps=1e-05, momentum=0.1, affine=True, track_running_stats=True)\n",
              "        (relu2): ReLU(inplace=True)\n",
              "        (conv2): Conv2d(128, 32, kernel_size=(3, 3), stride=(1, 1), padding=(1, 1), bias=False)\n",
              "      )\n",
              "      (denselayer13): _DenseLayer(\n",
              "        (norm1): BatchNorm2d(640, eps=1e-05, momentum=0.1, affine=True, track_running_stats=True)\n",
              "        (relu1): ReLU(inplace=True)\n",
              "        (conv1): Conv2d(640, 128, kernel_size=(1, 1), stride=(1, 1), bias=False)\n",
              "        (norm2): BatchNorm2d(128, eps=1e-05, momentum=0.1, affine=True, track_running_stats=True)\n",
              "        (relu2): ReLU(inplace=True)\n",
              "        (conv2): Conv2d(128, 32, kernel_size=(3, 3), stride=(1, 1), padding=(1, 1), bias=False)\n",
              "      )\n",
              "      (denselayer14): _DenseLayer(\n",
              "        (norm1): BatchNorm2d(672, eps=1e-05, momentum=0.1, affine=True, track_running_stats=True)\n",
              "        (relu1): ReLU(inplace=True)\n",
              "        (conv1): Conv2d(672, 128, kernel_size=(1, 1), stride=(1, 1), bias=False)\n",
              "        (norm2): BatchNorm2d(128, eps=1e-05, momentum=0.1, affine=True, track_running_stats=True)\n",
              "        (relu2): ReLU(inplace=True)\n",
              "        (conv2): Conv2d(128, 32, kernel_size=(3, 3), stride=(1, 1), padding=(1, 1), bias=False)\n",
              "      )\n",
              "      (denselayer15): _DenseLayer(\n",
              "        (norm1): BatchNorm2d(704, eps=1e-05, momentum=0.1, affine=True, track_running_stats=True)\n",
              "        (relu1): ReLU(inplace=True)\n",
              "        (conv1): Conv2d(704, 128, kernel_size=(1, 1), stride=(1, 1), bias=False)\n",
              "        (norm2): BatchNorm2d(128, eps=1e-05, momentum=0.1, affine=True, track_running_stats=True)\n",
              "        (relu2): ReLU(inplace=True)\n",
              "        (conv2): Conv2d(128, 32, kernel_size=(3, 3), stride=(1, 1), padding=(1, 1), bias=False)\n",
              "      )\n",
              "      (denselayer16): _DenseLayer(\n",
              "        (norm1): BatchNorm2d(736, eps=1e-05, momentum=0.1, affine=True, track_running_stats=True)\n",
              "        (relu1): ReLU(inplace=True)\n",
              "        (conv1): Conv2d(736, 128, kernel_size=(1, 1), stride=(1, 1), bias=False)\n",
              "        (norm2): BatchNorm2d(128, eps=1e-05, momentum=0.1, affine=True, track_running_stats=True)\n",
              "        (relu2): ReLU(inplace=True)\n",
              "        (conv2): Conv2d(128, 32, kernel_size=(3, 3), stride=(1, 1), padding=(1, 1), bias=False)\n",
              "      )\n",
              "      (denselayer17): _DenseLayer(\n",
              "        (norm1): BatchNorm2d(768, eps=1e-05, momentum=0.1, affine=True, track_running_stats=True)\n",
              "        (relu1): ReLU(inplace=True)\n",
              "        (conv1): Conv2d(768, 128, kernel_size=(1, 1), stride=(1, 1), bias=False)\n",
              "        (norm2): BatchNorm2d(128, eps=1e-05, momentum=0.1, affine=True, track_running_stats=True)\n",
              "        (relu2): ReLU(inplace=True)\n",
              "        (conv2): Conv2d(128, 32, kernel_size=(3, 3), stride=(1, 1), padding=(1, 1), bias=False)\n",
              "      )\n",
              "      (denselayer18): _DenseLayer(\n",
              "        (norm1): BatchNorm2d(800, eps=1e-05, momentum=0.1, affine=True, track_running_stats=True)\n",
              "        (relu1): ReLU(inplace=True)\n",
              "        (conv1): Conv2d(800, 128, kernel_size=(1, 1), stride=(1, 1), bias=False)\n",
              "        (norm2): BatchNorm2d(128, eps=1e-05, momentum=0.1, affine=True, track_running_stats=True)\n",
              "        (relu2): ReLU(inplace=True)\n",
              "        (conv2): Conv2d(128, 32, kernel_size=(3, 3), stride=(1, 1), padding=(1, 1), bias=False)\n",
              "      )\n",
              "      (denselayer19): _DenseLayer(\n",
              "        (norm1): BatchNorm2d(832, eps=1e-05, momentum=0.1, affine=True, track_running_stats=True)\n",
              "        (relu1): ReLU(inplace=True)\n",
              "        (conv1): Conv2d(832, 128, kernel_size=(1, 1), stride=(1, 1), bias=False)\n",
              "        (norm2): BatchNorm2d(128, eps=1e-05, momentum=0.1, affine=True, track_running_stats=True)\n",
              "        (relu2): ReLU(inplace=True)\n",
              "        (conv2): Conv2d(128, 32, kernel_size=(3, 3), stride=(1, 1), padding=(1, 1), bias=False)\n",
              "      )\n",
              "      (denselayer20): _DenseLayer(\n",
              "        (norm1): BatchNorm2d(864, eps=1e-05, momentum=0.1, affine=True, track_running_stats=True)\n",
              "        (relu1): ReLU(inplace=True)\n",
              "        (conv1): Conv2d(864, 128, kernel_size=(1, 1), stride=(1, 1), bias=False)\n",
              "        (norm2): BatchNorm2d(128, eps=1e-05, momentum=0.1, affine=True, track_running_stats=True)\n",
              "        (relu2): ReLU(inplace=True)\n",
              "        (conv2): Conv2d(128, 32, kernel_size=(3, 3), stride=(1, 1), padding=(1, 1), bias=False)\n",
              "      )\n",
              "      (denselayer21): _DenseLayer(\n",
              "        (norm1): BatchNorm2d(896, eps=1e-05, momentum=0.1, affine=True, track_running_stats=True)\n",
              "        (relu1): ReLU(inplace=True)\n",
              "        (conv1): Conv2d(896, 128, kernel_size=(1, 1), stride=(1, 1), bias=False)\n",
              "        (norm2): BatchNorm2d(128, eps=1e-05, momentum=0.1, affine=True, track_running_stats=True)\n",
              "        (relu2): ReLU(inplace=True)\n",
              "        (conv2): Conv2d(128, 32, kernel_size=(3, 3), stride=(1, 1), padding=(1, 1), bias=False)\n",
              "      )\n",
              "      (denselayer22): _DenseLayer(\n",
              "        (norm1): BatchNorm2d(928, eps=1e-05, momentum=0.1, affine=True, track_running_stats=True)\n",
              "        (relu1): ReLU(inplace=True)\n",
              "        (conv1): Conv2d(928, 128, kernel_size=(1, 1), stride=(1, 1), bias=False)\n",
              "        (norm2): BatchNorm2d(128, eps=1e-05, momentum=0.1, affine=True, track_running_stats=True)\n",
              "        (relu2): ReLU(inplace=True)\n",
              "        (conv2): Conv2d(128, 32, kernel_size=(3, 3), stride=(1, 1), padding=(1, 1), bias=False)\n",
              "      )\n",
              "      (denselayer23): _DenseLayer(\n",
              "        (norm1): BatchNorm2d(960, eps=1e-05, momentum=0.1, affine=True, track_running_stats=True)\n",
              "        (relu1): ReLU(inplace=True)\n",
              "        (conv1): Conv2d(960, 128, kernel_size=(1, 1), stride=(1, 1), bias=False)\n",
              "        (norm2): BatchNorm2d(128, eps=1e-05, momentum=0.1, affine=True, track_running_stats=True)\n",
              "        (relu2): ReLU(inplace=True)\n",
              "        (conv2): Conv2d(128, 32, kernel_size=(3, 3), stride=(1, 1), padding=(1, 1), bias=False)\n",
              "      )\n",
              "      (denselayer24): _DenseLayer(\n",
              "        (norm1): BatchNorm2d(992, eps=1e-05, momentum=0.1, affine=True, track_running_stats=True)\n",
              "        (relu1): ReLU(inplace=True)\n",
              "        (conv1): Conv2d(992, 128, kernel_size=(1, 1), stride=(1, 1), bias=False)\n",
              "        (norm2): BatchNorm2d(128, eps=1e-05, momentum=0.1, affine=True, track_running_stats=True)\n",
              "        (relu2): ReLU(inplace=True)\n",
              "        (conv2): Conv2d(128, 32, kernel_size=(3, 3), stride=(1, 1), padding=(1, 1), bias=False)\n",
              "      )\n",
              "    )\n",
              "    (transition3): _Transition(\n",
              "      (norm): BatchNorm2d(1024, eps=1e-05, momentum=0.1, affine=True, track_running_stats=True)\n",
              "      (relu): ReLU(inplace=True)\n",
              "      (conv): Conv2d(1024, 512, kernel_size=(1, 1), stride=(1, 1), bias=False)\n",
              "      (pool): AvgPool2d(kernel_size=2, stride=2, padding=0)\n",
              "    )\n",
              "    (denseblock4): _DenseBlock(\n",
              "      (denselayer1): _DenseLayer(\n",
              "        (norm1): BatchNorm2d(512, eps=1e-05, momentum=0.1, affine=True, track_running_stats=True)\n",
              "        (relu1): ReLU(inplace=True)\n",
              "        (conv1): Conv2d(512, 128, kernel_size=(1, 1), stride=(1, 1), bias=False)\n",
              "        (norm2): BatchNorm2d(128, eps=1e-05, momentum=0.1, affine=True, track_running_stats=True)\n",
              "        (relu2): ReLU(inplace=True)\n",
              "        (conv2): Conv2d(128, 32, kernel_size=(3, 3), stride=(1, 1), padding=(1, 1), bias=False)\n",
              "      )\n",
              "      (denselayer2): _DenseLayer(\n",
              "        (norm1): BatchNorm2d(544, eps=1e-05, momentum=0.1, affine=True, track_running_stats=True)\n",
              "        (relu1): ReLU(inplace=True)\n",
              "        (conv1): Conv2d(544, 128, kernel_size=(1, 1), stride=(1, 1), bias=False)\n",
              "        (norm2): BatchNorm2d(128, eps=1e-05, momentum=0.1, affine=True, track_running_stats=True)\n",
              "        (relu2): ReLU(inplace=True)\n",
              "        (conv2): Conv2d(128, 32, kernel_size=(3, 3), stride=(1, 1), padding=(1, 1), bias=False)\n",
              "      )\n",
              "      (denselayer3): _DenseLayer(\n",
              "        (norm1): BatchNorm2d(576, eps=1e-05, momentum=0.1, affine=True, track_running_stats=True)\n",
              "        (relu1): ReLU(inplace=True)\n",
              "        (conv1): Conv2d(576, 128, kernel_size=(1, 1), stride=(1, 1), bias=False)\n",
              "        (norm2): BatchNorm2d(128, eps=1e-05, momentum=0.1, affine=True, track_running_stats=True)\n",
              "        (relu2): ReLU(inplace=True)\n",
              "        (conv2): Conv2d(128, 32, kernel_size=(3, 3), stride=(1, 1), padding=(1, 1), bias=False)\n",
              "      )\n",
              "      (denselayer4): _DenseLayer(\n",
              "        (norm1): BatchNorm2d(608, eps=1e-05, momentum=0.1, affine=True, track_running_stats=True)\n",
              "        (relu1): ReLU(inplace=True)\n",
              "        (conv1): Conv2d(608, 128, kernel_size=(1, 1), stride=(1, 1), bias=False)\n",
              "        (norm2): BatchNorm2d(128, eps=1e-05, momentum=0.1, affine=True, track_running_stats=True)\n",
              "        (relu2): ReLU(inplace=True)\n",
              "        (conv2): Conv2d(128, 32, kernel_size=(3, 3), stride=(1, 1), padding=(1, 1), bias=False)\n",
              "      )\n",
              "      (denselayer5): _DenseLayer(\n",
              "        (norm1): BatchNorm2d(640, eps=1e-05, momentum=0.1, affine=True, track_running_stats=True)\n",
              "        (relu1): ReLU(inplace=True)\n",
              "        (conv1): Conv2d(640, 128, kernel_size=(1, 1), stride=(1, 1), bias=False)\n",
              "        (norm2): BatchNorm2d(128, eps=1e-05, momentum=0.1, affine=True, track_running_stats=True)\n",
              "        (relu2): ReLU(inplace=True)\n",
              "        (conv2): Conv2d(128, 32, kernel_size=(3, 3), stride=(1, 1), padding=(1, 1), bias=False)\n",
              "      )\n",
              "      (denselayer6): _DenseLayer(\n",
              "        (norm1): BatchNorm2d(672, eps=1e-05, momentum=0.1, affine=True, track_running_stats=True)\n",
              "        (relu1): ReLU(inplace=True)\n",
              "        (conv1): Conv2d(672, 128, kernel_size=(1, 1), stride=(1, 1), bias=False)\n",
              "        (norm2): BatchNorm2d(128, eps=1e-05, momentum=0.1, affine=True, track_running_stats=True)\n",
              "        (relu2): ReLU(inplace=True)\n",
              "        (conv2): Conv2d(128, 32, kernel_size=(3, 3), stride=(1, 1), padding=(1, 1), bias=False)\n",
              "      )\n",
              "      (denselayer7): _DenseLayer(\n",
              "        (norm1): BatchNorm2d(704, eps=1e-05, momentum=0.1, affine=True, track_running_stats=True)\n",
              "        (relu1): ReLU(inplace=True)\n",
              "        (conv1): Conv2d(704, 128, kernel_size=(1, 1), stride=(1, 1), bias=False)\n",
              "        (norm2): BatchNorm2d(128, eps=1e-05, momentum=0.1, affine=True, track_running_stats=True)\n",
              "        (relu2): ReLU(inplace=True)\n",
              "        (conv2): Conv2d(128, 32, kernel_size=(3, 3), stride=(1, 1), padding=(1, 1), bias=False)\n",
              "      )\n",
              "      (denselayer8): _DenseLayer(\n",
              "        (norm1): BatchNorm2d(736, eps=1e-05, momentum=0.1, affine=True, track_running_stats=True)\n",
              "        (relu1): ReLU(inplace=True)\n",
              "        (conv1): Conv2d(736, 128, kernel_size=(1, 1), stride=(1, 1), bias=False)\n",
              "        (norm2): BatchNorm2d(128, eps=1e-05, momentum=0.1, affine=True, track_running_stats=True)\n",
              "        (relu2): ReLU(inplace=True)\n",
              "        (conv2): Conv2d(128, 32, kernel_size=(3, 3), stride=(1, 1), padding=(1, 1), bias=False)\n",
              "      )\n",
              "      (denselayer9): _DenseLayer(\n",
              "        (norm1): BatchNorm2d(768, eps=1e-05, momentum=0.1, affine=True, track_running_stats=True)\n",
              "        (relu1): ReLU(inplace=True)\n",
              "        (conv1): Conv2d(768, 128, kernel_size=(1, 1), stride=(1, 1), bias=False)\n",
              "        (norm2): BatchNorm2d(128, eps=1e-05, momentum=0.1, affine=True, track_running_stats=True)\n",
              "        (relu2): ReLU(inplace=True)\n",
              "        (conv2): Conv2d(128, 32, kernel_size=(3, 3), stride=(1, 1), padding=(1, 1), bias=False)\n",
              "      )\n",
              "      (denselayer10): _DenseLayer(\n",
              "        (norm1): BatchNorm2d(800, eps=1e-05, momentum=0.1, affine=True, track_running_stats=True)\n",
              "        (relu1): ReLU(inplace=True)\n",
              "        (conv1): Conv2d(800, 128, kernel_size=(1, 1), stride=(1, 1), bias=False)\n",
              "        (norm2): BatchNorm2d(128, eps=1e-05, momentum=0.1, affine=True, track_running_stats=True)\n",
              "        (relu2): ReLU(inplace=True)\n",
              "        (conv2): Conv2d(128, 32, kernel_size=(3, 3), stride=(1, 1), padding=(1, 1), bias=False)\n",
              "      )\n",
              "      (denselayer11): _DenseLayer(\n",
              "        (norm1): BatchNorm2d(832, eps=1e-05, momentum=0.1, affine=True, track_running_stats=True)\n",
              "        (relu1): ReLU(inplace=True)\n",
              "        (conv1): Conv2d(832, 128, kernel_size=(1, 1), stride=(1, 1), bias=False)\n",
              "        (norm2): BatchNorm2d(128, eps=1e-05, momentum=0.1, affine=True, track_running_stats=True)\n",
              "        (relu2): ReLU(inplace=True)\n",
              "        (conv2): Conv2d(128, 32, kernel_size=(3, 3), stride=(1, 1), padding=(1, 1), bias=False)\n",
              "      )\n",
              "      (denselayer12): _DenseLayer(\n",
              "        (norm1): BatchNorm2d(864, eps=1e-05, momentum=0.1, affine=True, track_running_stats=True)\n",
              "        (relu1): ReLU(inplace=True)\n",
              "        (conv1): Conv2d(864, 128, kernel_size=(1, 1), stride=(1, 1), bias=False)\n",
              "        (norm2): BatchNorm2d(128, eps=1e-05, momentum=0.1, affine=True, track_running_stats=True)\n",
              "        (relu2): ReLU(inplace=True)\n",
              "        (conv2): Conv2d(128, 32, kernel_size=(3, 3), stride=(1, 1), padding=(1, 1), bias=False)\n",
              "      )\n",
              "      (denselayer13): _DenseLayer(\n",
              "        (norm1): BatchNorm2d(896, eps=1e-05, momentum=0.1, affine=True, track_running_stats=True)\n",
              "        (relu1): ReLU(inplace=True)\n",
              "        (conv1): Conv2d(896, 128, kernel_size=(1, 1), stride=(1, 1), bias=False)\n",
              "        (norm2): BatchNorm2d(128, eps=1e-05, momentum=0.1, affine=True, track_running_stats=True)\n",
              "        (relu2): ReLU(inplace=True)\n",
              "        (conv2): Conv2d(128, 32, kernel_size=(3, 3), stride=(1, 1), padding=(1, 1), bias=False)\n",
              "      )\n",
              "      (denselayer14): _DenseLayer(\n",
              "        (norm1): BatchNorm2d(928, eps=1e-05, momentum=0.1, affine=True, track_running_stats=True)\n",
              "        (relu1): ReLU(inplace=True)\n",
              "        (conv1): Conv2d(928, 128, kernel_size=(1, 1), stride=(1, 1), bias=False)\n",
              "        (norm2): BatchNorm2d(128, eps=1e-05, momentum=0.1, affine=True, track_running_stats=True)\n",
              "        (relu2): ReLU(inplace=True)\n",
              "        (conv2): Conv2d(128, 32, kernel_size=(3, 3), stride=(1, 1), padding=(1, 1), bias=False)\n",
              "      )\n",
              "      (denselayer15): _DenseLayer(\n",
              "        (norm1): BatchNorm2d(960, eps=1e-05, momentum=0.1, affine=True, track_running_stats=True)\n",
              "        (relu1): ReLU(inplace=True)\n",
              "        (conv1): Conv2d(960, 128, kernel_size=(1, 1), stride=(1, 1), bias=False)\n",
              "        (norm2): BatchNorm2d(128, eps=1e-05, momentum=0.1, affine=True, track_running_stats=True)\n",
              "        (relu2): ReLU(inplace=True)\n",
              "        (conv2): Conv2d(128, 32, kernel_size=(3, 3), stride=(1, 1), padding=(1, 1), bias=False)\n",
              "      )\n",
              "      (denselayer16): _DenseLayer(\n",
              "        (norm1): BatchNorm2d(992, eps=1e-05, momentum=0.1, affine=True, track_running_stats=True)\n",
              "        (relu1): ReLU(inplace=True)\n",
              "        (conv1): Conv2d(992, 128, kernel_size=(1, 1), stride=(1, 1), bias=False)\n",
              "        (norm2): BatchNorm2d(128, eps=1e-05, momentum=0.1, affine=True, track_running_stats=True)\n",
              "        (relu2): ReLU(inplace=True)\n",
              "        (conv2): Conv2d(128, 32, kernel_size=(3, 3), stride=(1, 1), padding=(1, 1), bias=False)\n",
              "      )\n",
              "    )\n",
              "    (norm5): BatchNorm2d(1024, eps=1e-05, momentum=0.1, affine=True, track_running_stats=True)\n",
              "  )\n",
              "  (classifier): Linear(in_features=1024, out_features=1000, bias=True)\n",
              ")"
            ]
          },
          "metadata": {
            "tags": []
          },
          "execution_count": 6
        }
      ]
    },
    {
      "cell_type": "markdown",
      "metadata": {
        "id": "r76lbkCQHQ0U"
      },
      "source": [
        "This model is built out of two main parts, the features and the classifier. The features part is a stack of convolutional layers and overall works as a feature detector that can be fed into a classifier. The classifier part is a single fully-connected layer `(classifier): Linear(in_features=1024, out_features=1000)`. This layer was trained on the ImageNet dataset, so it won't work for our specific problem. That means **we need to replace the classifier, but the features will work perfectly on their own**. *In general, I think about pre-trained networks as amazingly good feature detectors that can be used as the input for simple feed-forward classifiers.*\n",
        "\n"
      ]
    },
    {
      "cell_type": "code",
      "metadata": {
        "id": "K8XMtGKdHQ0W"
      },
      "source": [
        "# Freeze parameters so we don't backprop through them\n",
        "for param in model.parameters():\n",
        "    param.requires_grad = False\n",
        "\n",
        "from collections import OrderedDict\n",
        "classifier = nn. Sequential(\n",
        "    nn.Linear(in_features=1024, out_features=256,bias=True),\n",
        "    nn.ReLU(),\n",
        "    nn.Linear(in_features=256, out_features=2,bias=True),\n",
        "    nn.LogSoftmax(dim=1)\n",
        "    )\n",
        "\n",
        "#classifier = nn.Sequential(OrderedDict([# your code here]))\n",
        "    \n",
        "model.classifier = classifier"
      ],
      "execution_count": 7,
      "outputs": []
    },
    {
      "cell_type": "markdown",
      "metadata": {
        "id": "CsP4gZheHQ0X"
      },
      "source": [
        "With our model built, we need to train the classifier. However, now we're using a **really deep** neural network. If you try to train this on a CPU like normal, it will take a long, long time. Instead, we're going to use the GPU to do the calculations. The linear algebra computations are done in parallel on the GPU leading to 100x increased training speeds. It's also possible to train on multiple GPUs, further decreasing training time.\n",
        "\n",
        "PyTorch, along with pretty much every other deep learning framework, uses [CUDA](https://developer.nvidia.com/cuda-zone) to efficiently compute the forward and backwards passes on the GPU. In PyTorch, you move your model parameters and other tensors to the GPU memory using `model.to('cuda')`. You can move them back from the GPU with `model.to('cpu')` which you'll commonly do when you need to operate on the network output outside of PyTorch. As a demonstration of the increased speed, I'll compare how long it takes to perform a forward and backward pass with and without a GPU."
      ]
    },
    {
      "cell_type": "code",
      "metadata": {
        "id": "xE3mcHecHQ0Z"
      },
      "source": [
        "import time"
      ],
      "execution_count": 8,
      "outputs": []
    },
    {
      "cell_type": "markdown",
      "metadata": {
        "id": "Zg7rfiMcHQ0a"
      },
      "source": [
        "We can check if the GPU is available with \n",
        "\n",
        "`torch.cuda.is_available()` .\n",
        "\n",
        "This command can be used to make a model that is agnostic to the device we are using, simply defining:\n",
        "\n",
        "`device = torch.device(\"cuda:0\" if torch.cuda.is_available() else \"cpu\")`\n",
        "\n",
        "in this way, device will be \"cuda:0\" if a GPU is available, or \"cpu\" if it is not!\n",
        "\n"
      ]
    },
    {
      "cell_type": "code",
      "metadata": {
        "id": "cNszA4E7HQ0b"
      },
      "source": [
        "device = torch.device(\"cuda:0\" if torch.cuda.is_available() else \"cpu\")"
      ],
      "execution_count": 9,
      "outputs": []
    },
    {
      "cell_type": "markdown",
      "metadata": {
        "id": "Ms2X8UiYHQ0c"
      },
      "source": [
        "So, whenever you get a new Tensor or Module:\n",
        "\n",
        "```python\n",
        "input = data.to(device)\n",
        "model = MyModule(...).to(device)\n",
        "```\n",
        "\n",
        "This tells the machine to move the data or the model on the GPU if available, so that you can speed up a lot your training process! If the data are already on cpu/gpu and you are running the lines above, nothing will happen! \n"
      ]
    },
    {
      "cell_type": "code",
      "metadata": {
        "id": "QSpGJn0oHQ0d"
      },
      "source": [
        "# Use GPU if it's available\n",
        "device = torch.device(\"cuda\" if torch.cuda.is_available() else \"cpu\")\n",
        "\n",
        "model = models.densenet121(pretrained=True)\n",
        "\n",
        "# Freeze parameters so we don't backprop through them\n",
        "for param in model.parameters():\n",
        "    param.requires_grad = False\n",
        "\n",
        "# Change the classifier to make it work with your binary classification problem\n",
        "\n",
        "model.classifier = nn.Sequential(\n",
        "    nn.Linear(in_features=1024, out_features=256,bias=True),\n",
        "    nn.ReLU(),\n",
        "    nn.Linear(in_features=256, out_features=2,bias=True),\n",
        "    nn.LogSoftmax(dim=1)\n",
        "    )\n",
        "\n",
        "criterion = nn.NLLLoss()\n",
        "\n",
        "# Only train the classifier parameters, feature parameters are frozen\n",
        "optimizer = optim.Adam(model.classifier.parameters(), lr=0.003)\n",
        "\n",
        "model.to(device);"
      ],
      "execution_count": 10,
      "outputs": []
    },
    {
      "cell_type": "markdown",
      "metadata": {
        "id": "Kqh4SsgqHQ0e"
      },
      "source": [
        ">**Exercise** Complete the code below to complete the training and the validation."
      ]
    },
    {
      "cell_type": "code",
      "metadata": {
        "colab": {
          "base_uri": "https://localhost:8080/"
        },
        "id": "Jto02viwHQ0g",
        "outputId": "db6f946d-a65a-4169-9ae4-82bd78344411"
      },
      "source": [
        "epochs = 1\n",
        "steps = 0\n",
        "running_loss = 0\n",
        "print_every = 5\n",
        "for epoch in range(epochs):\n",
        "    for inputs, labels in trainloader:\n",
        "        steps += 1\n",
        "        # Move input and label tensors to the default device\n",
        "        inputs, labels = inputs.to(device), labels.to(device)\n",
        "        \n",
        "        # write the training loop. call the loss \"loss\" so that the line below will work\n",
        "\n",
        "        optimizer.zero_grad()\n",
        "\n",
        "        output = model.forward(inputs)   # 1) Forward pass\n",
        "        loss = criterion(output, labels) # 2) Compute loss\n",
        "        loss.backward()                  # 3) Backward pass\n",
        "        optimizer.step()\n",
        "\n",
        "        running_loss += loss.item()\n",
        "        \n",
        "        if steps % print_every == 0:\n",
        "            test_loss = 0\n",
        "            accuracy = 0\n",
        "            # REMEMBER TO ACTIVATE THE EVAL MODE\n",
        "            # ...\n",
        "\n",
        "            model.eval() \n",
        "            with torch.no_grad():\n",
        "                total = 0\n",
        "                correct = 0\n",
        "                \n",
        "        \n",
        "                for inputs, labels in testloader:\n",
        "                    inputs, labels = inputs.to(device), labels.to(device)\n",
        "                    \n",
        "                    logps = model.forward(inputs)\n",
        "                    batch_loss = criterion(logps, labels)\n",
        "                    \n",
        "                    test_loss += batch_loss.item()\n",
        "                    \n",
        "                    # Calculate accuracy\n",
        "                    _, predicted = torch.max(logps.data, 1)\n",
        "                    total += labels.size(0)\n",
        "                    correct += (predicted == labels).sum().item()\n",
        "                    accuracy += (correct/total)*100 \n",
        "                   \n",
        "            print(f\"Epoch {epoch+1}/{epochs}.. \"\n",
        "                  f\"Train loss: {running_loss/print_every:.3f}.. \"\n",
        "                  f\"Test loss: {test_loss/len(testloader):.3f}.. \"\n",
        "                  f\"Test accuracy: {accuracy/len(testloader):.3f}\")\n",
        "            running_loss = 0\n",
        "            # REMEMBER TO REACTIVATE THE TRAIN MODE\n",
        "            model.train()"
      ],
      "execution_count": null,
      "outputs": [
        {
          "output_type": "stream",
          "text": [
            "Epoch 1/1.. Train loss: 0.936.. Test loss: 0.452.. Test accuracy: 77.747\n",
            "Epoch 1/1.. Train loss: 0.430.. Test loss: 0.299.. Test accuracy: 91.062\n",
            "Epoch 1/1.. Train loss: 0.322.. Test loss: 0.213.. Test accuracy: 91.892\n",
            "Epoch 1/1.. Train loss: 0.263.. Test loss: 0.197.. Test accuracy: 91.998\n",
            "Epoch 1/1.. Train loss: 0.218.. Test loss: 0.179.. Test accuracy: 92.102\n",
            "Epoch 1/1.. Train loss: 0.274.. Test loss: 0.270.. Test accuracy: 89.720\n",
            "Epoch 1/1.. Train loss: 0.457.. Test loss: 0.177.. Test accuracy: 92.281\n",
            "Epoch 1/1.. Train loss: 0.398.. Test loss: 0.182.. Test accuracy: 92.675\n",
            "Epoch 1/1.. Train loss: 0.181.. Test loss: 0.162.. Test accuracy: 94.016\n",
            "Epoch 1/1.. Train loss: 0.128.. Test loss: 0.144.. Test accuracy: 94.541\n",
            "Epoch 1/1.. Train loss: 0.194.. Test loss: 0.154.. Test accuracy: 93.227\n",
            "Epoch 1/1.. Train loss: 0.139.. Test loss: 0.142.. Test accuracy: 94.798\n",
            "Epoch 1/1.. Train loss: 0.184.. Test loss: 0.141.. Test accuracy: 93.432\n",
            "Epoch 1/1.. Train loss: 0.208.. Test loss: 0.149.. Test accuracy: 93.210\n",
            "Epoch 1/1.. Train loss: 0.226.. Test loss: 0.155.. Test accuracy: 93.559\n",
            "Epoch 1/1.. Train loss: 0.190.. Test loss: 0.164.. Test accuracy: 92.181\n",
            "Epoch 1/1.. Train loss: 0.186.. Test loss: 0.145.. Test accuracy: 93.114\n",
            "Epoch 1/1.. Train loss: 0.207.. Test loss: 0.142.. Test accuracy: 94.427\n",
            "Epoch 1/1.. Train loss: 0.288.. Test loss: 0.134.. Test accuracy: 94.409\n",
            "Epoch 1/1.. Train loss: 0.219.. Test loss: 0.200.. Test accuracy: 92.268\n",
            "Epoch 1/1.. Train loss: 0.189.. Test loss: 0.142.. Test accuracy: 93.516\n",
            "Epoch 1/1.. Train loss: 0.191.. Test loss: 0.174.. Test accuracy: 92.046\n",
            "Epoch 1/1.. Train loss: 0.206.. Test loss: 0.137.. Test accuracy: 93.932\n",
            "Epoch 1/1.. Train loss: 0.156.. Test loss: 0.217.. Test accuracy: 89.449\n",
            "Epoch 1/1.. Train loss: 0.279.. Test loss: 0.155.. Test accuracy: 92.222\n",
            "Epoch 1/1.. Train loss: 0.260.. Test loss: 0.155.. Test accuracy: 93.300\n",
            "Epoch 1/1.. Train loss: 0.165.. Test loss: 0.166.. Test accuracy: 91.789\n",
            "Epoch 1/1.. Train loss: 0.222.. Test loss: 0.178.. Test accuracy: 93.143\n",
            "Epoch 1/1.. Train loss: 0.268.. Test loss: 0.129.. Test accuracy: 94.575\n",
            "Epoch 1/1.. Train loss: 0.281.. Test loss: 0.362.. Test accuracy: 84.986\n",
            "Epoch 1/1.. Train loss: 0.190.. Test loss: 0.154.. Test accuracy: 94.557\n",
            "Epoch 1/1.. Train loss: 0.174.. Test loss: 0.214.. Test accuracy: 89.488\n",
            "Epoch 1/1.. Train loss: 0.223.. Test loss: 0.208.. Test accuracy: 90.020\n",
            "Epoch 1/1.. Train loss: 0.214.. Test loss: 0.148.. Test accuracy: 93.851\n",
            "Epoch 1/1.. Train loss: 0.176.. Test loss: 0.160.. Test accuracy: 92.884\n",
            "Epoch 1/1.. Train loss: 0.178.. Test loss: 0.133.. Test accuracy: 93.585\n",
            "Epoch 1/1.. Train loss: 0.166.. Test loss: 0.150.. Test accuracy: 94.262\n",
            "Epoch 1/1.. Train loss: 0.280.. Test loss: 0.134.. Test accuracy: 94.840\n",
            "Epoch 1/1.. Train loss: 0.118.. Test loss: 0.142.. Test accuracy: 93.328\n",
            "Epoch 1/1.. Train loss: 0.197.. Test loss: 0.147.. Test accuracy: 93.829\n",
            "Epoch 1/1.. Train loss: 0.179.. Test loss: 0.133.. Test accuracy: 94.512\n",
            "Epoch 1/1.. Train loss: 0.102.. Test loss: 0.130.. Test accuracy: 94.077\n",
            "Epoch 1/1.. Train loss: 0.240.. Test loss: 0.126.. Test accuracy: 94.546\n",
            "Epoch 1/1.. Train loss: 0.179.. Test loss: 0.148.. Test accuracy: 93.548\n",
            "Epoch 1/1.. Train loss: 0.127.. Test loss: 0.157.. Test accuracy: 93.841\n",
            "Epoch 1/1.. Train loss: 0.182.. Test loss: 0.133.. Test accuracy: 93.923\n",
            "Epoch 1/1.. Train loss: 0.124.. Test loss: 0.137.. Test accuracy: 94.124\n",
            "Epoch 1/1.. Train loss: 0.156.. Test loss: 0.127.. Test accuracy: 94.079\n",
            "Epoch 1/1.. Train loss: 0.176.. Test loss: 0.173.. Test accuracy: 92.309\n",
            "Epoch 1/1.. Train loss: 0.143.. Test loss: 0.127.. Test accuracy: 93.738\n",
            "Epoch 1/1.. Train loss: 0.158.. Test loss: 0.143.. Test accuracy: 94.221\n",
            "Epoch 1/1.. Train loss: 0.149.. Test loss: 0.145.. Test accuracy: 94.075\n",
            "Epoch 1/1.. Train loss: 0.166.. Test loss: 0.247.. Test accuracy: 88.832\n",
            "Epoch 1/1.. Train loss: 0.138.. Test loss: 0.144.. Test accuracy: 93.991\n",
            "Epoch 1/1.. Train loss: 0.124.. Test loss: 0.161.. Test accuracy: 93.367\n",
            "Epoch 1/1.. Train loss: 0.194.. Test loss: 0.139.. Test accuracy: 92.911\n",
            "Epoch 1/1.. Train loss: 0.083.. Test loss: 0.140.. Test accuracy: 94.678\n",
            "Epoch 1/1.. Train loss: 0.159.. Test loss: 0.157.. Test accuracy: 93.596\n",
            "Epoch 1/1.. Train loss: 0.207.. Test loss: 0.125.. Test accuracy: 95.719\n",
            "Epoch 1/1.. Train loss: 0.356.. Test loss: 0.131.. Test accuracy: 94.256\n",
            "Epoch 1/1.. Train loss: 0.230.. Test loss: 0.206.. Test accuracy: 92.424\n",
            "Epoch 1/1.. Train loss: 0.220.. Test loss: 0.161.. Test accuracy: 94.137\n",
            "Epoch 1/1.. Train loss: 0.152.. Test loss: 0.167.. Test accuracy: 93.118\n",
            "Epoch 1/1.. Train loss: 0.222.. Test loss: 0.157.. Test accuracy: 93.212\n",
            "Epoch 1/1.. Train loss: 0.136.. Test loss: 0.121.. Test accuracy: 95.219\n",
            "Epoch 1/1.. Train loss: 0.191.. Test loss: 0.147.. Test accuracy: 94.088\n",
            "Epoch 1/1.. Train loss: 0.144.. Test loss: 0.137.. Test accuracy: 93.056\n",
            "Epoch 1/1.. Train loss: 0.200.. Test loss: 0.146.. Test accuracy: 93.553\n",
            "Epoch 1/1.. Train loss: 0.123.. Test loss: 0.131.. Test accuracy: 94.000\n",
            "Epoch 1/1.. Train loss: 0.157.. Test loss: 0.142.. Test accuracy: 93.889\n",
            "Epoch 1/1.. Train loss: 0.149.. Test loss: 0.179.. Test accuracy: 92.112\n"
          ],
          "name": "stdout"
        }
      ]
    },
    {
      "cell_type": "markdown",
      "metadata": {
        "id": "vECAhMYVHQ0l"
      },
      "source": [
        "In less than one epoch! 😳🤩 (I manually interrupted the training, this is why there's the error.)\n",
        "\n",
        "Ok, now that you have a great model, it's worth it to save it for use it again later."
      ]
    },
    {
      "cell_type": "code",
      "metadata": {
        "colab": {
          "base_uri": "https://localhost:8080/",
          "height": 183
        },
        "id": "2t_79pSOHQ0m",
        "outputId": "d57e59e9-4703-4a51-b53c-73a87277efc9"
      },
      "source": [
        "print(\"Our model: \\n\\n\", model, '\\n')\n",
        "print(\"The state dict keys: \\n\\n\", model.state_dict().keys())"
      ],
      "execution_count": 1,
      "outputs": [
        {
          "output_type": "error",
          "ename": "NameError",
          "evalue": "ignored",
          "traceback": [
            "\u001b[0;31m---------------------------------------------------------------------------\u001b[0m",
            "\u001b[0;31mNameError\u001b[0m                                 Traceback (most recent call last)",
            "\u001b[0;32m<ipython-input-1-bd04ecef2c7a>\u001b[0m in \u001b[0;36m<module>\u001b[0;34m()\u001b[0m\n\u001b[0;32m----> 1\u001b[0;31m \u001b[0mprint\u001b[0m\u001b[0;34m(\u001b[0m\u001b[0;34m\"Our model: \\n\\n\"\u001b[0m\u001b[0;34m,\u001b[0m \u001b[0mmodel\u001b[0m\u001b[0;34m,\u001b[0m \u001b[0;34m'\\n'\u001b[0m\u001b[0;34m)\u001b[0m\u001b[0;34m\u001b[0m\u001b[0;34m\u001b[0m\u001b[0m\n\u001b[0m\u001b[1;32m      2\u001b[0m \u001b[0mprint\u001b[0m\u001b[0;34m(\u001b[0m\u001b[0;34m\"The state dict keys: \\n\\n\"\u001b[0m\u001b[0;34m,\u001b[0m \u001b[0mmodel\u001b[0m\u001b[0;34m.\u001b[0m\u001b[0mstate_dict\u001b[0m\u001b[0;34m(\u001b[0m\u001b[0;34m)\u001b[0m\u001b[0;34m.\u001b[0m\u001b[0mkeys\u001b[0m\u001b[0;34m(\u001b[0m\u001b[0;34m)\u001b[0m\u001b[0;34m)\u001b[0m\u001b[0;34m\u001b[0m\u001b[0;34m\u001b[0m\u001b[0m\n",
            "\u001b[0;31mNameError\u001b[0m: name 'model' is not defined"
          ]
        }
      ]
    },
    {
      "cell_type": "markdown",
      "metadata": {
        "id": "t8ranRPZHQ0o"
      },
      "source": [
        "The simplest thing to do is simply save the state dict with `torch.save`. For example, we can save it to a file `'checkpoint.pth'`."
      ]
    },
    {
      "cell_type": "code",
      "metadata": {
        "id": "3JmZdBdyHQ0p"
      },
      "source": [
        "torch.save(model.state_dict(), 'checkpoint.pth')"
      ],
      "execution_count": null,
      "outputs": []
    },
    {
      "cell_type": "markdown",
      "metadata": {
        "id": "uoL5MlXXHQ0q"
      },
      "source": [
        "Then we can load the state dict with `torch.load`."
      ]
    },
    {
      "cell_type": "code",
      "metadata": {
        "id": "74TASHEFHQ0r",
        "outputId": "255faf5e-8a0c-416e-ae9b-7a7e2a8967dc"
      },
      "source": [
        "state_dict = torch.load('checkpoint.pth')\n",
        "print(state_dict.keys())"
      ],
      "execution_count": null,
      "outputs": [
        {
          "output_type": "stream",
          "text": [
            "odict_keys(['features.conv0.weight', 'features.norm0.weight', 'features.norm0.bias', 'features.norm0.running_mean', 'features.norm0.running_var', 'features.norm0.num_batches_tracked', 'features.denseblock1.denselayer1.norm1.weight', 'features.denseblock1.denselayer1.norm1.bias', 'features.denseblock1.denselayer1.norm1.running_mean', 'features.denseblock1.denselayer1.norm1.running_var', 'features.denseblock1.denselayer1.norm1.num_batches_tracked', 'features.denseblock1.denselayer1.conv1.weight', 'features.denseblock1.denselayer1.norm2.weight', 'features.denseblock1.denselayer1.norm2.bias', 'features.denseblock1.denselayer1.norm2.running_mean', 'features.denseblock1.denselayer1.norm2.running_var', 'features.denseblock1.denselayer1.norm2.num_batches_tracked', 'features.denseblock1.denselayer1.conv2.weight', 'features.denseblock1.denselayer2.norm1.weight', 'features.denseblock1.denselayer2.norm1.bias', 'features.denseblock1.denselayer2.norm1.running_mean', 'features.denseblock1.denselayer2.norm1.running_var', 'features.denseblock1.denselayer2.norm1.num_batches_tracked', 'features.denseblock1.denselayer2.conv1.weight', 'features.denseblock1.denselayer2.norm2.weight', 'features.denseblock1.denselayer2.norm2.bias', 'features.denseblock1.denselayer2.norm2.running_mean', 'features.denseblock1.denselayer2.norm2.running_var', 'features.denseblock1.denselayer2.norm2.num_batches_tracked', 'features.denseblock1.denselayer2.conv2.weight', 'features.denseblock1.denselayer3.norm1.weight', 'features.denseblock1.denselayer3.norm1.bias', 'features.denseblock1.denselayer3.norm1.running_mean', 'features.denseblock1.denselayer3.norm1.running_var', 'features.denseblock1.denselayer3.norm1.num_batches_tracked', 'features.denseblock1.denselayer3.conv1.weight', 'features.denseblock1.denselayer3.norm2.weight', 'features.denseblock1.denselayer3.norm2.bias', 'features.denseblock1.denselayer3.norm2.running_mean', 'features.denseblock1.denselayer3.norm2.running_var', 'features.denseblock1.denselayer3.norm2.num_batches_tracked', 'features.denseblock1.denselayer3.conv2.weight', 'features.denseblock1.denselayer4.norm1.weight', 'features.denseblock1.denselayer4.norm1.bias', 'features.denseblock1.denselayer4.norm1.running_mean', 'features.denseblock1.denselayer4.norm1.running_var', 'features.denseblock1.denselayer4.norm1.num_batches_tracked', 'features.denseblock1.denselayer4.conv1.weight', 'features.denseblock1.denselayer4.norm2.weight', 'features.denseblock1.denselayer4.norm2.bias', 'features.denseblock1.denselayer4.norm2.running_mean', 'features.denseblock1.denselayer4.norm2.running_var', 'features.denseblock1.denselayer4.norm2.num_batches_tracked', 'features.denseblock1.denselayer4.conv2.weight', 'features.denseblock1.denselayer5.norm1.weight', 'features.denseblock1.denselayer5.norm1.bias', 'features.denseblock1.denselayer5.norm1.running_mean', 'features.denseblock1.denselayer5.norm1.running_var', 'features.denseblock1.denselayer5.norm1.num_batches_tracked', 'features.denseblock1.denselayer5.conv1.weight', 'features.denseblock1.denselayer5.norm2.weight', 'features.denseblock1.denselayer5.norm2.bias', 'features.denseblock1.denselayer5.norm2.running_mean', 'features.denseblock1.denselayer5.norm2.running_var', 'features.denseblock1.denselayer5.norm2.num_batches_tracked', 'features.denseblock1.denselayer5.conv2.weight', 'features.denseblock1.denselayer6.norm1.weight', 'features.denseblock1.denselayer6.norm1.bias', 'features.denseblock1.denselayer6.norm1.running_mean', 'features.denseblock1.denselayer6.norm1.running_var', 'features.denseblock1.denselayer6.norm1.num_batches_tracked', 'features.denseblock1.denselayer6.conv1.weight', 'features.denseblock1.denselayer6.norm2.weight', 'features.denseblock1.denselayer6.norm2.bias', 'features.denseblock1.denselayer6.norm2.running_mean', 'features.denseblock1.denselayer6.norm2.running_var', 'features.denseblock1.denselayer6.norm2.num_batches_tracked', 'features.denseblock1.denselayer6.conv2.weight', 'features.transition1.norm.weight', 'features.transition1.norm.bias', 'features.transition1.norm.running_mean', 'features.transition1.norm.running_var', 'features.transition1.norm.num_batches_tracked', 'features.transition1.conv.weight', 'features.denseblock2.denselayer1.norm1.weight', 'features.denseblock2.denselayer1.norm1.bias', 'features.denseblock2.denselayer1.norm1.running_mean', 'features.denseblock2.denselayer1.norm1.running_var', 'features.denseblock2.denselayer1.norm1.num_batches_tracked', 'features.denseblock2.denselayer1.conv1.weight', 'features.denseblock2.denselayer1.norm2.weight', 'features.denseblock2.denselayer1.norm2.bias', 'features.denseblock2.denselayer1.norm2.running_mean', 'features.denseblock2.denselayer1.norm2.running_var', 'features.denseblock2.denselayer1.norm2.num_batches_tracked', 'features.denseblock2.denselayer1.conv2.weight', 'features.denseblock2.denselayer2.norm1.weight', 'features.denseblock2.denselayer2.norm1.bias', 'features.denseblock2.denselayer2.norm1.running_mean', 'features.denseblock2.denselayer2.norm1.running_var', 'features.denseblock2.denselayer2.norm1.num_batches_tracked', 'features.denseblock2.denselayer2.conv1.weight', 'features.denseblock2.denselayer2.norm2.weight', 'features.denseblock2.denselayer2.norm2.bias', 'features.denseblock2.denselayer2.norm2.running_mean', 'features.denseblock2.denselayer2.norm2.running_var', 'features.denseblock2.denselayer2.norm2.num_batches_tracked', 'features.denseblock2.denselayer2.conv2.weight', 'features.denseblock2.denselayer3.norm1.weight', 'features.denseblock2.denselayer3.norm1.bias', 'features.denseblock2.denselayer3.norm1.running_mean', 'features.denseblock2.denselayer3.norm1.running_var', 'features.denseblock2.denselayer3.norm1.num_batches_tracked', 'features.denseblock2.denselayer3.conv1.weight', 'features.denseblock2.denselayer3.norm2.weight', 'features.denseblock2.denselayer3.norm2.bias', 'features.denseblock2.denselayer3.norm2.running_mean', 'features.denseblock2.denselayer3.norm2.running_var', 'features.denseblock2.denselayer3.norm2.num_batches_tracked', 'features.denseblock2.denselayer3.conv2.weight', 'features.denseblock2.denselayer4.norm1.weight', 'features.denseblock2.denselayer4.norm1.bias', 'features.denseblock2.denselayer4.norm1.running_mean', 'features.denseblock2.denselayer4.norm1.running_var', 'features.denseblock2.denselayer4.norm1.num_batches_tracked', 'features.denseblock2.denselayer4.conv1.weight', 'features.denseblock2.denselayer4.norm2.weight', 'features.denseblock2.denselayer4.norm2.bias', 'features.denseblock2.denselayer4.norm2.running_mean', 'features.denseblock2.denselayer4.norm2.running_var', 'features.denseblock2.denselayer4.norm2.num_batches_tracked', 'features.denseblock2.denselayer4.conv2.weight', 'features.denseblock2.denselayer5.norm1.weight', 'features.denseblock2.denselayer5.norm1.bias', 'features.denseblock2.denselayer5.norm1.running_mean', 'features.denseblock2.denselayer5.norm1.running_var', 'features.denseblock2.denselayer5.norm1.num_batches_tracked', 'features.denseblock2.denselayer5.conv1.weight', 'features.denseblock2.denselayer5.norm2.weight', 'features.denseblock2.denselayer5.norm2.bias', 'features.denseblock2.denselayer5.norm2.running_mean', 'features.denseblock2.denselayer5.norm2.running_var', 'features.denseblock2.denselayer5.norm2.num_batches_tracked', 'features.denseblock2.denselayer5.conv2.weight', 'features.denseblock2.denselayer6.norm1.weight', 'features.denseblock2.denselayer6.norm1.bias', 'features.denseblock2.denselayer6.norm1.running_mean', 'features.denseblock2.denselayer6.norm1.running_var', 'features.denseblock2.denselayer6.norm1.num_batches_tracked', 'features.denseblock2.denselayer6.conv1.weight', 'features.denseblock2.denselayer6.norm2.weight', 'features.denseblock2.denselayer6.norm2.bias', 'features.denseblock2.denselayer6.norm2.running_mean', 'features.denseblock2.denselayer6.norm2.running_var', 'features.denseblock2.denselayer6.norm2.num_batches_tracked', 'features.denseblock2.denselayer6.conv2.weight', 'features.denseblock2.denselayer7.norm1.weight', 'features.denseblock2.denselayer7.norm1.bias', 'features.denseblock2.denselayer7.norm1.running_mean', 'features.denseblock2.denselayer7.norm1.running_var', 'features.denseblock2.denselayer7.norm1.num_batches_tracked', 'features.denseblock2.denselayer7.conv1.weight', 'features.denseblock2.denselayer7.norm2.weight', 'features.denseblock2.denselayer7.norm2.bias', 'features.denseblock2.denselayer7.norm2.running_mean', 'features.denseblock2.denselayer7.norm2.running_var', 'features.denseblock2.denselayer7.norm2.num_batches_tracked', 'features.denseblock2.denselayer7.conv2.weight', 'features.denseblock2.denselayer8.norm1.weight', 'features.denseblock2.denselayer8.norm1.bias', 'features.denseblock2.denselayer8.norm1.running_mean', 'features.denseblock2.denselayer8.norm1.running_var', 'features.denseblock2.denselayer8.norm1.num_batches_tracked', 'features.denseblock2.denselayer8.conv1.weight', 'features.denseblock2.denselayer8.norm2.weight', 'features.denseblock2.denselayer8.norm2.bias', 'features.denseblock2.denselayer8.norm2.running_mean', 'features.denseblock2.denselayer8.norm2.running_var', 'features.denseblock2.denselayer8.norm2.num_batches_tracked', 'features.denseblock2.denselayer8.conv2.weight', 'features.denseblock2.denselayer9.norm1.weight', 'features.denseblock2.denselayer9.norm1.bias', 'features.denseblock2.denselayer9.norm1.running_mean', 'features.denseblock2.denselayer9.norm1.running_var', 'features.denseblock2.denselayer9.norm1.num_batches_tracked', 'features.denseblock2.denselayer9.conv1.weight', 'features.denseblock2.denselayer9.norm2.weight', 'features.denseblock2.denselayer9.norm2.bias', 'features.denseblock2.denselayer9.norm2.running_mean', 'features.denseblock2.denselayer9.norm2.running_var', 'features.denseblock2.denselayer9.norm2.num_batches_tracked', 'features.denseblock2.denselayer9.conv2.weight', 'features.denseblock2.denselayer10.norm1.weight', 'features.denseblock2.denselayer10.norm1.bias', 'features.denseblock2.denselayer10.norm1.running_mean', 'features.denseblock2.denselayer10.norm1.running_var', 'features.denseblock2.denselayer10.norm1.num_batches_tracked', 'features.denseblock2.denselayer10.conv1.weight', 'features.denseblock2.denselayer10.norm2.weight', 'features.denseblock2.denselayer10.norm2.bias', 'features.denseblock2.denselayer10.norm2.running_mean', 'features.denseblock2.denselayer10.norm2.running_var', 'features.denseblock2.denselayer10.norm2.num_batches_tracked', 'features.denseblock2.denselayer10.conv2.weight', 'features.denseblock2.denselayer11.norm1.weight', 'features.denseblock2.denselayer11.norm1.bias', 'features.denseblock2.denselayer11.norm1.running_mean', 'features.denseblock2.denselayer11.norm1.running_var', 'features.denseblock2.denselayer11.norm1.num_batches_tracked', 'features.denseblock2.denselayer11.conv1.weight', 'features.denseblock2.denselayer11.norm2.weight', 'features.denseblock2.denselayer11.norm2.bias', 'features.denseblock2.denselayer11.norm2.running_mean', 'features.denseblock2.denselayer11.norm2.running_var', 'features.denseblock2.denselayer11.norm2.num_batches_tracked', 'features.denseblock2.denselayer11.conv2.weight', 'features.denseblock2.denselayer12.norm1.weight', 'features.denseblock2.denselayer12.norm1.bias', 'features.denseblock2.denselayer12.norm1.running_mean', 'features.denseblock2.denselayer12.norm1.running_var', 'features.denseblock2.denselayer12.norm1.num_batches_tracked', 'features.denseblock2.denselayer12.conv1.weight', 'features.denseblock2.denselayer12.norm2.weight', 'features.denseblock2.denselayer12.norm2.bias', 'features.denseblock2.denselayer12.norm2.running_mean', 'features.denseblock2.denselayer12.norm2.running_var', 'features.denseblock2.denselayer12.norm2.num_batches_tracked', 'features.denseblock2.denselayer12.conv2.weight', 'features.transition2.norm.weight', 'features.transition2.norm.bias', 'features.transition2.norm.running_mean', 'features.transition2.norm.running_var', 'features.transition2.norm.num_batches_tracked', 'features.transition2.conv.weight', 'features.denseblock3.denselayer1.norm1.weight', 'features.denseblock3.denselayer1.norm1.bias', 'features.denseblock3.denselayer1.norm1.running_mean', 'features.denseblock3.denselayer1.norm1.running_var', 'features.denseblock3.denselayer1.norm1.num_batches_tracked', 'features.denseblock3.denselayer1.conv1.weight', 'features.denseblock3.denselayer1.norm2.weight', 'features.denseblock3.denselayer1.norm2.bias', 'features.denseblock3.denselayer1.norm2.running_mean', 'features.denseblock3.denselayer1.norm2.running_var', 'features.denseblock3.denselayer1.norm2.num_batches_tracked', 'features.denseblock3.denselayer1.conv2.weight', 'features.denseblock3.denselayer2.norm1.weight', 'features.denseblock3.denselayer2.norm1.bias', 'features.denseblock3.denselayer2.norm1.running_mean', 'features.denseblock3.denselayer2.norm1.running_var', 'features.denseblock3.denselayer2.norm1.num_batches_tracked', 'features.denseblock3.denselayer2.conv1.weight', 'features.denseblock3.denselayer2.norm2.weight', 'features.denseblock3.denselayer2.norm2.bias', 'features.denseblock3.denselayer2.norm2.running_mean', 'features.denseblock3.denselayer2.norm2.running_var', 'features.denseblock3.denselayer2.norm2.num_batches_tracked', 'features.denseblock3.denselayer2.conv2.weight', 'features.denseblock3.denselayer3.norm1.weight', 'features.denseblock3.denselayer3.norm1.bias', 'features.denseblock3.denselayer3.norm1.running_mean', 'features.denseblock3.denselayer3.norm1.running_var', 'features.denseblock3.denselayer3.norm1.num_batches_tracked', 'features.denseblock3.denselayer3.conv1.weight', 'features.denseblock3.denselayer3.norm2.weight', 'features.denseblock3.denselayer3.norm2.bias', 'features.denseblock3.denselayer3.norm2.running_mean', 'features.denseblock3.denselayer3.norm2.running_var', 'features.denseblock3.denselayer3.norm2.num_batches_tracked', 'features.denseblock3.denselayer3.conv2.weight', 'features.denseblock3.denselayer4.norm1.weight', 'features.denseblock3.denselayer4.norm1.bias', 'features.denseblock3.denselayer4.norm1.running_mean', 'features.denseblock3.denselayer4.norm1.running_var', 'features.denseblock3.denselayer4.norm1.num_batches_tracked', 'features.denseblock3.denselayer4.conv1.weight', 'features.denseblock3.denselayer4.norm2.weight', 'features.denseblock3.denselayer4.norm2.bias', 'features.denseblock3.denselayer4.norm2.running_mean', 'features.denseblock3.denselayer4.norm2.running_var', 'features.denseblock3.denselayer4.norm2.num_batches_tracked', 'features.denseblock3.denselayer4.conv2.weight', 'features.denseblock3.denselayer5.norm1.weight', 'features.denseblock3.denselayer5.norm1.bias', 'features.denseblock3.denselayer5.norm1.running_mean', 'features.denseblock3.denselayer5.norm1.running_var', 'features.denseblock3.denselayer5.norm1.num_batches_tracked', 'features.denseblock3.denselayer5.conv1.weight', 'features.denseblock3.denselayer5.norm2.weight', 'features.denseblock3.denselayer5.norm2.bias', 'features.denseblock3.denselayer5.norm2.running_mean', 'features.denseblock3.denselayer5.norm2.running_var', 'features.denseblock3.denselayer5.norm2.num_batches_tracked', 'features.denseblock3.denselayer5.conv2.weight', 'features.denseblock3.denselayer6.norm1.weight', 'features.denseblock3.denselayer6.norm1.bias', 'features.denseblock3.denselayer6.norm1.running_mean', 'features.denseblock3.denselayer6.norm1.running_var', 'features.denseblock3.denselayer6.norm1.num_batches_tracked', 'features.denseblock3.denselayer6.conv1.weight', 'features.denseblock3.denselayer6.norm2.weight', 'features.denseblock3.denselayer6.norm2.bias', 'features.denseblock3.denselayer6.norm2.running_mean', 'features.denseblock3.denselayer6.norm2.running_var', 'features.denseblock3.denselayer6.norm2.num_batches_tracked', 'features.denseblock3.denselayer6.conv2.weight', 'features.denseblock3.denselayer7.norm1.weight', 'features.denseblock3.denselayer7.norm1.bias', 'features.denseblock3.denselayer7.norm1.running_mean', 'features.denseblock3.denselayer7.norm1.running_var', 'features.denseblock3.denselayer7.norm1.num_batches_tracked', 'features.denseblock3.denselayer7.conv1.weight', 'features.denseblock3.denselayer7.norm2.weight', 'features.denseblock3.denselayer7.norm2.bias', 'features.denseblock3.denselayer7.norm2.running_mean', 'features.denseblock3.denselayer7.norm2.running_var', 'features.denseblock3.denselayer7.norm2.num_batches_tracked', 'features.denseblock3.denselayer7.conv2.weight', 'features.denseblock3.denselayer8.norm1.weight', 'features.denseblock3.denselayer8.norm1.bias', 'features.denseblock3.denselayer8.norm1.running_mean', 'features.denseblock3.denselayer8.norm1.running_var', 'features.denseblock3.denselayer8.norm1.num_batches_tracked', 'features.denseblock3.denselayer8.conv1.weight', 'features.denseblock3.denselayer8.norm2.weight', 'features.denseblock3.denselayer8.norm2.bias', 'features.denseblock3.denselayer8.norm2.running_mean', 'features.denseblock3.denselayer8.norm2.running_var', 'features.denseblock3.denselayer8.norm2.num_batches_tracked', 'features.denseblock3.denselayer8.conv2.weight', 'features.denseblock3.denselayer9.norm1.weight', 'features.denseblock3.denselayer9.norm1.bias', 'features.denseblock3.denselayer9.norm1.running_mean', 'features.denseblock3.denselayer9.norm1.running_var', 'features.denseblock3.denselayer9.norm1.num_batches_tracked', 'features.denseblock3.denselayer9.conv1.weight', 'features.denseblock3.denselayer9.norm2.weight', 'features.denseblock3.denselayer9.norm2.bias', 'features.denseblock3.denselayer9.norm2.running_mean', 'features.denseblock3.denselayer9.norm2.running_var', 'features.denseblock3.denselayer9.norm2.num_batches_tracked', 'features.denseblock3.denselayer9.conv2.weight', 'features.denseblock3.denselayer10.norm1.weight', 'features.denseblock3.denselayer10.norm1.bias', 'features.denseblock3.denselayer10.norm1.running_mean', 'features.denseblock3.denselayer10.norm1.running_var', 'features.denseblock3.denselayer10.norm1.num_batches_tracked', 'features.denseblock3.denselayer10.conv1.weight', 'features.denseblock3.denselayer10.norm2.weight', 'features.denseblock3.denselayer10.norm2.bias', 'features.denseblock3.denselayer10.norm2.running_mean', 'features.denseblock3.denselayer10.norm2.running_var', 'features.denseblock3.denselayer10.norm2.num_batches_tracked', 'features.denseblock3.denselayer10.conv2.weight', 'features.denseblock3.denselayer11.norm1.weight', 'features.denseblock3.denselayer11.norm1.bias', 'features.denseblock3.denselayer11.norm1.running_mean', 'features.denseblock3.denselayer11.norm1.running_var', 'features.denseblock3.denselayer11.norm1.num_batches_tracked', 'features.denseblock3.denselayer11.conv1.weight', 'features.denseblock3.denselayer11.norm2.weight', 'features.denseblock3.denselayer11.norm2.bias', 'features.denseblock3.denselayer11.norm2.running_mean', 'features.denseblock3.denselayer11.norm2.running_var', 'features.denseblock3.denselayer11.norm2.num_batches_tracked', 'features.denseblock3.denselayer11.conv2.weight', 'features.denseblock3.denselayer12.norm1.weight', 'features.denseblock3.denselayer12.norm1.bias', 'features.denseblock3.denselayer12.norm1.running_mean', 'features.denseblock3.denselayer12.norm1.running_var', 'features.denseblock3.denselayer12.norm1.num_batches_tracked', 'features.denseblock3.denselayer12.conv1.weight', 'features.denseblock3.denselayer12.norm2.weight', 'features.denseblock3.denselayer12.norm2.bias', 'features.denseblock3.denselayer12.norm2.running_mean', 'features.denseblock3.denselayer12.norm2.running_var', 'features.denseblock3.denselayer12.norm2.num_batches_tracked', 'features.denseblock3.denselayer12.conv2.weight', 'features.denseblock3.denselayer13.norm1.weight', 'features.denseblock3.denselayer13.norm1.bias', 'features.denseblock3.denselayer13.norm1.running_mean', 'features.denseblock3.denselayer13.norm1.running_var', 'features.denseblock3.denselayer13.norm1.num_batches_tracked', 'features.denseblock3.denselayer13.conv1.weight', 'features.denseblock3.denselayer13.norm2.weight', 'features.denseblock3.denselayer13.norm2.bias', 'features.denseblock3.denselayer13.norm2.running_mean', 'features.denseblock3.denselayer13.norm2.running_var', 'features.denseblock3.denselayer13.norm2.num_batches_tracked', 'features.denseblock3.denselayer13.conv2.weight', 'features.denseblock3.denselayer14.norm1.weight', 'features.denseblock3.denselayer14.norm1.bias', 'features.denseblock3.denselayer14.norm1.running_mean', 'features.denseblock3.denselayer14.norm1.running_var', 'features.denseblock3.denselayer14.norm1.num_batches_tracked', 'features.denseblock3.denselayer14.conv1.weight', 'features.denseblock3.denselayer14.norm2.weight', 'features.denseblock3.denselayer14.norm2.bias', 'features.denseblock3.denselayer14.norm2.running_mean', 'features.denseblock3.denselayer14.norm2.running_var', 'features.denseblock3.denselayer14.norm2.num_batches_tracked', 'features.denseblock3.denselayer14.conv2.weight', 'features.denseblock3.denselayer15.norm1.weight', 'features.denseblock3.denselayer15.norm1.bias', 'features.denseblock3.denselayer15.norm1.running_mean', 'features.denseblock3.denselayer15.norm1.running_var', 'features.denseblock3.denselayer15.norm1.num_batches_tracked', 'features.denseblock3.denselayer15.conv1.weight', 'features.denseblock3.denselayer15.norm2.weight', 'features.denseblock3.denselayer15.norm2.bias', 'features.denseblock3.denselayer15.norm2.running_mean', 'features.denseblock3.denselayer15.norm2.running_var', 'features.denseblock3.denselayer15.norm2.num_batches_tracked', 'features.denseblock3.denselayer15.conv2.weight', 'features.denseblock3.denselayer16.norm1.weight', 'features.denseblock3.denselayer16.norm1.bias', 'features.denseblock3.denselayer16.norm1.running_mean', 'features.denseblock3.denselayer16.norm1.running_var', 'features.denseblock3.denselayer16.norm1.num_batches_tracked', 'features.denseblock3.denselayer16.conv1.weight', 'features.denseblock3.denselayer16.norm2.weight', 'features.denseblock3.denselayer16.norm2.bias', 'features.denseblock3.denselayer16.norm2.running_mean', 'features.denseblock3.denselayer16.norm2.running_var', 'features.denseblock3.denselayer16.norm2.num_batches_tracked', 'features.denseblock3.denselayer16.conv2.weight', 'features.denseblock3.denselayer17.norm1.weight', 'features.denseblock3.denselayer17.norm1.bias', 'features.denseblock3.denselayer17.norm1.running_mean', 'features.denseblock3.denselayer17.norm1.running_var', 'features.denseblock3.denselayer17.norm1.num_batches_tracked', 'features.denseblock3.denselayer17.conv1.weight', 'features.denseblock3.denselayer17.norm2.weight', 'features.denseblock3.denselayer17.norm2.bias', 'features.denseblock3.denselayer17.norm2.running_mean', 'features.denseblock3.denselayer17.norm2.running_var', 'features.denseblock3.denselayer17.norm2.num_batches_tracked', 'features.denseblock3.denselayer17.conv2.weight', 'features.denseblock3.denselayer18.norm1.weight', 'features.denseblock3.denselayer18.norm1.bias', 'features.denseblock3.denselayer18.norm1.running_mean', 'features.denseblock3.denselayer18.norm1.running_var', 'features.denseblock3.denselayer18.norm1.num_batches_tracked', 'features.denseblock3.denselayer18.conv1.weight', 'features.denseblock3.denselayer18.norm2.weight', 'features.denseblock3.denselayer18.norm2.bias', 'features.denseblock3.denselayer18.norm2.running_mean', 'features.denseblock3.denselayer18.norm2.running_var', 'features.denseblock3.denselayer18.norm2.num_batches_tracked', 'features.denseblock3.denselayer18.conv2.weight', 'features.denseblock3.denselayer19.norm1.weight', 'features.denseblock3.denselayer19.norm1.bias', 'features.denseblock3.denselayer19.norm1.running_mean', 'features.denseblock3.denselayer19.norm1.running_var', 'features.denseblock3.denselayer19.norm1.num_batches_tracked', 'features.denseblock3.denselayer19.conv1.weight', 'features.denseblock3.denselayer19.norm2.weight', 'features.denseblock3.denselayer19.norm2.bias', 'features.denseblock3.denselayer19.norm2.running_mean', 'features.denseblock3.denselayer19.norm2.running_var', 'features.denseblock3.denselayer19.norm2.num_batches_tracked', 'features.denseblock3.denselayer19.conv2.weight', 'features.denseblock3.denselayer20.norm1.weight', 'features.denseblock3.denselayer20.norm1.bias', 'features.denseblock3.denselayer20.norm1.running_mean', 'features.denseblock3.denselayer20.norm1.running_var', 'features.denseblock3.denselayer20.norm1.num_batches_tracked', 'features.denseblock3.denselayer20.conv1.weight', 'features.denseblock3.denselayer20.norm2.weight', 'features.denseblock3.denselayer20.norm2.bias', 'features.denseblock3.denselayer20.norm2.running_mean', 'features.denseblock3.denselayer20.norm2.running_var', 'features.denseblock3.denselayer20.norm2.num_batches_tracked', 'features.denseblock3.denselayer20.conv2.weight', 'features.denseblock3.denselayer21.norm1.weight', 'features.denseblock3.denselayer21.norm1.bias', 'features.denseblock3.denselayer21.norm1.running_mean', 'features.denseblock3.denselayer21.norm1.running_var', 'features.denseblock3.denselayer21.norm1.num_batches_tracked', 'features.denseblock3.denselayer21.conv1.weight', 'features.denseblock3.denselayer21.norm2.weight', 'features.denseblock3.denselayer21.norm2.bias', 'features.denseblock3.denselayer21.norm2.running_mean', 'features.denseblock3.denselayer21.norm2.running_var', 'features.denseblock3.denselayer21.norm2.num_batches_tracked', 'features.denseblock3.denselayer21.conv2.weight', 'features.denseblock3.denselayer22.norm1.weight', 'features.denseblock3.denselayer22.norm1.bias', 'features.denseblock3.denselayer22.norm1.running_mean', 'features.denseblock3.denselayer22.norm1.running_var', 'features.denseblock3.denselayer22.norm1.num_batches_tracked', 'features.denseblock3.denselayer22.conv1.weight', 'features.denseblock3.denselayer22.norm2.weight', 'features.denseblock3.denselayer22.norm2.bias', 'features.denseblock3.denselayer22.norm2.running_mean', 'features.denseblock3.denselayer22.norm2.running_var', 'features.denseblock3.denselayer22.norm2.num_batches_tracked', 'features.denseblock3.denselayer22.conv2.weight', 'features.denseblock3.denselayer23.norm1.weight', 'features.denseblock3.denselayer23.norm1.bias', 'features.denseblock3.denselayer23.norm1.running_mean', 'features.denseblock3.denselayer23.norm1.running_var', 'features.denseblock3.denselayer23.norm1.num_batches_tracked', 'features.denseblock3.denselayer23.conv1.weight', 'features.denseblock3.denselayer23.norm2.weight', 'features.denseblock3.denselayer23.norm2.bias', 'features.denseblock3.denselayer23.norm2.running_mean', 'features.denseblock3.denselayer23.norm2.running_var', 'features.denseblock3.denselayer23.norm2.num_batches_tracked', 'features.denseblock3.denselayer23.conv2.weight', 'features.denseblock3.denselayer24.norm1.weight', 'features.denseblock3.denselayer24.norm1.bias', 'features.denseblock3.denselayer24.norm1.running_mean', 'features.denseblock3.denselayer24.norm1.running_var', 'features.denseblock3.denselayer24.norm1.num_batches_tracked', 'features.denseblock3.denselayer24.conv1.weight', 'features.denseblock3.denselayer24.norm2.weight', 'features.denseblock3.denselayer24.norm2.bias', 'features.denseblock3.denselayer24.norm2.running_mean', 'features.denseblock3.denselayer24.norm2.running_var', 'features.denseblock3.denselayer24.norm2.num_batches_tracked', 'features.denseblock3.denselayer24.conv2.weight', 'features.transition3.norm.weight', 'features.transition3.norm.bias', 'features.transition3.norm.running_mean', 'features.transition3.norm.running_var', 'features.transition3.norm.num_batches_tracked', 'features.transition3.conv.weight', 'features.denseblock4.denselayer1.norm1.weight', 'features.denseblock4.denselayer1.norm1.bias', 'features.denseblock4.denselayer1.norm1.running_mean', 'features.denseblock4.denselayer1.norm1.running_var', 'features.denseblock4.denselayer1.norm1.num_batches_tracked', 'features.denseblock4.denselayer1.conv1.weight', 'features.denseblock4.denselayer1.norm2.weight', 'features.denseblock4.denselayer1.norm2.bias', 'features.denseblock4.denselayer1.norm2.running_mean', 'features.denseblock4.denselayer1.norm2.running_var', 'features.denseblock4.denselayer1.norm2.num_batches_tracked', 'features.denseblock4.denselayer1.conv2.weight', 'features.denseblock4.denselayer2.norm1.weight', 'features.denseblock4.denselayer2.norm1.bias', 'features.denseblock4.denselayer2.norm1.running_mean', 'features.denseblock4.denselayer2.norm1.running_var', 'features.denseblock4.denselayer2.norm1.num_batches_tracked', 'features.denseblock4.denselayer2.conv1.weight', 'features.denseblock4.denselayer2.norm2.weight', 'features.denseblock4.denselayer2.norm2.bias', 'features.denseblock4.denselayer2.norm2.running_mean', 'features.denseblock4.denselayer2.norm2.running_var', 'features.denseblock4.denselayer2.norm2.num_batches_tracked', 'features.denseblock4.denselayer2.conv2.weight', 'features.denseblock4.denselayer3.norm1.weight', 'features.denseblock4.denselayer3.norm1.bias', 'features.denseblock4.denselayer3.norm1.running_mean', 'features.denseblock4.denselayer3.norm1.running_var', 'features.denseblock4.denselayer3.norm1.num_batches_tracked', 'features.denseblock4.denselayer3.conv1.weight', 'features.denseblock4.denselayer3.norm2.weight', 'features.denseblock4.denselayer3.norm2.bias', 'features.denseblock4.denselayer3.norm2.running_mean', 'features.denseblock4.denselayer3.norm2.running_var', 'features.denseblock4.denselayer3.norm2.num_batches_tracked', 'features.denseblock4.denselayer3.conv2.weight', 'features.denseblock4.denselayer4.norm1.weight', 'features.denseblock4.denselayer4.norm1.bias', 'features.denseblock4.denselayer4.norm1.running_mean', 'features.denseblock4.denselayer4.norm1.running_var', 'features.denseblock4.denselayer4.norm1.num_batches_tracked', 'features.denseblock4.denselayer4.conv1.weight', 'features.denseblock4.denselayer4.norm2.weight', 'features.denseblock4.denselayer4.norm2.bias', 'features.denseblock4.denselayer4.norm2.running_mean', 'features.denseblock4.denselayer4.norm2.running_var', 'features.denseblock4.denselayer4.norm2.num_batches_tracked', 'features.denseblock4.denselayer4.conv2.weight', 'features.denseblock4.denselayer5.norm1.weight', 'features.denseblock4.denselayer5.norm1.bias', 'features.denseblock4.denselayer5.norm1.running_mean', 'features.denseblock4.denselayer5.norm1.running_var', 'features.denseblock4.denselayer5.norm1.num_batches_tracked', 'features.denseblock4.denselayer5.conv1.weight', 'features.denseblock4.denselayer5.norm2.weight', 'features.denseblock4.denselayer5.norm2.bias', 'features.denseblock4.denselayer5.norm2.running_mean', 'features.denseblock4.denselayer5.norm2.running_var', 'features.denseblock4.denselayer5.norm2.num_batches_tracked', 'features.denseblock4.denselayer5.conv2.weight', 'features.denseblock4.denselayer6.norm1.weight', 'features.denseblock4.denselayer6.norm1.bias', 'features.denseblock4.denselayer6.norm1.running_mean', 'features.denseblock4.denselayer6.norm1.running_var', 'features.denseblock4.denselayer6.norm1.num_batches_tracked', 'features.denseblock4.denselayer6.conv1.weight', 'features.denseblock4.denselayer6.norm2.weight', 'features.denseblock4.denselayer6.norm2.bias', 'features.denseblock4.denselayer6.norm2.running_mean', 'features.denseblock4.denselayer6.norm2.running_var', 'features.denseblock4.denselayer6.norm2.num_batches_tracked', 'features.denseblock4.denselayer6.conv2.weight', 'features.denseblock4.denselayer7.norm1.weight', 'features.denseblock4.denselayer7.norm1.bias', 'features.denseblock4.denselayer7.norm1.running_mean', 'features.denseblock4.denselayer7.norm1.running_var', 'features.denseblock4.denselayer7.norm1.num_batches_tracked', 'features.denseblock4.denselayer7.conv1.weight', 'features.denseblock4.denselayer7.norm2.weight', 'features.denseblock4.denselayer7.norm2.bias', 'features.denseblock4.denselayer7.norm2.running_mean', 'features.denseblock4.denselayer7.norm2.running_var', 'features.denseblock4.denselayer7.norm2.num_batches_tracked', 'features.denseblock4.denselayer7.conv2.weight', 'features.denseblock4.denselayer8.norm1.weight', 'features.denseblock4.denselayer8.norm1.bias', 'features.denseblock4.denselayer8.norm1.running_mean', 'features.denseblock4.denselayer8.norm1.running_var', 'features.denseblock4.denselayer8.norm1.num_batches_tracked', 'features.denseblock4.denselayer8.conv1.weight', 'features.denseblock4.denselayer8.norm2.weight', 'features.denseblock4.denselayer8.norm2.bias', 'features.denseblock4.denselayer8.norm2.running_mean', 'features.denseblock4.denselayer8.norm2.running_var', 'features.denseblock4.denselayer8.norm2.num_batches_tracked', 'features.denseblock4.denselayer8.conv2.weight', 'features.denseblock4.denselayer9.norm1.weight', 'features.denseblock4.denselayer9.norm1.bias', 'features.denseblock4.denselayer9.norm1.running_mean', 'features.denseblock4.denselayer9.norm1.running_var', 'features.denseblock4.denselayer9.norm1.num_batches_tracked', 'features.denseblock4.denselayer9.conv1.weight', 'features.denseblock4.denselayer9.norm2.weight', 'features.denseblock4.denselayer9.norm2.bias', 'features.denseblock4.denselayer9.norm2.running_mean', 'features.denseblock4.denselayer9.norm2.running_var', 'features.denseblock4.denselayer9.norm2.num_batches_tracked', 'features.denseblock4.denselayer9.conv2.weight', 'features.denseblock4.denselayer10.norm1.weight', 'features.denseblock4.denselayer10.norm1.bias', 'features.denseblock4.denselayer10.norm1.running_mean', 'features.denseblock4.denselayer10.norm1.running_var', 'features.denseblock4.denselayer10.norm1.num_batches_tracked', 'features.denseblock4.denselayer10.conv1.weight', 'features.denseblock4.denselayer10.norm2.weight', 'features.denseblock4.denselayer10.norm2.bias', 'features.denseblock4.denselayer10.norm2.running_mean', 'features.denseblock4.denselayer10.norm2.running_var', 'features.denseblock4.denselayer10.norm2.num_batches_tracked', 'features.denseblock4.denselayer10.conv2.weight', 'features.denseblock4.denselayer11.norm1.weight', 'features.denseblock4.denselayer11.norm1.bias', 'features.denseblock4.denselayer11.norm1.running_mean', 'features.denseblock4.denselayer11.norm1.running_var', 'features.denseblock4.denselayer11.norm1.num_batches_tracked', 'features.denseblock4.denselayer11.conv1.weight', 'features.denseblock4.denselayer11.norm2.weight', 'features.denseblock4.denselayer11.norm2.bias', 'features.denseblock4.denselayer11.norm2.running_mean', 'features.denseblock4.denselayer11.norm2.running_var', 'features.denseblock4.denselayer11.norm2.num_batches_tracked', 'features.denseblock4.denselayer11.conv2.weight', 'features.denseblock4.denselayer12.norm1.weight', 'features.denseblock4.denselayer12.norm1.bias', 'features.denseblock4.denselayer12.norm1.running_mean', 'features.denseblock4.denselayer12.norm1.running_var', 'features.denseblock4.denselayer12.norm1.num_batches_tracked', 'features.denseblock4.denselayer12.conv1.weight', 'features.denseblock4.denselayer12.norm2.weight', 'features.denseblock4.denselayer12.norm2.bias', 'features.denseblock4.denselayer12.norm2.running_mean', 'features.denseblock4.denselayer12.norm2.running_var', 'features.denseblock4.denselayer12.norm2.num_batches_tracked', 'features.denseblock4.denselayer12.conv2.weight', 'features.denseblock4.denselayer13.norm1.weight', 'features.denseblock4.denselayer13.norm1.bias', 'features.denseblock4.denselayer13.norm1.running_mean', 'features.denseblock4.denselayer13.norm1.running_var', 'features.denseblock4.denselayer13.norm1.num_batches_tracked', 'features.denseblock4.denselayer13.conv1.weight', 'features.denseblock4.denselayer13.norm2.weight', 'features.denseblock4.denselayer13.norm2.bias', 'features.denseblock4.denselayer13.norm2.running_mean', 'features.denseblock4.denselayer13.norm2.running_var', 'features.denseblock4.denselayer13.norm2.num_batches_tracked', 'features.denseblock4.denselayer13.conv2.weight', 'features.denseblock4.denselayer14.norm1.weight', 'features.denseblock4.denselayer14.norm1.bias', 'features.denseblock4.denselayer14.norm1.running_mean', 'features.denseblock4.denselayer14.norm1.running_var', 'features.denseblock4.denselayer14.norm1.num_batches_tracked', 'features.denseblock4.denselayer14.conv1.weight', 'features.denseblock4.denselayer14.norm2.weight', 'features.denseblock4.denselayer14.norm2.bias', 'features.denseblock4.denselayer14.norm2.running_mean', 'features.denseblock4.denselayer14.norm2.running_var', 'features.denseblock4.denselayer14.norm2.num_batches_tracked', 'features.denseblock4.denselayer14.conv2.weight', 'features.denseblock4.denselayer15.norm1.weight', 'features.denseblock4.denselayer15.norm1.bias', 'features.denseblock4.denselayer15.norm1.running_mean', 'features.denseblock4.denselayer15.norm1.running_var', 'features.denseblock4.denselayer15.norm1.num_batches_tracked', 'features.denseblock4.denselayer15.conv1.weight', 'features.denseblock4.denselayer15.norm2.weight', 'features.denseblock4.denselayer15.norm2.bias', 'features.denseblock4.denselayer15.norm2.running_mean', 'features.denseblock4.denselayer15.norm2.running_var', 'features.denseblock4.denselayer15.norm2.num_batches_tracked', 'features.denseblock4.denselayer15.conv2.weight', 'features.denseblock4.denselayer16.norm1.weight', 'features.denseblock4.denselayer16.norm1.bias', 'features.denseblock4.denselayer16.norm1.running_mean', 'features.denseblock4.denselayer16.norm1.running_var', 'features.denseblock4.denselayer16.norm1.num_batches_tracked', 'features.denseblock4.denselayer16.conv1.weight', 'features.denseblock4.denselayer16.norm2.weight', 'features.denseblock4.denselayer16.norm2.bias', 'features.denseblock4.denselayer16.norm2.running_mean', 'features.denseblock4.denselayer16.norm2.running_var', 'features.denseblock4.denselayer16.norm2.num_batches_tracked', 'features.denseblock4.denselayer16.conv2.weight', 'features.norm5.weight', 'features.norm5.bias', 'features.norm5.running_mean', 'features.norm5.running_var', 'features.norm5.num_batches_tracked', 'classifier.0.weight', 'classifier.0.bias', 'classifier.3.weight', 'classifier.3.bias'])\n"
          ],
          "name": "stdout"
        }
      ]
    },
    {
      "cell_type": "markdown",
      "metadata": {
        "id": "oDk_u9t-HQ0t"
      },
      "source": [
        "And to load the state dict in to the network, you do `model.load_state_dict(state_dict)`.\n"
      ]
    },
    {
      "cell_type": "code",
      "metadata": {
        "id": "3OidnLL0HQ0u",
        "outputId": "490288d4-4a89-441b-c13d-350fe2533afe"
      },
      "source": [
        "model.load_state_dict(state_dict)"
      ],
      "execution_count": null,
      "outputs": [
        {
          "output_type": "execute_result",
          "data": {
            "text/plain": [
              "<All keys matched successfully>"
            ]
          },
          "metadata": {
            "tags": []
          },
          "execution_count": 20
        }
      ]
    },
    {
      "cell_type": "markdown",
      "metadata": {
        "id": "XgO9ICZiHQ0v"
      },
      "source": [
        "Oh, but what does it mean? \n",
        "\n",
        "First, that you need to have your model defined as the one that has been saved. In other words, if you save the `checkpoint.pth` and send it to your friend, your friend won't be able to use the model *unless* you tell her/him how the model has been defined, which layers it has, how they are called and so on.\n",
        "\n",
        "Is it useless then? No, on the contrary! Think that you're training a model, with 1000 epochs. It could take three days to do it. What if at the 999th epoch your *Airbnb host* shutdown the wi-fi connection? All your progress are lost! However, since your notebook have all the model defined, you can save the checkpoints every $n$ iterations or *when the validation accuracy improves*.\n",
        "\n",
        "This is indeed a common practice: everytime you test your model on the validation set, you can check if the validation accuracy is higher then the one that you have saved already and save the new checkpoints! I recommend to check this out: https://wandb.ai/site\n",
        "\n",
        "What if you try loading the checkpoints with a model that doesn't match?\n"
      ]
    },
    {
      "cell_type": "code",
      "metadata": {
        "id": "AluHuHFeHQ0x",
        "outputId": "b93f0ccf-4fde-497b-a98e-c1c8ea3f5759"
      },
      "source": [
        "# Try this\n",
        "import fc_model\n",
        "model = fc_model.Network(784, 10, [400, 200, 100])\n",
        "# This will throw an error because the tensor sizes are wrong!\n",
        "model.load_state_dict(state_dict)"
      ],
      "execution_count": null,
      "outputs": [
        {
          "output_type": "error",
          "ename": "RuntimeError",
          "evalue": "Error(s) in loading state_dict for Network:\n\tMissing key(s) in state_dict: \"hidden_layers.0.weight\", \"hidden_layers.0.bias\", \"hidden_layers.1.weight\", \"hidden_layers.1.bias\", \"hidden_layers.2.weight\", \"hidden_layers.2.bias\", \"output.weight\", \"output.bias\". \n\tUnexpected key(s) in state_dict: \"features.conv0.weight\", \"features.norm0.weight\", \"features.norm0.bias\", \"features.norm0.running_mean\", \"features.norm0.running_var\", \"features.norm0.num_batches_tracked\", \"features.denseblock1.denselayer1.norm1.weight\", \"features.denseblock1.denselayer1.norm1.bias\", \"features.denseblock1.denselayer1.norm1.running_mean\", \"features.denseblock1.denselayer1.norm1.running_var\", \"features.denseblock1.denselayer1.norm1.num_batches_tracked\", \"features.denseblock1.denselayer1.conv1.weight\", \"features.denseblock1.denselayer1.norm2.weight\", \"features.denseblock1.denselayer1.norm2.bias\", \"features.denseblock1.denselayer1.norm2.running_mean\", \"features.denseblock1.denselayer1.norm2.running_var\", \"features.denseblock1.denselayer1.norm2.num_batches_tracked\", \"features.denseblock1.denselayer1.conv2.weight\", \"features.denseblock1.denselayer2.norm1.weight\", \"features.denseblock1.denselayer2.norm1.bias\", \"features.denseblock1.denselayer2.norm1.running_mean\", \"features.denseblock1.denselayer2.norm1.running_var\", \"features.denseblock1.denselayer2.norm1.num_batches_tracked\", \"features.denseblock1.denselayer2.conv1.weight\", \"features.denseblock1.denselayer2.norm2.weight\", \"features.denseblock1.denselayer2.norm2.bias\", \"features.denseblock1.denselayer2.norm2.running_mean\", \"features.denseblock1.denselayer2.norm2.running_var\", \"features.denseblock1.denselayer2.norm2.num_batches_tracked\", \"features.denseblock1.denselayer2.conv2.weight\", \"features.denseblock1.denselayer3.norm1.weight\", \"features.denseblock1.denselayer3.norm1.bias\", \"features.denseblock1.denselayer3.norm1.running_mean\", \"features.denseblock1.denselayer3.norm1.running_var\", \"features.denseblock1.denselayer3.norm1.num_batches_tracked\", \"features.denseblock1.denselayer3.conv1.weight\", \"features.denseblock1.denselayer3.norm2.weight\", \"features.denseblock1.denselayer3.norm2.bias\", \"features.denseblock1.denselayer3.norm2.running_mean\", \"features.denseblock1.denselayer3.norm2.running_var\", \"features.denseblock1.denselayer3.norm2.num_batches_tracked\", \"features.denseblock1.denselayer3.conv2.weight\", \"features.denseblock1.denselayer4.norm1.weight\", \"features.denseblock1.denselayer4.norm1.bias\", \"features.denseblock1.denselayer4.norm1.running_mean\", \"features.denseblock1.denselayer4.norm1.running_var\", \"features.denseblock1.denselayer4.norm1.num_batches_tracked\", \"features.denseblock1.denselayer4.conv1.weight\", \"features.denseblock1.denselayer4.norm2.weight\", \"features.denseblock1.denselayer4.norm2.bias\", \"features.denseblock1.denselayer4.norm2.running_mean\", \"features.denseblock1.denselayer4.norm2.running_var\", \"features.denseblock1.denselayer4.norm2.num_batches_tracked\", \"features.denseblock1.denselayer4.conv2.weight\", \"features.denseblock1.denselayer5.norm1.weight\", \"features.denseblock1.denselayer5.norm1.bias\", \"features.denseblock1.denselayer5.norm1.running_mean\", \"features.denseblock1.denselayer5.norm1.running_var\", \"features.denseblock1.denselayer5.norm1.num_batches_tracked\", \"features.denseblock1.denselayer5.conv1.weight\", \"features.denseblock1.denselayer5.norm2.weight\", \"features.denseblock1.denselayer5.norm2.bias\", \"features.denseblock1.denselayer5.norm2.running_mean\", \"features.denseblock1.denselayer5.norm2.running_var\", \"features.denseblock1.denselayer5.norm2.num_batches_tracked\", \"features.denseblock1.denselayer5.conv2.weight\", \"features.denseblock1.denselayer6.norm1.weight\", \"features.denseblock1.denselayer6.norm1.bias\", \"features.denseblock1.denselayer6.norm1.running_mean\", \"features.denseblock1.denselayer6.norm1.running_var\", \"features.denseblock1.denselayer6.norm1.num_batches_tracked\", \"features.denseblock1.denselayer6.conv1.weight\", \"features.denseblock1.denselayer6.norm2.weight\", \"features.denseblock1.denselayer6.norm2.bias\", \"features.denseblock1.denselayer6.norm2.running_mean\", \"features.denseblock1.denselayer6.norm2.running_var\", \"features.denseblock1.denselayer6.norm2.num_batches_tracked\", \"features.denseblock1.denselayer6.conv2.weight\", \"features.transition1.norm.weight\", \"features.transition1.norm.bias\", \"features.transition1.norm.running_mean\", \"features.transition1.norm.running_var\", \"features.transition1.norm.num_batches_tracked\", \"features.transition1.conv.weight\", \"features.denseblock2.denselayer1.norm1.weight\", \"features.denseblock2.denselayer1.norm1.bias\", \"features.denseblock2.denselayer1.norm1.running_mean\", \"features.denseblock2.denselayer1.norm1.running_var\", \"features.denseblock2.denselayer1.norm1.num_batches_tracked\", \"features.denseblock2.denselayer1.conv1.weight\", \"features.denseblock2.denselayer1.norm2.weight\", \"features.denseblock2.denselayer1.norm2.bias\", \"features.denseblock2.denselayer1.norm2.running_mean\", \"features.denseblock2.denselayer1.norm2.running_var\", \"features.denseblock2.denselayer1.norm2.num_batches_tracked\", \"features.denseblock2.denselayer1.conv2.weight\", \"features.denseblock2.denselayer2.norm1.weight\", \"features.denseblock2.denselayer2.norm1.bias\", \"features.denseblock2.denselayer2.norm1.running_mean\", \"features.denseblock2.denselayer2.norm1.running_var\", \"features.denseblock2.denselayer2.norm1.num_batches_tracked\", \"features.denseblock2.denselayer2.conv1.weight\", \"features.denseblock2.denselayer2.norm2.weight\", \"features.denseblock2.denselayer2.norm2.bias\", \"features.denseblock2.denselayer2.norm2.running_mean\", \"features.denseblock2.denselayer2.norm2.running_var\", \"features.denseblock2.denselayer2.norm2.num_batches_tracked\", \"features.denseblock2.denselayer2.conv2.weight\", \"features.denseblock2.denselayer3.norm1.weight\", \"features.denseblock2.denselayer3.norm1.bias\", \"features.denseblock2.denselayer3.norm1.running_mean\", \"features.denseblock2.denselayer3.norm1.running_var\", \"features.denseblock2.denselayer3.norm1.num_batches_tracked\", \"features.denseblock2.denselayer3.conv1.weight\", \"features.denseblock2.denselayer3.norm2.weight\", \"features.denseblock2.denselayer3.norm2.bias\", \"features.denseblock2.denselayer3.norm2.running_mean\", \"features.denseblock2.denselayer3.norm2.running_var\", \"features.denseblock2.denselayer3.norm2.num_batches_tracked\", \"features.denseblock2.denselayer3.conv2.weight\", \"features.denseblock2.denselayer4.norm1.weight\", \"features.denseblock2.denselayer4.norm1.bias\", \"features.denseblock2.denselayer4.norm1.running_mean\", \"features.denseblock2.denselayer4.norm1.running_var\", \"features.denseblock2.denselayer4.norm1.num_batches_tracked\", \"features.denseblock2.denselayer4.conv1.weight\", \"features.denseblock2.denselayer4.norm2.weight\", \"features.denseblock2.denselayer4.norm2.bias\", \"features.denseblock2.denselayer4.norm2.running_mean\", \"features.denseblock2.denselayer4.norm2.running_var\", \"features.denseblock2.denselayer4.norm2.num_batches_tracked\", \"features.denseblock2.denselayer4.conv2.weight\", \"features.denseblock2.denselayer5.norm1.weight\", \"features.denseblock2.denselayer5.norm1.bias\", \"features.denseblock2.denselayer5.norm1.running_mean\", \"features.denseblock2.denselayer5.norm1.running_var\", \"features.denseblock2.denselayer5.norm1.num_batches_tracked\", \"features.denseblock2.denselayer5.conv1.weight\", \"features.denseblock2.denselayer5.norm2.weight\", \"features.denseblock2.denselayer5.norm2.bias\", \"features.denseblock2.denselayer5.norm2.running_mean\", \"features.denseblock2.denselayer5.norm2.running_var\", \"features.denseblock2.denselayer5.norm2.num_batches_tracked\", \"features.denseblock2.denselayer5.conv2.weight\", \"features.denseblock2.denselayer6.norm1.weight\", \"features.denseblock2.denselayer6.norm1.bias\", \"features.denseblock2.denselayer6.norm1.running_mean\", \"features.denseblock2.denselayer6.norm1.running_var\", \"features.denseblock2.denselayer6.norm1.num_batches_tracked\", \"features.denseblock2.denselayer6.conv1.weight\", \"features.denseblock2.denselayer6.norm2.weight\", \"features.denseblock2.denselayer6.norm2.bias\", \"features.denseblock2.denselayer6.norm2.running_mean\", \"features.denseblock2.denselayer6.norm2.running_var\", \"features.denseblock2.denselayer6.norm2.num_batches_tracked\", \"features.denseblock2.denselayer6.conv2.weight\", \"features.denseblock2.denselayer7.norm1.weight\", \"features.denseblock2.denselayer7.norm1.bias\", \"features.denseblock2.denselayer7.norm1.running_mean\", \"features.denseblock2.denselayer7.norm1.running_var\", \"features.denseblock2.denselayer7.norm1.num_batches_tracked\", \"features.denseblock2.denselayer7.conv1.weight\", \"features.denseblock2.denselayer7.norm2.weight\", \"features.denseblock2.denselayer7.norm2.bias\", \"features.denseblock2.denselayer7.norm2.running_mean\", \"features.denseblock2.denselayer7.norm2.running_var\", \"features.denseblock2.denselayer7.norm2.num_batches_tracked\", \"features.denseblock2.denselayer7.conv2.weight\", \"features.denseblock2.denselayer8.norm1.weight\", \"features.denseblock2.denselayer8.norm1.bias\", \"features.denseblock2.denselayer8.norm1.running_mean\", \"features.denseblock2.denselayer8.norm1.running_var\", \"features.denseblock2.denselayer8.norm1.num_batches_tracked\", \"features.denseblock2.denselayer8.conv1.weight\", \"features.denseblock2.denselayer8.norm2.weight\", \"features.denseblock2.denselayer8.norm2.bias\", \"features.denseblock2.denselayer8.norm2.running_mean\", \"features.denseblock2.denselayer8.norm2.running_var\", \"features.denseblock2.denselayer8.norm2.num_batches_tracked\", \"features.denseblock2.denselayer8.conv2.weight\", \"features.denseblock2.denselayer9.norm1.weight\", \"features.denseblock2.denselayer9.norm1.bias\", \"features.denseblock2.denselayer9.norm1.running_mean\", \"features.denseblock2.denselayer9.norm1.running_var\", \"features.denseblock2.denselayer9.norm1.num_batches_tracked\", \"features.denseblock2.denselayer9.conv1.weight\", \"features.denseblock2.denselayer9.norm2.weight\", \"features.denseblock2.denselayer9.norm2.bias\", \"features.denseblock2.denselayer9.norm2.running_mean\", \"features.denseblock2.denselayer9.norm2.running_var\", \"features.denseblock2.denselayer9.norm2.num_batches_tracked\", \"features.denseblock2.denselayer9.conv2.weight\", \"features.denseblock2.denselayer10.norm1.weight\", \"features.denseblock2.denselayer10.norm1.bias\", \"features.denseblock2.denselayer10.norm1.running_mean\", \"features.denseblock2.denselayer10.norm1.running_var\", \"features.denseblock2.denselayer10.norm1.num_batches_tracked\", \"features.denseblock2.denselayer10.conv1.weight\", \"features.denseblock2.denselayer10.norm2.weight\", \"features.denseblock2.denselayer10.norm2.bias\", \"features.denseblock2.denselayer10.norm2.running_mean\", \"features.denseblock2.denselayer10.norm2.running_var\", \"features.denseblock2.denselayer10.norm2.num_batches_tracked\", \"features.denseblock2.denselayer10.conv2.weight\", \"features.denseblock2.denselayer11.norm1.weight\", \"features.denseblock2.denselayer11.norm1.bias\", \"features.denseblock2.denselayer11.norm1.running_mean\", \"features.denseblock2.denselayer11.norm1.running_var\", \"features.denseblock2.denselayer11.norm1.num_batches_tracked\", \"features.denseblock2.denselayer11.conv1.weight\", \"features.denseblock2.denselayer11.norm2.weight\", \"features.denseblock2.denselayer11.norm2.bias\", \"features.denseblock2.denselayer11.norm2.running_mean\", \"features.denseblock2.denselayer11.norm2.running_var\", \"features.denseblock2.denselayer11.norm2.num_batches_tracked\", \"features.denseblock2.denselayer11.conv2.weight\", \"features.denseblock2.denselayer12.norm1.weight\", \"features.denseblock2.denselayer12.norm1.bias\", \"features.denseblock2.denselayer12.norm1.running_mean\", \"features.denseblock2.denselayer12.norm1.running_var\", \"features.denseblock2.denselayer12.norm1.num_batches_tracked\", \"features.denseblock2.denselayer12.conv1.weight\", \"features.denseblock2.denselayer12.norm2.weight\", \"features.denseblock2.denselayer12.norm2.bias\", \"features.denseblock2.denselayer12.norm2.running_mean\", \"features.denseblock2.denselayer12.norm2.running_var\", \"features.denseblock2.denselayer12.norm2.num_batches_tracked\", \"features.denseblock2.denselayer12.conv2.weight\", \"features.transition2.norm.weight\", \"features.transition2.norm.bias\", \"features.transition2.norm.running_mean\", \"features.transition2.norm.running_var\", \"features.transition2.norm.num_batches_tracked\", \"features.transition2.conv.weight\", \"features.denseblock3.denselayer1.norm1.weight\", \"features.denseblock3.denselayer1.norm1.bias\", \"features.denseblock3.denselayer1.norm1.running_mean\", \"features.denseblock3.denselayer1.norm1.running_var\", \"features.denseblock3.denselayer1.norm1.num_batches_tracked\", \"features.denseblock3.denselayer1.conv1.weight\", \"features.denseblock3.denselayer1.norm2.weight\", \"features.denseblock3.denselayer1.norm2.bias\", \"features.denseblock3.denselayer1.norm2.running_mean\", \"features.denseblock3.denselayer1.norm2.running_var\", \"features.denseblock3.denselayer1.norm2.num_batches_tracked\", \"features.denseblock3.denselayer1.conv2.weight\", \"features.denseblock3.denselayer2.norm1.weight\", \"features.denseblock3.denselayer2.norm1.bias\", \"features.denseblock3.denselayer2.norm1.running_mean\", \"features.denseblock3.denselayer2.norm1.running_var\", \"features.denseblock3.denselayer2.norm1.num_batches_tracked\", \"features.denseblock3.denselayer2.conv1.weight\", \"features.denseblock3.denselayer2.norm2.weight\", \"features.denseblock3.denselayer2.norm2.bias\", \"features.denseblock3.denselayer2.norm2.running_mean\", \"features.denseblock3.denselayer2.norm2.running_var\", \"features.denseblock3.denselayer2.norm2.num_batches_tracked\", \"features.denseblock3.denselayer2.conv2.weight\", \"features.denseblock3.denselayer3.norm1.weight\", \"features.denseblock3.denselayer3.norm1.bias\", \"features.denseblock3.denselayer3.norm1.running_mean\", \"features.denseblock3.denselayer3.norm1.running_var\", \"features.denseblock3.denselayer3.norm1.num_batches_tracked\", \"features.denseblock3.denselayer3.conv1.weight\", \"features.denseblock3.denselayer3.norm2.weight\", \"features.denseblock3.denselayer3.norm2.bias\", \"features.denseblock3.denselayer3.norm2.running_mean\", \"features.denseblock3.denselayer3.norm2.running_var\", \"features.denseblock3.denselayer3.norm2.num_batches_tracked\", \"features.denseblock3.denselayer3.conv2.weight\", \"features.denseblock3.denselayer4.norm1.weight\", \"features.denseblock3.denselayer4.norm1.bias\", \"features.denseblock3.denselayer4.norm1.running_mean\", \"features.denseblock3.denselayer4.norm1.running_var\", \"features.denseblock3.denselayer4.norm1.num_batches_tracked\", \"features.denseblock3.denselayer4.conv1.weight\", \"features.denseblock3.denselayer4.norm2.weight\", \"features.denseblock3.denselayer4.norm2.bias\", \"features.denseblock3.denselayer4.norm2.running_mean\", \"features.denseblock3.denselayer4.norm2.running_var\", \"features.denseblock3.denselayer4.norm2.num_batches_tracked\", \"features.denseblock3.denselayer4.conv2.weight\", \"features.denseblock3.denselayer5.norm1.weight\", \"features.denseblock3.denselayer5.norm1.bias\", \"features.denseblock3.denselayer5.norm1.running_mean\", \"features.denseblock3.denselayer5.norm1.running_var\", \"features.denseblock3.denselayer5.norm1.num_batches_tracked\", \"features.denseblock3.denselayer5.conv1.weight\", \"features.denseblock3.denselayer5.norm2.weight\", \"features.denseblock3.denselayer5.norm2.bias\", \"features.denseblock3.denselayer5.norm2.running_mean\", \"features.denseblock3.denselayer5.norm2.running_var\", \"features.denseblock3.denselayer5.norm2.num_batches_tracked\", \"features.denseblock3.denselayer5.conv2.weight\", \"features.denseblock3.denselayer6.norm1.weight\", \"features.denseblock3.denselayer6.norm1.bias\", \"features.denseblock3.denselayer6.norm1.running_mean\", \"features.denseblock3.denselayer6.norm1.running_var\", \"features.denseblock3.denselayer6.norm1.num_batches_tracked\", \"features.denseblock3.denselayer6.conv1.weight\", \"features.denseblock3.denselayer6.norm2.weight\", \"features.denseblock3.denselayer6.norm2.bias\", \"features.denseblock3.denselayer6.norm2.running_mean\", \"features.denseblock3.denselayer6.norm2.running_var\", \"features.denseblock3.denselayer6.norm2.num_batches_tracked\", \"features.denseblock3.denselayer6.conv2.weight\", \"features.denseblock3.denselayer7.norm1.weight\", \"features.denseblock3.denselayer7.norm1.bias\", \"features.denseblock3.denselayer7.norm1.running_mean\", \"features.denseblock3.denselayer7.norm1.running_var\", \"features.denseblock3.denselayer7.norm1.num_batches_tracked\", \"features.denseblock3.denselayer7.conv1.weight\", \"features.denseblock3.denselayer7.norm2.weight\", \"features.denseblock3.denselayer7.norm2.bias\", \"features.denseblock3.denselayer7.norm2.running_mean\", \"features.denseblock3.denselayer7.norm2.running_var\", \"features.denseblock3.denselayer7.norm2.num_batches_tracked\", \"features.denseblock3.denselayer7.conv2.weight\", \"features.denseblock3.denselayer8.norm1.weight\", \"features.denseblock3.denselayer8.norm1.bias\", \"features.denseblock3.denselayer8.norm1.running_mean\", \"features.denseblock3.denselayer8.norm1.running_var\", \"features.denseblock3.denselayer8.norm1.num_batches_tracked\", \"features.denseblock3.denselayer8.conv1.weight\", \"features.denseblock3.denselayer8.norm2.weight\", \"features.denseblock3.denselayer8.norm2.bias\", \"features.denseblock3.denselayer8.norm2.running_mean\", \"features.denseblock3.denselayer8.norm2.running_var\", \"features.denseblock3.denselayer8.norm2.num_batches_tracked\", \"features.denseblock3.denselayer8.conv2.weight\", \"features.denseblock3.denselayer9.norm1.weight\", \"features.denseblock3.denselayer9.norm1.bias\", \"features.denseblock3.denselayer9.norm1.running_mean\", \"features.denseblock3.denselayer9.norm1.running_var\", \"features.denseblock3.denselayer9.norm1.num_batches_tracked\", \"features.denseblock3.denselayer9.conv1.weight\", \"features.denseblock3.denselayer9.norm2.weight\", \"features.denseblock3.denselayer9.norm2.bias\", \"features.denseblock3.denselayer9.norm2.running_mean\", \"features.denseblock3.denselayer9.norm2.running_var\", \"features.denseblock3.denselayer9.norm2.num_batches_tracked\", \"features.denseblock3.denselayer9.conv2.weight\", \"features.denseblock3.denselayer10.norm1.weight\", \"features.denseblock3.denselayer10.norm1.bias\", \"features.denseblock3.denselayer10.norm1.running_mean\", \"features.denseblock3.denselayer10.norm1.running_var\", \"features.denseblock3.denselayer10.norm1.num_batches_tracked\", \"features.denseblock3.denselayer10.conv1.weight\", \"features.denseblock3.denselayer10.norm2.weight\", \"features.denseblock3.denselayer10.norm2.bias\", \"features.denseblock3.denselayer10.norm2.running_mean\", \"features.denseblock3.denselayer10.norm2.running_var\", \"features.denseblock3.denselayer10.norm2.num_batches_tracked\", \"features.denseblock3.denselayer10.conv2.weight\", \"features.denseblock3.denselayer11.norm1.weight\", \"features.denseblock3.denselayer11.norm1.bias\", \"features.denseblock3.denselayer11.norm1.running_mean\", \"features.denseblock3.denselayer11.norm1.running_var\", \"features.denseblock3.denselayer11.norm1.num_batches_tracked\", \"features.denseblock3.denselayer11.conv1.weight\", \"features.denseblock3.denselayer11.norm2.weight\", \"features.denseblock3.denselayer11.norm2.bias\", \"features.denseblock3.denselayer11.norm2.running_mean\", \"features.denseblock3.denselayer11.norm2.running_var\", \"features.denseblock3.denselayer11.norm2.num_batches_tracked\", \"features.denseblock3.denselayer11.conv2.weight\", \"features.denseblock3.denselayer12.norm1.weight\", \"features.denseblock3.denselayer12.norm1.bias\", \"features.denseblock3.denselayer12.norm1.running_mean\", \"features.denseblock3.denselayer12.norm1.running_var\", \"features.denseblock3.denselayer12.norm1.num_batches_tracked\", \"features.denseblock3.denselayer12.conv1.weight\", \"features.denseblock3.denselayer12.norm2.weight\", \"features.denseblock3.denselayer12.norm2.bias\", \"features.denseblock3.denselayer12.norm2.running_mean\", \"features.denseblock3.denselayer12.norm2.running_var\", \"features.denseblock3.denselayer12.norm2.num_batches_tracked\", \"features.denseblock3.denselayer12.conv2.weight\", \"features.denseblock3.denselayer13.norm1.weight\", \"features.denseblock3.denselayer13.norm1.bias\", \"features.denseblock3.denselayer13.norm1.running_mean\", \"features.denseblock3.denselayer13.norm1.running_var\", \"features.denseblock3.denselayer13.norm1.num_batches_tracked\", \"features.denseblock3.denselayer13.conv1.weight\", \"features.denseblock3.denselayer13.norm2.weight\", \"features.denseblock3.denselayer13.norm2.bias\", \"features.denseblock3.denselayer13.norm2.running_mean\", \"features.denseblock3.denselayer13.norm2.running_var\", \"features.denseblock3.denselayer13.norm2.num_batches_tracked\", \"features.denseblock3.denselayer13.conv2.weight\", \"features.denseblock3.denselayer14.norm1.weight\", \"features.denseblock3.denselayer14.norm1.bias\", \"features.denseblock3.denselayer14.norm1.running_mean\", \"features.denseblock3.denselayer14.norm1.running_var\", \"features.denseblock3.denselayer14.norm1.num_batches_tracked\", \"features.denseblock3.denselayer14.conv1.weight\", \"features.denseblock3.denselayer14.norm2.weight\", \"features.denseblock3.denselayer14.norm2.bias\", \"features.denseblock3.denselayer14.norm2.running_mean\", \"features.denseblock3.denselayer14.norm2.running_var\", \"features.denseblock3.denselayer14.norm2.num_batches_tracked\", \"features.denseblock3.denselayer14.conv2.weight\", \"features.denseblock3.denselayer15.norm1.weight\", \"features.denseblock3.denselayer15.norm1.bias\", \"features.denseblock3.denselayer15.norm1.running_mean\", \"features.denseblock3.denselayer15.norm1.running_var\", \"features.denseblock3.denselayer15.norm1.num_batches_tracked\", \"features.denseblock3.denselayer15.conv1.weight\", \"features.denseblock3.denselayer15.norm2.weight\", \"features.denseblock3.denselayer15.norm2.bias\", \"features.denseblock3.denselayer15.norm2.running_mean\", \"features.denseblock3.denselayer15.norm2.running_var\", \"features.denseblock3.denselayer15.norm2.num_batches_tracked\", \"features.denseblock3.denselayer15.conv2.weight\", \"features.denseblock3.denselayer16.norm1.weight\", \"features.denseblock3.denselayer16.norm1.bias\", \"features.denseblock3.denselayer16.norm1.running_mean\", \"features.denseblock3.denselayer16.norm1.running_var\", \"features.denseblock3.denselayer16.norm1.num_batches_tracked\", \"features.denseblock3.denselayer16.conv1.weight\", \"features.denseblock3.denselayer16.norm2.weight\", \"features.denseblock3.denselayer16.norm2.bias\", \"features.denseblock3.denselayer16.norm2.running_mean\", \"features.denseblock3.denselayer16.norm2.running_var\", \"features.denseblock3.denselayer16.norm2.num_batches_tracked\", \"features.denseblock3.denselayer16.conv2.weight\", \"features.denseblock3.denselayer17.norm1.weight\", \"features.denseblock3.denselayer17.norm1.bias\", \"features.denseblock3.denselayer17.norm1.running_mean\", \"features.denseblock3.denselayer17.norm1.running_var\", \"features.denseblock3.denselayer17.norm1.num_batches_tracked\", \"features.denseblock3.denselayer17.conv1.weight\", \"features.denseblock3.denselayer17.norm2.weight\", \"features.denseblock3.denselayer17.norm2.bias\", \"features.denseblock3.denselayer17.norm2.running_mean\", \"features.denseblock3.denselayer17.norm2.running_var\", \"features.denseblock3.denselayer17.norm2.num_batches_tracked\", \"features.denseblock3.denselayer17.conv2.weight\", \"features.denseblock3.denselayer18.norm1.weight\", \"features.denseblock3.denselayer18.norm1.bias\", \"features.denseblock3.denselayer18.norm1.running_mean\", \"features.denseblock3.denselayer18.norm1.running_var\", \"features.denseblock3.denselayer18.norm1.num_batches_tracked\", \"features.denseblock3.denselayer18.conv1.weight\", \"features.denseblock3.denselayer18.norm2.weight\", \"features.denseblock3.denselayer18.norm2.bias\", \"features.denseblock3.denselayer18.norm2.running_mean\", \"features.denseblock3.denselayer18.norm2.running_var\", \"features.denseblock3.denselayer18.norm2.num_batches_tracked\", \"features.denseblock3.denselayer18.conv2.weight\", \"features.denseblock3.denselayer19.norm1.weight\", \"features.denseblock3.denselayer19.norm1.bias\", \"features.denseblock3.denselayer19.norm1.running_mean\", \"features.denseblock3.denselayer19.norm1.running_var\", \"features.denseblock3.denselayer19.norm1.num_batches_tracked\", \"features.denseblock3.denselayer19.conv1.weight\", \"features.denseblock3.denselayer19.norm2.weight\", \"features.denseblock3.denselayer19.norm2.bias\", \"features.denseblock3.denselayer19.norm2.running_mean\", \"features.denseblock3.denselayer19.norm2.running_var\", \"features.denseblock3.denselayer19.norm2.num_batches_tracked\", \"features.denseblock3.denselayer19.conv2.weight\", \"features.denseblock3.denselayer20.norm1.weight\", \"features.denseblock3.denselayer20.norm1.bias\", \"features.denseblock3.denselayer20.norm1.running_mean\", \"features.denseblock3.denselayer20.norm1.running_var\", \"features.denseblock3.denselayer20.norm1.num_batches_tracked\", \"features.denseblock3.denselayer20.conv1.weight\", \"features.denseblock3.denselayer20.norm2.weight\", \"features.denseblock3.denselayer20.norm2.bias\", \"features.denseblock3.denselayer20.norm2.running_mean\", \"features.denseblock3.denselayer20.norm2.running_var\", \"features.denseblock3.denselayer20.norm2.num_batches_tracked\", \"features.denseblock3.denselayer20.conv2.weight\", \"features.denseblock3.denselayer21.norm1.weight\", \"features.denseblock3.denselayer21.norm1.bias\", \"features.denseblock3.denselayer21.norm1.running_mean\", \"features.denseblock3.denselayer21.norm1.running_var\", \"features.denseblock3.denselayer21.norm1.num_batches_tracked\", \"features.denseblock3.denselayer21.conv1.weight\", \"features.denseblock3.denselayer21.norm2.weight\", \"features.denseblock3.denselayer21.norm2.bias\", \"features.denseblock3.denselayer21.norm2.running_mean\", \"features.denseblock3.denselayer21.norm2.running_var\", \"features.denseblock3.denselayer21.norm2.num_batches_tracked\", \"features.denseblock3.denselayer21.conv2.weight\", \"features.denseblock3.denselayer22.norm1.weight\", \"features.denseblock3.denselayer22.norm1.bias\", \"features.denseblock3.denselayer22.norm1.running_mean\", \"features.denseblock3.denselayer22.norm1.running_var\", \"features.denseblock3.denselayer22.norm1.num_batches_tracked\", \"features.denseblock3.denselayer22.conv1.weight\", \"features.denseblock3.denselayer22.norm2.weight\", \"features.denseblock3.denselayer22.norm2.bias\", \"features.denseblock3.denselayer22.norm2.running_mean\", \"features.denseblock3.denselayer22.norm2.running_var\", \"features.denseblock3.denselayer22.norm2.num_batches_tracked\", \"features.denseblock3.denselayer22.conv2.weight\", \"features.denseblock3.denselayer23.norm1.weight\", \"features.denseblock3.denselayer23.norm1.bias\", \"features.denseblock3.denselayer23.norm1.running_mean\", \"features.denseblock3.denselayer23.norm1.running_var\", \"features.denseblock3.denselayer23.norm1.num_batches_tracked\", \"features.denseblock3.denselayer23.conv1.weight\", \"features.denseblock3.denselayer23.norm2.weight\", \"features.denseblock3.denselayer23.norm2.bias\", \"features.denseblock3.denselayer23.norm2.running_mean\", \"features.denseblock3.denselayer23.norm2.running_var\", \"features.denseblock3.denselayer23.norm2.num_batches_tracked\", \"features.denseblock3.denselayer23.conv2.weight\", \"features.denseblock3.denselayer24.norm1.weight\", \"features.denseblock3.denselayer24.norm1.bias\", \"features.denseblock3.denselayer24.norm1.running_mean\", \"features.denseblock3.denselayer24.norm1.running_var\", \"features.denseblock3.denselayer24.norm1.num_batches_tracked\", \"features.denseblock3.denselayer24.conv1.weight\", \"features.denseblock3.denselayer24.norm2.weight\", \"features.denseblock3.denselayer24.norm2.bias\", \"features.denseblock3.denselayer24.norm2.running_mean\", \"features.denseblock3.denselayer24.norm2.running_var\", \"features.denseblock3.denselayer24.norm2.num_batches_tracked\", \"features.denseblock3.denselayer24.conv2.weight\", \"features.transition3.norm.weight\", \"features.transition3.norm.bias\", \"features.transition3.norm.running_mean\", \"features.transition3.norm.running_var\", \"features.transition3.norm.num_batches_tracked\", \"features.transition3.conv.weight\", \"features.denseblock4.denselayer1.norm1.weight\", \"features.denseblock4.denselayer1.norm1.bias\", \"features.denseblock4.denselayer1.norm1.running_mean\", \"features.denseblock4.denselayer1.norm1.running_var\", \"features.denseblock4.denselayer1.norm1.num_batches_tracked\", \"features.denseblock4.denselayer1.conv1.weight\", \"features.denseblock4.denselayer1.norm2.weight\", \"features.denseblock4.denselayer1.norm2.bias\", \"features.denseblock4.denselayer1.norm2.running_mean\", \"features.denseblock4.denselayer1.norm2.running_var\", \"features.denseblock4.denselayer1.norm2.num_batches_tracked\", \"features.denseblock4.denselayer1.conv2.weight\", \"features.denseblock4.denselayer2.norm1.weight\", \"features.denseblock4.denselayer2.norm1.bias\", \"features.denseblock4.denselayer2.norm1.running_mean\", \"features.denseblock4.denselayer2.norm1.running_var\", \"features.denseblock4.denselayer2.norm1.num_batches_tracked\", \"features.denseblock4.denselayer2.conv1.weight\", \"features.denseblock4.denselayer2.norm2.weight\", \"features.denseblock4.denselayer2.norm2.bias\", \"features.denseblock4.denselayer2.norm2.running_mean\", \"features.denseblock4.denselayer2.norm2.running_var\", \"features.denseblock4.denselayer2.norm2.num_batches_tracked\", \"features.denseblock4.denselayer2.conv2.weight\", \"features.denseblock4.denselayer3.norm1.weight\", \"features.denseblock4.denselayer3.norm1.bias\", \"features.denseblock4.denselayer3.norm1.running_mean\", \"features.denseblock4.denselayer3.norm1.running_var\", \"features.denseblock4.denselayer3.norm1.num_batches_tracked\", \"features.denseblock4.denselayer3.conv1.weight\", \"features.denseblock4.denselayer3.norm2.weight\", \"features.denseblock4.denselayer3.norm2.bias\", \"features.denseblock4.denselayer3.norm2.running_mean\", \"features.denseblock4.denselayer3.norm2.running_var\", \"features.denseblock4.denselayer3.norm2.num_batches_tracked\", \"features.denseblock4.denselayer3.conv2.weight\", \"features.denseblock4.denselayer4.norm1.weight\", \"features.denseblock4.denselayer4.norm1.bias\", \"features.denseblock4.denselayer4.norm1.running_mean\", \"features.denseblock4.denselayer4.norm1.running_var\", \"features.denseblock4.denselayer4.norm1.num_batches_tracked\", \"features.denseblock4.denselayer4.conv1.weight\", \"features.denseblock4.denselayer4.norm2.weight\", \"features.denseblock4.denselayer4.norm2.bias\", \"features.denseblock4.denselayer4.norm2.running_mean\", \"features.denseblock4.denselayer4.norm2.running_var\", \"features.denseblock4.denselayer4.norm2.num_batches_tracked\", \"features.denseblock4.denselayer4.conv2.weight\", \"features.denseblock4.denselayer5.norm1.weight\", \"features.denseblock4.denselayer5.norm1.bias\", \"features.denseblock4.denselayer5.norm1.running_mean\", \"features.denseblock4.denselayer5.norm1.running_var\", \"features.denseblock4.denselayer5.norm1.num_batches_tracked\", \"features.denseblock4.denselayer5.conv1.weight\", \"features.denseblock4.denselayer5.norm2.weight\", \"features.denseblock4.denselayer5.norm2.bias\", \"features.denseblock4.denselayer5.norm2.running_mean\", \"features.denseblock4.denselayer5.norm2.running_var\", \"features.denseblock4.denselayer5.norm2.num_batches_tracked\", \"features.denseblock4.denselayer5.conv2.weight\", \"features.denseblock4.denselayer6.norm1.weight\", \"features.denseblock4.denselayer6.norm1.bias\", \"features.denseblock4.denselayer6.norm1.running_mean\", \"features.denseblock4.denselayer6.norm1.running_var\", \"features.denseblock4.denselayer6.norm1.num_batches_tracked\", \"features.denseblock4.denselayer6.conv1.weight\", \"features.denseblock4.denselayer6.norm2.weight\", \"features.denseblock4.denselayer6.norm2.bias\", \"features.denseblock4.denselayer6.norm2.running_mean\", \"features.denseblock4.denselayer6.norm2.running_var\", \"features.denseblock4.denselayer6.norm2.num_batches_tracked\", \"features.denseblock4.denselayer6.conv2.weight\", \"features.denseblock4.denselayer7.norm1.weight\", \"features.denseblock4.denselayer7.norm1.bias\", \"features.denseblock4.denselayer7.norm1.running_mean\", \"features.denseblock4.denselayer7.norm1.running_var\", \"features.denseblock4.denselayer7.norm1.num_batches_tracked\", \"features.denseblock4.denselayer7.conv1.weight\", \"features.denseblock4.denselayer7.norm2.weight\", \"features.denseblock4.denselayer7.norm2.bias\", \"features.denseblock4.denselayer7.norm2.running_mean\", \"features.denseblock4.denselayer7.norm2.running_var\", \"features.denseblock4.denselayer7.norm2.num_batches_tracked\", \"features.denseblock4.denselayer7.conv2.weight\", \"features.denseblock4.denselayer8.norm1.weight\", \"features.denseblock4.denselayer8.norm1.bias\", \"features.denseblock4.denselayer8.norm1.running_mean\", \"features.denseblock4.denselayer8.norm1.running_var\", \"features.denseblock4.denselayer8.norm1.num_batches_tracked\", \"features.denseblock4.denselayer8.conv1.weight\", \"features.denseblock4.denselayer8.norm2.weight\", \"features.denseblock4.denselayer8.norm2.bias\", \"features.denseblock4.denselayer8.norm2.running_mean\", \"features.denseblock4.denselayer8.norm2.running_var\", \"features.denseblock4.denselayer8.norm2.num_batches_tracked\", \"features.denseblock4.denselayer8.conv2.weight\", \"features.denseblock4.denselayer9.norm1.weight\", \"features.denseblock4.denselayer9.norm1.bias\", \"features.denseblock4.denselayer9.norm1.running_mean\", \"features.denseblock4.denselayer9.norm1.running_var\", \"features.denseblock4.denselayer9.norm1.num_batches_tracked\", \"features.denseblock4.denselayer9.conv1.weight\", \"features.denseblock4.denselayer9.norm2.weight\", \"features.denseblock4.denselayer9.norm2.bias\", \"features.denseblock4.denselayer9.norm2.running_mean\", \"features.denseblock4.denselayer9.norm2.running_var\", \"features.denseblock4.denselayer9.norm2.num_batches_tracked\", \"features.denseblock4.denselayer9.conv2.weight\", \"features.denseblock4.denselayer10.norm1.weight\", \"features.denseblock4.denselayer10.norm1.bias\", \"features.denseblock4.denselayer10.norm1.running_mean\", \"features.denseblock4.denselayer10.norm1.running_var\", \"features.denseblock4.denselayer10.norm1.num_batches_tracked\", \"features.denseblock4.denselayer10.conv1.weight\", \"features.denseblock4.denselayer10.norm2.weight\", \"features.denseblock4.denselayer10.norm2.bias\", \"features.denseblock4.denselayer10.norm2.running_mean\", \"features.denseblock4.denselayer10.norm2.running_var\", \"features.denseblock4.denselayer10.norm2.num_batches_tracked\", \"features.denseblock4.denselayer10.conv2.weight\", \"features.denseblock4.denselayer11.norm1.weight\", \"features.denseblock4.denselayer11.norm1.bias\", \"features.denseblock4.denselayer11.norm1.running_mean\", \"features.denseblock4.denselayer11.norm1.running_var\", \"features.denseblock4.denselayer11.norm1.num_batches_tracked\", \"features.denseblock4.denselayer11.conv1.weight\", \"features.denseblock4.denselayer11.norm2.weight\", \"features.denseblock4.denselayer11.norm2.bias\", \"features.denseblock4.denselayer11.norm2.running_mean\", \"features.denseblock4.denselayer11.norm2.running_var\", \"features.denseblock4.denselayer11.norm2.num_batches_tracked\", \"features.denseblock4.denselayer11.conv2.weight\", \"features.denseblock4.denselayer12.norm1.weight\", \"features.denseblock4.denselayer12.norm1.bias\", \"features.denseblock4.denselayer12.norm1.running_mean\", \"features.denseblock4.denselayer12.norm1.running_var\", \"features.denseblock4.denselayer12.norm1.num_batches_tracked\", \"features.denseblock4.denselayer12.conv1.weight\", \"features.denseblock4.denselayer12.norm2.weight\", \"features.denseblock4.denselayer12.norm2.bias\", \"features.denseblock4.denselayer12.norm2.running_mean\", \"features.denseblock4.denselayer12.norm2.running_var\", \"features.denseblock4.denselayer12.norm2.num_batches_tracked\", \"features.denseblock4.denselayer12.conv2.weight\", \"features.denseblock4.denselayer13.norm1.weight\", \"features.denseblock4.denselayer13.norm1.bias\", \"features.denseblock4.denselayer13.norm1.running_mean\", \"features.denseblock4.denselayer13.norm1.running_var\", \"features.denseblock4.denselayer13.norm1.num_batches_tracked\", \"features.denseblock4.denselayer13.conv1.weight\", \"features.denseblock4.denselayer13.norm2.weight\", \"features.denseblock4.denselayer13.norm2.bias\", \"features.denseblock4.denselayer13.norm2.running_mean\", \"features.denseblock4.denselayer13.norm2.running_var\", \"features.denseblock4.denselayer13.norm2.num_batches_tracked\", \"features.denseblock4.denselayer13.conv2.weight\", \"features.denseblock4.denselayer14.norm1.weight\", \"features.denseblock4.denselayer14.norm1.bias\", \"features.denseblock4.denselayer14.norm1.running_mean\", \"features.denseblock4.denselayer14.norm1.running_var\", \"features.denseblock4.denselayer14.norm1.num_batches_tracked\", \"features.denseblock4.denselayer14.conv1.weight\", \"features.denseblock4.denselayer14.norm2.weight\", \"features.denseblock4.denselayer14.norm2.bias\", \"features.denseblock4.denselayer14.norm2.running_mean\", \"features.denseblock4.denselayer14.norm2.running_var\", \"features.denseblock4.denselayer14.norm2.num_batches_tracked\", \"features.denseblock4.denselayer14.conv2.weight\", \"features.denseblock4.denselayer15.norm1.weight\", \"features.denseblock4.denselayer15.norm1.bias\", \"features.denseblock4.denselayer15.norm1.running_mean\", \"features.denseblock4.denselayer15.norm1.running_var\", \"features.denseblock4.denselayer15.norm1.num_batches_tracked\", \"features.denseblock4.denselayer15.conv1.weight\", \"features.denseblock4.denselayer15.norm2.weight\", \"features.denseblock4.denselayer15.norm2.bias\", \"features.denseblock4.denselayer15.norm2.running_mean\", \"features.denseblock4.denselayer15.norm2.running_var\", \"features.denseblock4.denselayer15.norm2.num_batches_tracked\", \"features.denseblock4.denselayer15.conv2.weight\", \"features.denseblock4.denselayer16.norm1.weight\", \"features.denseblock4.denselayer16.norm1.bias\", \"features.denseblock4.denselayer16.norm1.running_mean\", \"features.denseblock4.denselayer16.norm1.running_var\", \"features.denseblock4.denselayer16.norm1.num_batches_tracked\", \"features.denseblock4.denselayer16.conv1.weight\", \"features.denseblock4.denselayer16.norm2.weight\", \"features.denseblock4.denselayer16.norm2.bias\", \"features.denseblock4.denselayer16.norm2.running_mean\", \"features.denseblock4.denselayer16.norm2.running_var\", \"features.denseblock4.denselayer16.norm2.num_batches_tracked\", \"features.denseblock4.denselayer16.conv2.weight\", \"features.norm5.weight\", \"features.norm5.bias\", \"features.norm5.running_mean\", \"features.norm5.running_var\", \"features.norm5.num_batches_tracked\", \"classifier.0.weight\", \"classifier.0.bias\", \"classifier.3.weight\", \"classifier.3.bias\". ",
          "traceback": [
            "\u001b[0;31m---------------------------------------------------------------------------\u001b[0m",
            "\u001b[0;31mRuntimeError\u001b[0m                              Traceback (most recent call last)",
            "\u001b[0;32m<ipython-input-21-bedfc2322199>\u001b[0m in \u001b[0;36m<module>\u001b[0;34m\u001b[0m\n\u001b[1;32m      3\u001b[0m \u001b[0mmodel\u001b[0m \u001b[0;34m=\u001b[0m \u001b[0mfc_model\u001b[0m\u001b[0;34m.\u001b[0m\u001b[0mNetwork\u001b[0m\u001b[0;34m(\u001b[0m\u001b[0;36m784\u001b[0m\u001b[0;34m,\u001b[0m \u001b[0;36m10\u001b[0m\u001b[0;34m,\u001b[0m \u001b[0;34m[\u001b[0m\u001b[0;36m400\u001b[0m\u001b[0;34m,\u001b[0m \u001b[0;36m200\u001b[0m\u001b[0;34m,\u001b[0m \u001b[0;36m100\u001b[0m\u001b[0;34m]\u001b[0m\u001b[0;34m)\u001b[0m\u001b[0;34m\u001b[0m\u001b[0;34m\u001b[0m\u001b[0m\n\u001b[1;32m      4\u001b[0m \u001b[0;31m# This will throw an error because the tensor sizes are wrong!\u001b[0m\u001b[0;34m\u001b[0m\u001b[0;34m\u001b[0m\u001b[0;34m\u001b[0m\u001b[0m\n\u001b[0;32m----> 5\u001b[0;31m \u001b[0mmodel\u001b[0m\u001b[0;34m.\u001b[0m\u001b[0mload_state_dict\u001b[0m\u001b[0;34m(\u001b[0m\u001b[0mstate_dict\u001b[0m\u001b[0;34m)\u001b[0m\u001b[0;34m\u001b[0m\u001b[0;34m\u001b[0m\u001b[0m\n\u001b[0m",
            "\u001b[0;32m/opt/homebrew/anaconda3/envs/condaenv/lib/python3.9/site-packages/torch/nn/modules/module.py\u001b[0m in \u001b[0;36mload_state_dict\u001b[0;34m(self, state_dict, strict)\u001b[0m\n\u001b[1;32m   1049\u001b[0m \u001b[0;34m\u001b[0m\u001b[0m\n\u001b[1;32m   1050\u001b[0m         \u001b[0;32mif\u001b[0m \u001b[0mlen\u001b[0m\u001b[0;34m(\u001b[0m\u001b[0merror_msgs\u001b[0m\u001b[0;34m)\u001b[0m \u001b[0;34m>\u001b[0m \u001b[0;36m0\u001b[0m\u001b[0;34m:\u001b[0m\u001b[0;34m\u001b[0m\u001b[0;34m\u001b[0m\u001b[0m\n\u001b[0;32m-> 1051\u001b[0;31m             raise RuntimeError('Error(s) in loading state_dict for {}:\\n\\t{}'.format(\n\u001b[0m\u001b[1;32m   1052\u001b[0m                                self.__class__.__name__, \"\\n\\t\".join(error_msgs)))\n\u001b[1;32m   1053\u001b[0m         \u001b[0;32mreturn\u001b[0m \u001b[0m_IncompatibleKeys\u001b[0m\u001b[0;34m(\u001b[0m\u001b[0mmissing_keys\u001b[0m\u001b[0;34m,\u001b[0m \u001b[0munexpected_keys\u001b[0m\u001b[0;34m)\u001b[0m\u001b[0;34m\u001b[0m\u001b[0;34m\u001b[0m\u001b[0m\n",
            "\u001b[0;31mRuntimeError\u001b[0m: Error(s) in loading state_dict for Network:\n\tMissing key(s) in state_dict: \"hidden_layers.0.weight\", \"hidden_layers.0.bias\", \"hidden_layers.1.weight\", \"hidden_layers.1.bias\", \"hidden_layers.2.weight\", \"hidden_layers.2.bias\", \"output.weight\", \"output.bias\". \n\tUnexpected key(s) in state_dict: \"features.conv0.weight\", \"features.norm0.weight\", \"features.norm0.bias\", \"features.norm0.running_mean\", \"features.norm0.running_var\", \"features.norm0.num_batches_tracked\", \"features.denseblock1.denselayer1.norm1.weight\", \"features.denseblock1.denselayer1.norm1.bias\", \"features.denseblock1.denselayer1.norm1.running_mean\", \"features.denseblock1.denselayer1.norm1.running_var\", \"features.denseblock1.denselayer1.norm1.num_batches_tracked\", \"features.denseblock1.denselayer1.conv1.weight\", \"features.denseblock1.denselayer1.norm2.weight\", \"features.denseblock1.denselayer1.norm2.bias\", \"features.denseblock1.denselayer1.norm2.running_mean\", \"features.denseblock1.denselayer1.norm2.running_var\", \"features.denseblock1.denselayer1.norm2.num_batches_tracked\", \"features.denseblock1.denselayer1.conv2.weight\", \"features.denseblock1.denselayer2.norm1.weight\", \"features.denseblock1.denselayer2.norm1.bias\", \"features.denseblock1.denselayer2.norm1.running_mean\", \"features.denseblock1.denselayer2.norm1.running_var\", \"features.denseblock1.denselayer2.norm1.num_batches_tracked\", \"features.denseblock1.denselayer2.conv1.weight\", \"features.denseblock1.denselayer2.norm2.weight\", \"features.denseblock1.denselayer2.norm2.bias\", \"features.denseblock1.denselayer2.norm2.running_mean\", \"features.denseblock1.denselayer2.norm2.running_var\", \"features.denseblock1.denselayer2.norm2.num_batches_tracked\", \"features.denseblock1.denselayer2.conv2.weight\", \"features.denseblock1.denselayer3.norm1.weight\", \"features.denseblock1.denselayer3.norm1.bias\", \"features.denseblock1.denselayer3.norm1.running_mean\", \"features.denseblock1.denselayer3.norm1.running_var\", \"features.denseblock1.denselayer3.norm1.num_batches_tracked\", \"features.denseblock1.denselayer3.conv1.weight\", \"features.denseblock1.denselayer3.norm2.weight\", \"features.denseblock1.denselayer3.norm2.bias\", \"features.denseblock1.denselayer3.norm2.running_mean\", \"features.denseblock1.denselayer3.norm2.running_var\", \"features.denseblock1.denselayer3.norm2.num_batches_tracked\", \"features.denseblock1.denselayer3.conv2.weight\", \"features.denseblock1.denselayer4.norm1.weight\", \"features.denseblock1.denselayer4.norm1.bias\", \"features.denseblock1.denselayer4.norm1.running_mean\", \"features.denseblock1.denselayer4.norm1.running_var\", \"features.denseblock1.denselayer4.norm1.num_batches_tracked\", \"features.denseblock1.denselayer4.conv1.weight\", \"features.denseblock1.denselayer4.norm2.weight\", \"features.denseblock1.denselayer4.norm2.bias\", \"features.denseblock1.denselayer4.norm2.running_mean\", \"features.denseblock1.denselayer4.norm2.running_var\", \"features.denseblock1.denselayer4.norm2.num_batches_tracked\", \"features.denseblock1.denselayer4.conv2.weight\", \"features.denseblock1.denselayer5.norm1.weight\", \"features.denseblock1.denselayer5.norm1.bias\", \"features.denseblock1.denselayer5.norm1.running_mean\", \"features.denseblock1.denselayer5.norm1.running_var\", \"features.denseblock1.denselayer5.norm1.num_batches_tracked\", \"features.denseblock1.denselayer5.conv1.weight\", \"features.denseblock1.denselayer5.norm2.weight\", \"features.denseblock1.denselayer5.norm2.bias\", \"features.denseblock1.denselayer5.norm2.running_mean\", \"features.denseblock1.denselayer5.norm2.running_var\", \"features.denseblock1.denselayer5.norm2.num_batches_tracked\", \"features.denseblock1.denselayer5.conv2.weight\", \"features.denseblock1.denselayer6.norm1.weight\", \"features.denseblock1.denselayer6.norm1.bias\", \"features.denseblock1.denselayer6.norm1.running_mean\", \"features.denseblock1.denselayer6.norm1.running_var\", \"features.denseblock1.denselayer6.norm1.num_batches_tracked\", \"features.denseblock1.denselayer6.conv1.weight\", \"features.denseblock1.denselayer6.norm2.weight\", \"features.denseblock1.denselayer6.norm2.bias\", \"features.denseblock1.denselayer6.norm2.running_mean\", \"features.denseblock1.denselayer6.norm2.running_var\", \"features.denseblock1.denselayer6.norm2.num_batches_tracked\", \"features.denseblock1.denselayer6.conv2.weight\", \"features.transition1.norm.weight\", \"features.transition1.norm.bias\", \"features.transition1.norm.running_mean\", \"features.transition1.norm.running_var\", \"features.transition1.norm.num_batches_tracked\", \"features.transition1.conv.weight\", \"features.denseblock2.denselayer1.norm1.weight\", \"features.denseblock2.denselayer1.norm1.bias\", \"features.denseblock2.denselayer1.norm1.running_mean\", \"features.denseblock2.denselayer1.norm1.running_var\", \"features.denseblock2.denselayer1.norm1.num_batches_tracked\", \"features.denseblock2.denselayer1.conv1.weight\", \"features.denseblock2.denselayer1.norm2.weight\", \"features.denseblock2.denselayer1.norm2.bias\", \"features.denseblock2.denselayer1.norm2.running_mean\", \"features.denseblock2.denselayer1.norm2.running_var\", \"features.denseblock2.denselayer1.norm2.num_batches_tracked\", \"features.denseblock2.denselayer1.conv2.weight\", \"features.denseblock2.denselayer2.norm1.weight\", \"features.denseblock2.denselayer2.norm1.bias\", \"features.denseblock2.denselayer2.norm1.running_mean\", \"features.denseblock2.denselayer2.norm1.running_var\", \"features.denseblock2.denselayer2.norm1.num_batches_tracked\", \"features.denseblock2.denselayer2.conv1.weight\", \"features.denseblock2.denselayer2.norm2.weight\", \"features.denseblock2.denselayer2.norm2.bias\", \"features.denseblock2.denselayer2.norm2.running_mean\", \"features.denseblock2.denselayer2.norm2.running_var\", \"features.denseblock2.denselayer2.norm2.num_batches_tracked\", \"features.denseblock2.denselayer2.conv2.weight\", \"features.denseblock2.denselayer3.norm1.weight\", \"features.denseblock2.denselayer3.norm1.bias\", \"features.denseblock2.denselayer3.norm1.running_mean\", \"features.denseblock2.denselayer3.norm1.running_var\", \"features.denseblock2.denselayer3.norm1.num_batches_tracked\", \"features.denseblock2.denselayer3.conv1.weight\", \"features.denseblock2.denselayer3.norm2.weight\", \"features.denseblock2.denselayer3.norm2.bias\", \"features.denseblock2.denselayer3.norm2.running_mean\", \"features.denseblock2.denselayer3.norm2.running_var\", \"features.denseblock2.denselayer3.norm2.num_batches_tracked\", \"features.denseblock2.denselayer3.conv2.weight\", \"features.denseblock2.denselayer4.norm1.weight\", \"features.denseblock2.denselayer4.norm1.bias\", \"features.denseblock2.denselayer4.norm1.running_mean\", \"features.denseblock2.denselayer4.norm1.running_var\", \"features.denseblock2.denselayer4.norm1.num_batches_tracked\", \"features.denseblock2.denselayer4.conv1.weight\", \"features.denseblock2.denselayer4.norm2.weight\", \"features.denseblock2.denselayer4.norm2.bias\", \"features.denseblock2.denselayer4.norm2.running_mean\", \"features.denseblock2.denselayer4.norm2.running_var\", \"features.denseblock2.denselayer4.norm2.num_batches_tracked\", \"features.denseblock2.denselayer4.conv2.weight\", \"features.denseblock2.denselayer5.norm1.weight\", \"features.denseblock2.denselayer5.norm1.bias\", \"features.denseblock2.denselayer5.norm1.running_mean\", \"features.denseblock2.denselayer5.norm1.running_var\", \"features.denseblock2.denselayer5.norm1.num_batches_tracked\", \"features.denseblock2.denselayer5.conv1.weight\", \"features.denseblock2.denselayer5.norm2.weight\", \"features.denseblock2.denselayer5.norm2.bias\", \"features.denseblock2.denselayer5.norm2.running_mean\", \"features.denseblock2.denselayer5.norm2.running_var\", \"features.denseblock2.denselayer5.norm2.num_batches_tracked\", \"features.denseblock2.denselayer5.conv2.weight\", \"features.denseblock2.denselayer6.norm1.weight\", \"features.denseblock2.denselayer6.norm1.bias\", \"features.denseblock2.denselayer6.norm1.running_mean\", \"features.denseblock2.denselayer6.norm1.running_var\", \"features.denseblock2.denselayer6.norm1.num_batches_tracked\", \"features.denseblock2.denselayer6.conv1.weight\", \"features.denseblock2.denselayer6.norm2.weight\", \"features.denseblock2.denselayer6.norm2.bias\", \"features.denseblock2.denselayer6.norm2.running_mean\", \"features.denseblock2.denselayer6.norm2.running_var\", \"features.denseblock2.denselayer6.norm2.num_batches_tracked\", \"features.denseblock2.denselayer6.conv2.weight\", \"features.denseblock2.denselayer7.norm1.weight\", \"features.denseblock2.denselayer7.norm1.bias\", \"features.denseblock2.denselayer7.norm1.running_mean\", \"features.denseblock2.denselayer7.norm1.running_var\", \"features.denseblock2.denselayer7.norm1.num_batches_tracked\", \"features.denseblock2.denselayer7.conv1.weight\", \"features.denseblock2.denselayer7.norm2.weight\", \"features.denseblock2.denselayer7.norm2.bias\", \"features.denseblock2.denselayer7.norm2.running_mean\", \"features.denseblock2.denselayer7.norm2.running_var\", \"features.denseblock2.denselayer7.norm2.num_batches_tracked\", \"features.denseblock2.denselayer7.conv2.weight\", \"features.denseblock2.denselayer8.norm1.weight\", \"features.denseblock2.denselayer8.norm1.bias\", \"features.denseblock2.denselayer8.norm1.running_mean\", \"features.denseblock2.denselayer8.norm1.running_var\", \"features.denseblock2.denselayer8.norm1.num_batches_tracked\", \"features.denseblock2.denselayer8.conv1.weight\", \"features.denseblock2.denselayer8.norm2.weight\", \"features.denseblock2.denselayer8.norm2.bias\", \"features.denseblock2.denselayer8.norm2.running_mean\", \"features.denseblock2.denselayer8.norm2.running_var\", \"features.denseblock2.denselayer8.norm2.num_batches_tracked\", \"features.denseblock2.denselayer8.conv2.weight\", \"features.denseblock2.denselayer9.norm1.weight\", \"features.denseblock2.denselayer9.norm1.bias\", \"features.denseblock2.denselayer9.norm1.running_mean\", \"features.denseblock2.denselayer9.norm1.running_var\", \"features.denseblock2.denselayer9.norm1.num_batches_tracked\", \"features.denseblock2.denselayer9.conv1.weight\", \"features.denseblock2.denselayer9.norm2.weight\", \"features.denseblock2.denselayer9.norm2.bias\", \"features.denseblock2.denselayer9.norm2.running_mean\", \"features.denseblock2.denselayer9.norm2.running_var\", \"features.denseblock2.denselayer9.norm2.num_batches_tracked\", \"features.denseblock2.denselayer9.conv2.weight\", \"features.denseblock2.denselayer10.norm1.weight\", \"features.denseblock2.denselayer10.norm1.bias\", \"features.denseblock2.denselayer10.norm1.running_mean\", \"features.denseblock2.denselayer10.norm1.running_var\", \"features.denseblock2.denselayer10.norm1.num_batches_tracked\", \"features.denseblock2.denselayer10.conv1.weight\", \"features.denseblock2.denselayer10.norm2.weight\", \"features.denseblock2.denselayer10.norm2.bias\", \"features.denseblock2.denselayer10.norm2.running_mean\", \"features.denseblock2.denselayer10.norm2.running_var\", \"features.denseblock2.denselayer10.norm2.num_batches_tracked\", \"features.denseblock2.denselayer10.conv2.weight\", \"features.denseblock2.denselayer11.norm1.weight\", \"features.denseblock2.denselayer11.norm1.bias\", \"features.denseblock2.denselayer11.norm1.running_mean\", \"features.denseblock2.denselayer11.norm1.running_var\", \"features.denseblock2.denselayer11.norm1.num_batches_tracked\", \"features.denseblock2.denselayer11.conv1.weight\", \"features.denseblock2.denselayer11.norm2.weight\", \"features.denseblock2.denselayer11.norm2.bias\", \"features.denseblock2.denselayer11.norm2.running_mean\", \"features.denseblock2.denselayer11.norm2.running_var\", \"features.denseblock2.denselayer11.norm2.num_batches_tracked\", \"features.denseblock2.denselayer11.conv2.weight\", \"features.denseblock2.denselayer12.norm1.weight\", \"features.denseblock2.denselayer12.norm1.bias\", \"features.denseblock2.denselayer12.norm1.running_mean\", \"features.denseblock2.denselayer12.norm1.running_var\", \"features.denseblock2.denselayer12.norm1.num_batches_tracked\", \"features.denseblock2.denselayer12.conv1.weight\", \"features.denseblock2.denselayer12.norm2.weight\", \"features.denseblock2.denselayer12.norm2.bias\", \"features.denseblock2.denselayer12.norm2.running_mean\", \"features.denseblock2.denselayer12.norm2.running_var\", \"features.denseblock2.denselayer12.norm2.num_batches_tracked\", \"features.denseblock2.denselayer12.conv2.weight\", \"features.transition2.norm.weight\", \"features.transition2.norm.bias\", \"features.transition2.norm.running_mean\", \"features.transition2.norm.running_var\", \"features.transition2.norm.num_batches_tracked\", \"features.transition2.conv.weight\", \"features.denseblock3.denselayer1.norm1.weight\", \"features.denseblock3.denselayer1.norm1.bias\", \"features.denseblock3.denselayer1.norm1.running_mean\", \"features.denseblock3.denselayer1.norm1.running_var\", \"features.denseblock3.denselayer1.norm1.num_batches_tracked\", \"features.denseblock3.denselayer1.conv1.weight\", \"features.denseblock3.denselayer1.norm2.weight\", \"features.denseblock3.denselayer1.norm2.bias\", \"features.denseblock3.denselayer1.norm2.running_mean\", \"features.denseblock3.denselayer1.norm2.running_var\", \"features.denseblock3.denselayer1.norm2.num_batches_tracked\", \"features.denseblock3.denselayer1.conv2.weight\", \"features.denseblock3.denselayer2.norm1.weight\", \"features.denseblock3.denselayer2.norm1.bias\", \"features.denseblock3.denselayer2.norm1.running_mean\", \"features.denseblock3.denselayer2.norm1.running_var\", \"features.denseblock3.denselayer2.norm1.num_batches_tracked\", \"features.denseblock3.denselayer2.conv1.weight\", \"features.denseblock3.denselayer2.norm2.weight\", \"features.denseblock3.denselayer2.norm2.bias\", \"features.denseblock3.denselayer2.norm2.running_mean\", \"features.denseblock3.denselayer2.norm2.running_var\", \"features.denseblock3.denselayer2.norm2.num_batches_tracked\", \"features.denseblock3.denselayer2.conv2.weight\", \"features.denseblock3.denselayer3.norm1.weight\", \"features.denseblock3.denselayer3.norm1.bias\", \"features.denseblock3.denselayer3.norm1.running_mean\", \"features.denseblock3.denselayer3.norm1.running_var\", \"features.denseblock3.denselayer3.norm1.num_batches_tracked\", \"features.denseblock3.denselayer3.conv1.weight\", \"features.denseblock3.denselayer3.norm2.weight\", \"features.denseblock3.denselayer3.norm2.bias\", \"features.denseblock3.denselayer3.norm2.running_mean\", \"features.denseblock3.denselayer3.norm2.running_var\", \"features.denseblock3.denselayer3.norm2.num_batches_tracked\", \"features.denseblock3.denselayer3.conv2.weight\", \"features.denseblock3.denselayer4.norm1.weight\", \"features.denseblock3.denselayer4.norm1.bias\", \"features.denseblock3.denselayer4.norm1.running_mean\", \"features.denseblock3.denselayer4.norm1.running_var\", \"features.denseblock3.denselayer4.norm1.num_batches_tracked\", \"features.denseblock3.denselayer4.conv1.weight\", \"features.denseblock3.denselayer4.norm2.weight\", \"features.denseblock3.denselayer4.norm2.bias\", \"features.denseblock3.denselayer4.norm2.running_mean\", \"features.denseblock3.denselayer4.norm2.running_var\", \"features.denseblock3.denselayer4.norm2.num_batches_tracked\", \"features.denseblock3.denselayer4.conv2.weight\", \"features.denseblock3.denselayer5.norm1.weight\", \"features.denseblock3.denselayer5.norm1.bias\", \"features.denseblock3.denselayer5.norm1.running_mean\", \"features.denseblock3.denselayer5.norm1.running_var\", \"features.denseblock3.denselayer5.norm1.num_batches_tracked\", \"features.denseblock3.denselayer5.conv1.weight\", \"features.denseblock3.denselayer5.norm2.weight\", \"features.denseblock3.denselayer5.norm2.bias\", \"features.denseblock3.denselayer5.norm2.running_mean\", \"features.denseblock3.denselayer5.norm2.running_var\", \"features.denseblock3.denselayer5.norm2.num_batches_tracked\", \"features.denseblock3.denselayer5.conv2.weight\", \"features.denseblock3.denselayer6.norm1.weight\", \"features.denseblock3.denselayer6.norm1.bias\", \"features.denseblock3.denselayer6.norm1.running_mean\", \"features.denseblock3.denselayer6.norm1.running_var\", \"features.denseblock3.denselayer6.norm1.num_batches_tracked\", \"features.denseblock3.denselayer6.conv1.weight\", \"features.denseblock3.denselayer6.norm2.weight\", \"features.denseblock3.denselayer6.norm2.bias\", \"features.denseblock3.denselayer6.norm2.running_mean\", \"features.denseblock3.denselayer6.norm2.running_var\", \"features.denseblock3.denselayer6.norm2.num_batches_tracked\", \"features.denseblock3.denselayer6.conv2.weight\", \"features.denseblock3.denselayer7.norm1.weight\", \"features.denseblock3.denselayer7.norm1.bias\", \"features.denseblock3.denselayer7.norm1.running_mean\", \"features.denseblock3.denselayer7.norm1.running_var\", \"features.denseblock3.denselayer7.norm1.num_batches_tracked\", \"features.denseblock3.denselayer7.conv1.weight\", \"features.denseblock3.denselayer7.norm2.weight\", \"features.denseblock3.denselayer7.norm2.bias\", \"features.denseblock3.denselayer7.norm2.running_mean\", \"features.denseblock3.denselayer7.norm2.running_var\", \"features.denseblock3.denselayer7.norm2.num_batches_tracked\", \"features.denseblock3.denselayer7.conv2.weight\", \"features.denseblock3.denselayer8.norm1.weight\", \"features.denseblock3.denselayer8.norm1.bias\", \"features.denseblock3.denselayer8.norm1.running_mean\", \"features.denseblock3.denselayer8.norm1.running_var\", \"features.denseblock3.denselayer8.norm1.num_batches_tracked\", \"features.denseblock3.denselayer8.conv1.weight\", \"features.denseblock3.denselayer8.norm2.weight\", \"features.denseblock3.denselayer8.norm2.bias\", \"features.denseblock3.denselayer8.norm2.running_mean\", \"features.denseblock3.denselayer8.norm2.running_var\", \"features.denseblock3.denselayer8.norm2.num_batches_tracked\", \"features.denseblock3.denselayer8.conv2.weight\", \"features.denseblock3.denselayer9.norm1.weight\", \"features.denseblock3.denselayer9.norm1.bias\", \"features.denseblock3.denselayer9.norm1.running_mean\", \"features.denseblock3.denselayer9.norm1.running_var\", \"features.denseblock3.denselayer9.norm1.num_batches_tracked\", \"features.denseblock3.denselayer9.conv1.weight\", \"features.denseblock3.denselayer9.norm2.weight\", \"features.denseblock3.denselayer9.norm2.bias\", \"features.denseblock3.denselayer9.norm2.running_mean\", \"features.denseblock3.denselayer9.norm2.running_var\", \"features.denseblock3.denselayer9.norm2.num_batches_tracked\", \"features.denseblock3.denselayer9.conv2.weight\", \"features.denseblock3.denselayer10.norm1.weight\", \"features.denseblock3.denselayer10.norm1.bias\", \"features.denseblock3.denselayer10.norm1.running_mean\", \"features.denseblock3.denselayer10.norm1.running_var\", \"features.denseblock3.denselayer10.norm1.num_batches_tracked\", \"features.denseblock3.denselayer10.conv1.weight\", \"features.denseblock3.denselayer10.norm2.weight\", \"features.denseblock3.denselayer10.norm2.bias\", \"features.denseblock3.denselayer10.norm2.running_mean\", \"features.denseblock3.denselayer10.norm2.running_var\", \"features.denseblock3.denselayer10.norm2.num_batches_tracked\", \"features.denseblock3.denselayer10.conv2.weight\", \"features.denseblock3.denselayer11.norm1.weight\", \"features.denseblock3.denselayer11.norm1.bias\", \"features.denseblock3.denselayer11.norm1.running_mean\", \"features.denseblock3.denselayer11.norm1.running_var\", \"features.denseblock3.denselayer11.norm1.num_batches_tracked\", \"features.denseblock3.denselayer11.conv1.weight\", \"features.denseblock3.denselayer11.norm2.weight\", \"features.denseblock3.denselayer11.norm2.bias\", \"features.denseblock3.denselayer11.norm2.running_mean\", \"features.denseblock3.denselayer11.norm2.running_var\", \"features.denseblock3.denselayer11.norm2.num_batches_tracked\", \"features.denseblock3.denselayer11.conv2.weight\", \"features.denseblock3.denselayer12.norm1.weight\", \"features.denseblock3.denselayer12.norm1.bias\", \"features.denseblock3.denselayer12.norm1.running_mean\", \"features.denseblock3.denselayer12.norm1.running_var\", \"features.denseblock3.denselayer12.norm1.num_batches_tracked\", \"features.denseblock3.denselayer12.conv1.weight\", \"features.denseblock3.denselayer12.norm2.weight\", \"features.denseblock3.denselayer12.norm2.bias\", \"features.denseblock3.denselayer12.norm2.running_mean\", \"features.denseblock3.denselayer12.norm2.running_var\", \"features.denseblock3.denselayer12.norm2.num_batches_tracked\", \"features.denseblock3.denselayer12.conv2.weight\", \"features.denseblock3.denselayer13.norm1.weight\", \"features.denseblock3.denselayer13.norm1.bias\", \"features.denseblock3.denselayer13.norm1.running_mean\", \"features.denseblock3.denselayer13.norm1.running_var\", \"features.denseblock3.denselayer13.norm1.num_batches_tracked\", \"features.denseblock3.denselayer13.conv1.weight\", \"features.denseblock3.denselayer13.norm2.weight\", \"features.denseblock3.denselayer13.norm2.bias\", \"features.denseblock3.denselayer13.norm2.running_mean\", \"features.denseblock3.denselayer13.norm2.running_var\", \"features.denseblock3.denselayer13.norm2.num_batches_tracked\", \"features.denseblock3.denselayer13.conv2.weight\", \"features.denseblock3.denselayer14.norm1.weight\", \"features.denseblock3.denselayer14.norm1.bias\", \"features.denseblock3.denselayer14.norm1.running_mean\", \"features.denseblock3.denselayer14.norm1.running_var\", \"features.denseblock3.denselayer14.norm1.num_batches_tracked\", \"features.denseblock3.denselayer14.conv1.weight\", \"features.denseblock3.denselayer14.norm2.weight\", \"features.denseblock3.denselayer14.norm2.bias\", \"features.denseblock3.denselayer14.norm2.running_mean\", \"features.denseblock3.denselayer14.norm2.running_var\", \"features.denseblock3.denselayer14.norm2.num_batches_tracked\", \"features.denseblock3.denselayer14.conv2.weight\", \"features.denseblock3.denselayer15.norm1.weight\", \"features.denseblock3.denselayer15.norm1.bias\", \"features.denseblock3.denselayer15.norm1.running_mean\", \"features.denseblock3.denselayer15.norm1.running_var\", \"features.denseblock3.denselayer15.norm1.num_batches_tracked\", \"features.denseblock3.denselayer15.conv1.weight\", \"features.denseblock3.denselayer15.norm2.weight\", \"features.denseblock3.denselayer15.norm2.bias\", \"features.denseblock3.denselayer15.norm2.running_mean\", \"features.denseblock3.denselayer15.norm2.running_var\", \"features.denseblock3.denselayer15.norm2.num_batches_tracked\", \"features.denseblock3.denselayer15.conv2.weight\", \"features.denseblock3.denselayer16.norm1.weight\", \"features.denseblock3.denselayer16.norm1.bias\", \"features.denseblock3.denselayer16.norm1.running_mean\", \"features.denseblock3.denselayer16.norm1.running_var\", \"features.denseblock3.denselayer16.norm1.num_batches_tracked\", \"features.denseblock3.denselayer16.conv1.weight\", \"features.denseblock3.denselayer16.norm2.weight\", \"features.denseblock3.denselayer16.norm2.bias\", \"features.denseblock3.denselayer16.norm2.running_mean\", \"features.denseblock3.denselayer16.norm2.running_var\", \"features.denseblock3.denselayer16.norm2.num_batches_tracked\", \"features.denseblock3.denselayer16.conv2.weight\", \"features.denseblock3.denselayer17.norm1.weight\", \"features.denseblock3.denselayer17.norm1.bias\", \"features.denseblock3.denselayer17.norm1.running_mean\", \"features.denseblock3.denselayer17.norm1.running_var\", \"features.denseblock3.denselayer17.norm1.num_batches_tracked\", \"features.denseblock3.denselayer17.conv1.weight\", \"features.denseblock3.denselayer17.norm2.weight\", \"features.denseblock3.denselayer17.norm2.bias\", \"features.denseblock3.denselayer17.norm2.running_mean\", \"features.denseblock3.denselayer17.norm2.running_var\", \"features.denseblock3.denselayer17.norm2.num_batches_tracked\", \"features.denseblock3.denselayer17.conv2.weight\", \"features.denseblock3.denselayer18.norm1.weight\", \"features.denseblock3.denselayer18.norm1.bias\", \"features.denseblock3.denselayer18.norm1.running_mean\", \"features.denseblock3.denselayer18.norm1.running_var\", \"features.denseblock3.denselayer18.norm1.num_batches_tracked\", \"features.denseblock3.denselayer18.conv1.weight\", \"features.denseblock3.denselayer18.norm2.weight\", \"features.denseblock3.denselayer18.norm2.bias\", \"features.denseblock3.denselayer18.norm2.running_mean\", \"features.denseblock3.denselayer18.norm2.running_var\", \"features.denseblock3.denselayer18.norm2.num_batches_tracked\", \"features.denseblock3.denselayer18.conv2.weight\", \"features.denseblock3.denselayer19.norm1.weight\", \"features.denseblock3.denselayer19.norm1.bias\", \"features.denseblock3.denselayer19.norm1.running_mean\", \"features.denseblock3.denselayer19.norm1.running_var\", \"features.denseblock3.denselayer19.norm1.num_batches_tracked\", \"features.denseblock3.denselayer19.conv1.weight\", \"features.denseblock3.denselayer19.norm2.weight\", \"features.denseblock3.denselayer19.norm2.bias\", \"features.denseblock3.denselayer19.norm2.running_mean\", \"features.denseblock3.denselayer19.norm2.running_var\", \"features.denseblock3.denselayer19.norm2.num_batches_tracked\", \"features.denseblock3.denselayer19.conv2.weight\", \"features.denseblock3.denselayer20.norm1.weight\", \"features.denseblock3.denselayer20.norm1.bias\", \"features.denseblock3.denselayer20.norm1.running_mean\", \"features.denseblock3.denselayer20.norm1.running_var\", \"features.denseblock3.denselayer20.norm1.num_batches_tracked\", \"features.denseblock3.denselayer20.conv1.weight\", \"features.denseblock3.denselayer20.norm2.weight\", \"features.denseblock3.denselayer20.norm2.bias\", \"features.denseblock3.denselayer20.norm2.running_mean\", \"features.denseblock3.denselayer20.norm2.running_var\", \"features.denseblock3.denselayer20.norm2.num_batches_tracked\", \"features.denseblock3.denselayer20.conv2.weight\", \"features.denseblock3.denselayer21.norm1.weight\", \"features.denseblock3.denselayer21.norm1.bias\", \"features.denseblock3.denselayer21.norm1.running_mean\", \"features.denseblock3.denselayer21.norm1.running_var\", \"features.denseblock3.denselayer21.norm1.num_batches_tracked\", \"features.denseblock3.denselayer21.conv1.weight\", \"features.denseblock3.denselayer21.norm2.weight\", \"features.denseblock3.denselayer21.norm2.bias\", \"features.denseblock3.denselayer21.norm2.running_mean\", \"features.denseblock3.denselayer21.norm2.running_var\", \"features.denseblock3.denselayer21.norm2.num_batches_tracked\", \"features.denseblock3.denselayer21.conv2.weight\", \"features.denseblock3.denselayer22.norm1.weight\", \"features.denseblock3.denselayer22.norm1.bias\", \"features.denseblock3.denselayer22.norm1.running_mean\", \"features.denseblock3.denselayer22.norm1.running_var\", \"features.denseblock3.denselayer22.norm1.num_batches_tracked\", \"features.denseblock3.denselayer22.conv1.weight\", \"features.denseblock3.denselayer22.norm2.weight\", \"features.denseblock3.denselayer22.norm2.bias\", \"features.denseblock3.denselayer22.norm2.running_mean\", \"features.denseblock3.denselayer22.norm2.running_var\", \"features.denseblock3.denselayer22.norm2.num_batches_tracked\", \"features.denseblock3.denselayer22.conv2.weight\", \"features.denseblock3.denselayer23.norm1.weight\", \"features.denseblock3.denselayer23.norm1.bias\", \"features.denseblock3.denselayer23.norm1.running_mean\", \"features.denseblock3.denselayer23.norm1.running_var\", \"features.denseblock3.denselayer23.norm1.num_batches_tracked\", \"features.denseblock3.denselayer23.conv1.weight\", \"features.denseblock3.denselayer23.norm2.weight\", \"features.denseblock3.denselayer23.norm2.bias\", \"features.denseblock3.denselayer23.norm2.running_mean\", \"features.denseblock3.denselayer23.norm2.running_var\", \"features.denseblock3.denselayer23.norm2.num_batches_tracked\", \"features.denseblock3.denselayer23.conv2.weight\", \"features.denseblock3.denselayer24.norm1.weight\", \"features.denseblock3.denselayer24.norm1.bias\", \"features.denseblock3.denselayer24.norm1.running_mean\", \"features.denseblock3.denselayer24.norm1.running_var\", \"features.denseblock3.denselayer24.norm1.num_batches_tracked\", \"features.denseblock3.denselayer24.conv1.weight\", \"features.denseblock3.denselayer24.norm2.weight\", \"features.denseblock3.denselayer24.norm2.bias\", \"features.denseblock3.denselayer24.norm2.running_mean\", \"features.denseblock3.denselayer24.norm2.running_var\", \"features.denseblock3.denselayer24.norm2.num_batches_tracked\", \"features.denseblock3.denselayer24.conv2.weight\", \"features.transition3.norm.weight\", \"features.transition3.norm.bias\", \"features.transition3.norm.running_mean\", \"features.transition3.norm.running_var\", \"features.transition3.norm.num_batches_tracked\", \"features.transition3.conv.weight\", \"features.denseblock4.denselayer1.norm1.weight\", \"features.denseblock4.denselayer1.norm1.bias\", \"features.denseblock4.denselayer1.norm1.running_mean\", \"features.denseblock4.denselayer1.norm1.running_var\", \"features.denseblock4.denselayer1.norm1.num_batches_tracked\", \"features.denseblock4.denselayer1.conv1.weight\", \"features.denseblock4.denselayer1.norm2.weight\", \"features.denseblock4.denselayer1.norm2.bias\", \"features.denseblock4.denselayer1.norm2.running_mean\", \"features.denseblock4.denselayer1.norm2.running_var\", \"features.denseblock4.denselayer1.norm2.num_batches_tracked\", \"features.denseblock4.denselayer1.conv2.weight\", \"features.denseblock4.denselayer2.norm1.weight\", \"features.denseblock4.denselayer2.norm1.bias\", \"features.denseblock4.denselayer2.norm1.running_mean\", \"features.denseblock4.denselayer2.norm1.running_var\", \"features.denseblock4.denselayer2.norm1.num_batches_tracked\", \"features.denseblock4.denselayer2.conv1.weight\", \"features.denseblock4.denselayer2.norm2.weight\", \"features.denseblock4.denselayer2.norm2.bias\", \"features.denseblock4.denselayer2.norm2.running_mean\", \"features.denseblock4.denselayer2.norm2.running_var\", \"features.denseblock4.denselayer2.norm2.num_batches_tracked\", \"features.denseblock4.denselayer2.conv2.weight\", \"features.denseblock4.denselayer3.norm1.weight\", \"features.denseblock4.denselayer3.norm1.bias\", \"features.denseblock4.denselayer3.norm1.running_mean\", \"features.denseblock4.denselayer3.norm1.running_var\", \"features.denseblock4.denselayer3.norm1.num_batches_tracked\", \"features.denseblock4.denselayer3.conv1.weight\", \"features.denseblock4.denselayer3.norm2.weight\", \"features.denseblock4.denselayer3.norm2.bias\", \"features.denseblock4.denselayer3.norm2.running_mean\", \"features.denseblock4.denselayer3.norm2.running_var\", \"features.denseblock4.denselayer3.norm2.num_batches_tracked\", \"features.denseblock4.denselayer3.conv2.weight\", \"features.denseblock4.denselayer4.norm1.weight\", \"features.denseblock4.denselayer4.norm1.bias\", \"features.denseblock4.denselayer4.norm1.running_mean\", \"features.denseblock4.denselayer4.norm1.running_var\", \"features.denseblock4.denselayer4.norm1.num_batches_tracked\", \"features.denseblock4.denselayer4.conv1.weight\", \"features.denseblock4.denselayer4.norm2.weight\", \"features.denseblock4.denselayer4.norm2.bias\", \"features.denseblock4.denselayer4.norm2.running_mean\", \"features.denseblock4.denselayer4.norm2.running_var\", \"features.denseblock4.denselayer4.norm2.num_batches_tracked\", \"features.denseblock4.denselayer4.conv2.weight\", \"features.denseblock4.denselayer5.norm1.weight\", \"features.denseblock4.denselayer5.norm1.bias\", \"features.denseblock4.denselayer5.norm1.running_mean\", \"features.denseblock4.denselayer5.norm1.running_var\", \"features.denseblock4.denselayer5.norm1.num_batches_tracked\", \"features.denseblock4.denselayer5.conv1.weight\", \"features.denseblock4.denselayer5.norm2.weight\", \"features.denseblock4.denselayer5.norm2.bias\", \"features.denseblock4.denselayer5.norm2.running_mean\", \"features.denseblock4.denselayer5.norm2.running_var\", \"features.denseblock4.denselayer5.norm2.num_batches_tracked\", \"features.denseblock4.denselayer5.conv2.weight\", \"features.denseblock4.denselayer6.norm1.weight\", \"features.denseblock4.denselayer6.norm1.bias\", \"features.denseblock4.denselayer6.norm1.running_mean\", \"features.denseblock4.denselayer6.norm1.running_var\", \"features.denseblock4.denselayer6.norm1.num_batches_tracked\", \"features.denseblock4.denselayer6.conv1.weight\", \"features.denseblock4.denselayer6.norm2.weight\", \"features.denseblock4.denselayer6.norm2.bias\", \"features.denseblock4.denselayer6.norm2.running_mean\", \"features.denseblock4.denselayer6.norm2.running_var\", \"features.denseblock4.denselayer6.norm2.num_batches_tracked\", \"features.denseblock4.denselayer6.conv2.weight\", \"features.denseblock4.denselayer7.norm1.weight\", \"features.denseblock4.denselayer7.norm1.bias\", \"features.denseblock4.denselayer7.norm1.running_mean\", \"features.denseblock4.denselayer7.norm1.running_var\", \"features.denseblock4.denselayer7.norm1.num_batches_tracked\", \"features.denseblock4.denselayer7.conv1.weight\", \"features.denseblock4.denselayer7.norm2.weight\", \"features.denseblock4.denselayer7.norm2.bias\", \"features.denseblock4.denselayer7.norm2.running_mean\", \"features.denseblock4.denselayer7.norm2.running_var\", \"features.denseblock4.denselayer7.norm2.num_batches_tracked\", \"features.denseblock4.denselayer7.conv2.weight\", \"features.denseblock4.denselayer8.norm1.weight\", \"features.denseblock4.denselayer8.norm1.bias\", \"features.denseblock4.denselayer8.norm1.running_mean\", \"features.denseblock4.denselayer8.norm1.running_var\", \"features.denseblock4.denselayer8.norm1.num_batches_tracked\", \"features.denseblock4.denselayer8.conv1.weight\", \"features.denseblock4.denselayer8.norm2.weight\", \"features.denseblock4.denselayer8.norm2.bias\", \"features.denseblock4.denselayer8.norm2.running_mean\", \"features.denseblock4.denselayer8.norm2.running_var\", \"features.denseblock4.denselayer8.norm2.num_batches_tracked\", \"features.denseblock4.denselayer8.conv2.weight\", \"features.denseblock4.denselayer9.norm1.weight\", \"features.denseblock4.denselayer9.norm1.bias\", \"features.denseblock4.denselayer9.norm1.running_mean\", \"features.denseblock4.denselayer9.norm1.running_var\", \"features.denseblock4.denselayer9.norm1.num_batches_tracked\", \"features.denseblock4.denselayer9.conv1.weight\", \"features.denseblock4.denselayer9.norm2.weight\", \"features.denseblock4.denselayer9.norm2.bias\", \"features.denseblock4.denselayer9.norm2.running_mean\", \"features.denseblock4.denselayer9.norm2.running_var\", \"features.denseblock4.denselayer9.norm2.num_batches_tracked\", \"features.denseblock4.denselayer9.conv2.weight\", \"features.denseblock4.denselayer10.norm1.weight\", \"features.denseblock4.denselayer10.norm1.bias\", \"features.denseblock4.denselayer10.norm1.running_mean\", \"features.denseblock4.denselayer10.norm1.running_var\", \"features.denseblock4.denselayer10.norm1.num_batches_tracked\", \"features.denseblock4.denselayer10.conv1.weight\", \"features.denseblock4.denselayer10.norm2.weight\", \"features.denseblock4.denselayer10.norm2.bias\", \"features.denseblock4.denselayer10.norm2.running_mean\", \"features.denseblock4.denselayer10.norm2.running_var\", \"features.denseblock4.denselayer10.norm2.num_batches_tracked\", \"features.denseblock4.denselayer10.conv2.weight\", \"features.denseblock4.denselayer11.norm1.weight\", \"features.denseblock4.denselayer11.norm1.bias\", \"features.denseblock4.denselayer11.norm1.running_mean\", \"features.denseblock4.denselayer11.norm1.running_var\", \"features.denseblock4.denselayer11.norm1.num_batches_tracked\", \"features.denseblock4.denselayer11.conv1.weight\", \"features.denseblock4.denselayer11.norm2.weight\", \"features.denseblock4.denselayer11.norm2.bias\", \"features.denseblock4.denselayer11.norm2.running_mean\", \"features.denseblock4.denselayer11.norm2.running_var\", \"features.denseblock4.denselayer11.norm2.num_batches_tracked\", \"features.denseblock4.denselayer11.conv2.weight\", \"features.denseblock4.denselayer12.norm1.weight\", \"features.denseblock4.denselayer12.norm1.bias\", \"features.denseblock4.denselayer12.norm1.running_mean\", \"features.denseblock4.denselayer12.norm1.running_var\", \"features.denseblock4.denselayer12.norm1.num_batches_tracked\", \"features.denseblock4.denselayer12.conv1.weight\", \"features.denseblock4.denselayer12.norm2.weight\", \"features.denseblock4.denselayer12.norm2.bias\", \"features.denseblock4.denselayer12.norm2.running_mean\", \"features.denseblock4.denselayer12.norm2.running_var\", \"features.denseblock4.denselayer12.norm2.num_batches_tracked\", \"features.denseblock4.denselayer12.conv2.weight\", \"features.denseblock4.denselayer13.norm1.weight\", \"features.denseblock4.denselayer13.norm1.bias\", \"features.denseblock4.denselayer13.norm1.running_mean\", \"features.denseblock4.denselayer13.norm1.running_var\", \"features.denseblock4.denselayer13.norm1.num_batches_tracked\", \"features.denseblock4.denselayer13.conv1.weight\", \"features.denseblock4.denselayer13.norm2.weight\", \"features.denseblock4.denselayer13.norm2.bias\", \"features.denseblock4.denselayer13.norm2.running_mean\", \"features.denseblock4.denselayer13.norm2.running_var\", \"features.denseblock4.denselayer13.norm2.num_batches_tracked\", \"features.denseblock4.denselayer13.conv2.weight\", \"features.denseblock4.denselayer14.norm1.weight\", \"features.denseblock4.denselayer14.norm1.bias\", \"features.denseblock4.denselayer14.norm1.running_mean\", \"features.denseblock4.denselayer14.norm1.running_var\", \"features.denseblock4.denselayer14.norm1.num_batches_tracked\", \"features.denseblock4.denselayer14.conv1.weight\", \"features.denseblock4.denselayer14.norm2.weight\", \"features.denseblock4.denselayer14.norm2.bias\", \"features.denseblock4.denselayer14.norm2.running_mean\", \"features.denseblock4.denselayer14.norm2.running_var\", \"features.denseblock4.denselayer14.norm2.num_batches_tracked\", \"features.denseblock4.denselayer14.conv2.weight\", \"features.denseblock4.denselayer15.norm1.weight\", \"features.denseblock4.denselayer15.norm1.bias\", \"features.denseblock4.denselayer15.norm1.running_mean\", \"features.denseblock4.denselayer15.norm1.running_var\", \"features.denseblock4.denselayer15.norm1.num_batches_tracked\", \"features.denseblock4.denselayer15.conv1.weight\", \"features.denseblock4.denselayer15.norm2.weight\", \"features.denseblock4.denselayer15.norm2.bias\", \"features.denseblock4.denselayer15.norm2.running_mean\", \"features.denseblock4.denselayer15.norm2.running_var\", \"features.denseblock4.denselayer15.norm2.num_batches_tracked\", \"features.denseblock4.denselayer15.conv2.weight\", \"features.denseblock4.denselayer16.norm1.weight\", \"features.denseblock4.denselayer16.norm1.bias\", \"features.denseblock4.denselayer16.norm1.running_mean\", \"features.denseblock4.denselayer16.norm1.running_var\", \"features.denseblock4.denselayer16.norm1.num_batches_tracked\", \"features.denseblock4.denselayer16.conv1.weight\", \"features.denseblock4.denselayer16.norm2.weight\", \"features.denseblock4.denselayer16.norm2.bias\", \"features.denseblock4.denselayer16.norm2.running_mean\", \"features.denseblock4.denselayer16.norm2.running_var\", \"features.denseblock4.denselayer16.norm2.num_batches_tracked\", \"features.denseblock4.denselayer16.conv2.weight\", \"features.norm5.weight\", \"features.norm5.bias\", \"features.norm5.running_mean\", \"features.norm5.running_var\", \"features.norm5.num_batches_tracked\", \"classifier.0.weight\", \"classifier.0.bias\", \"classifier.3.weight\", \"classifier.3.bias\". "
          ]
        }
      ]
    },
    {
      "cell_type": "markdown",
      "metadata": {
        "id": "o-FxGYDPHQ0y"
      },
      "source": [
        "It was intended to get an error, don't worry. I know that is always scary to see the red message, and your debug mode has already been triggered, but put it aside.\n",
        "\n",
        ">**Exercise**: Save the checkpoints of your model after 5 epochs of training. Load them back and continue the training for how many epochs you want."
      ]
    },
    {
      "cell_type": "code",
      "metadata": {
        "id": "0BkYhcVFHQ00"
      },
      "source": [
        ""
      ],
      "execution_count": null,
      "outputs": []
    }
  ]
}