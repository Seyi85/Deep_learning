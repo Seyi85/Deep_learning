{
  "nbformat": 4,
  "nbformat_minor": 0,
  "metadata": {
    "kernelspec": {
      "display_name": "Python 3",
      "language": "python",
      "name": "python3"
    },
    "language_info": {
      "codemirror_mode": {
        "name": "ipython",
        "version": 3
      },
      "file_extension": ".py",
      "mimetype": "text/x-python",
      "name": "python",
      "nbconvert_exporter": "python",
      "pygments_lexer": "ipython3",
      "version": "3.8.3"
    },
    "colab": {
      "name": "4.3 Pytorch MNIST - Exercise.ipynb",
      "provenance": [],
      "include_colab_link": true
    }
  },
  "cells": [
    {
      "cell_type": "markdown",
      "metadata": {
        "id": "view-in-github",
        "colab_type": "text"
      },
      "source": [
        "<a href=\"https://colab.research.google.com/github/Seyi85/Deep_learning/blob/main/4_3_Pytorch_MNIST_Exercise.ipynb\" target=\"_parent\"><img src=\"https://colab.research.google.com/assets/colab-badge.svg\" alt=\"Open In Colab\"/></a>"
      ]
    },
    {
      "cell_type": "markdown",
      "metadata": {
        "id": "lb7dI1gEpE-0"
      },
      "source": [
        "<div style=\"background:#222222; color:#ffffff; padding:20px\">\n",
        "    <h2 align=\"center\">Deep Learning Fundamentals</h2>\n",
        "    <h2 align=\"center\" style=\"color:#01ff84\">Multiclass Clasification: MNIST</h2>\n",
        "<div>"
      ]
    },
    {
      "cell_type": "markdown",
      "metadata": {
        "id": "av0gXxSQpE-1"
      },
      "source": [
        "## Imports"
      ]
    },
    {
      "cell_type": "code",
      "metadata": {
        "id": "PFYwmcm3pE-2"
      },
      "source": [
        "%matplotlib inline\n",
        "%config InlineBackend.figure_format = 'retina'\n",
        "\n",
        "from collections import OrderedDict\n",
        "\n",
        "import numpy as np\n",
        "import matplotlib.pyplot as plt\n",
        "import time\n",
        "\n",
        "import torch\n",
        "from torch import nn\n",
        "from torch import optim\n",
        "import torch.nn.functional as F\n",
        "\n",
        "from torchvision import datasets, transforms"
      ],
      "execution_count": 44,
      "outputs": []
    },
    {
      "cell_type": "markdown",
      "metadata": {
        "id": "TN6CkYHopE-3"
      },
      "source": [
        "## Auxliary plotting function"
      ]
    },
    {
      "cell_type": "code",
      "metadata": {
        "id": "g6n6-skepE-3"
      },
      "source": [
        "# https://discuss.pytorch.org/t/view-classify-in-module-helper/30279/6\n",
        "\n",
        "def view_classify(img, ps):\n",
        "\n",
        "    ps = ps.data.numpy().squeeze()\n",
        "\n",
        "    fig, (ax1, ax2) = plt.subplots(figsize=(6,9), ncols=2)\n",
        "    ax1.imshow(img.resize_(1, 28, 28).numpy().squeeze())\n",
        "    ax1.axis('off')\n",
        "    ax2.barh(np.arange(10), ps)\n",
        "    ax2.set_aspect(0.1)\n",
        "    ax2.set_yticks(np.arange(10))\n",
        "    ax2.set_yticklabels(np.arange(10))\n",
        "    ax2.set_title('Class Probability')\n",
        "    ax2.set_xlim(0, 1.1)"
      ],
      "execution_count": 45,
      "outputs": []
    },
    {
      "cell_type": "markdown",
      "metadata": {
        "id": "R5ligojKpE-4"
      },
      "source": [
        "# Load MNIST Dataset\n",
        "First up, we need to get our dataset. This is provided through the `torchvision` package. The code below will download the MNIST dataset, then create training and test datasets for us. Don't worry too much about the details here, you'll learn more about this later."
      ]
    },
    {
      "cell_type": "code",
      "metadata": {
        "id": "sM5enKN3pE-4"
      },
      "source": [
        "# Define a transform to normalize the data (Preprocessing)\n",
        "transform = transforms.Compose([transforms.ToTensor(), transforms.Normalize((0.5), (0.5)) ])\n",
        "\n",
        "# Download and load the training data\n",
        "trainset    = datasets.MNIST('MNIST_data/', download=True, train=True, transform=transform)\n",
        "trainloader = torch.utils.data.DataLoader(trainset, batch_size=64, shuffle=True)\n",
        "\n",
        "# Download and load the test data\n",
        "testset    = datasets.MNIST('MNIST_data/', download=True, train=False, transform=transform)\n",
        "testloader = torch.utils.data.DataLoader(testset, batch_size=64, shuffle=True)"
      ],
      "execution_count": 46,
      "outputs": []
    },
    {
      "cell_type": "code",
      "metadata": {
        "id": "yYMwa4snpE-5"
      },
      "source": [
        "dataiter = iter(trainloader)\n",
        "images, labels = dataiter.next()"
      ],
      "execution_count": 47,
      "outputs": []
    },
    {
      "cell_type": "markdown",
      "metadata": {
        "id": "AZRYOHlqpE-5"
      },
      "source": [
        "We have the training data loaded into `trainloader` and we make that an iterator with `iter(trainloader)`. We'd use this to loop through the dataset for training, but here I'm just grabbing the first batch so we can check out the data. We can see below that `images` is just a tensor with size (64, 1, 28, 28). So, 64 images per batch, 1 color channel, and 28x28 images."
      ]
    },
    {
      "cell_type": "code",
      "metadata": {
        "id": "6nLVnUvHg8aV"
      },
      "source": [
        ""
      ],
      "execution_count": null,
      "outputs": []
    },
    {
      "cell_type": "code",
      "metadata": {
        "colab": {
          "base_uri": "https://localhost:8080/",
          "height": 265
        },
        "id": "yphQfTkopE-5",
        "outputId": "05f3ec98-5639-4b09-9106-94155a1ae6ae"
      },
      "source": [
        "plt.imshow(images[1].numpy().squeeze(), cmap='Greys_r');"
      ],
      "execution_count": 48,
      "outputs": [
        {
          "output_type": "display_data",
          "data": {
            "image/png": "[encoded data removed]",
            "text/plain": [
              "<Figure size 432x288 with 1 Axes>"
            ]
          },
          "metadata": {
            "tags": [],
            "image/png": {
              "width": 251,
              "height": 248
            },
            "needs_background": "light"
          }
        }
      ]
    },
    {
      "cell_type": "markdown",
      "metadata": {
        "id": "LvFa1alzpE-5"
      },
      "source": [
        "## Building networks with PyTorch\n",
        "\n",
        "Here I'll use PyTorch to build a simple feedfoward network to classify the MNIST images. That is, the network will receive a digit image as input and predict the digit in the image.\n",
        "\n",
        "<img src=\"assets/mlp_mnist.png\" width=600px>\n",
        "\n",
        "To build a neural network with PyTorch, you use the `torch.nn` module. The network itself is a class inheriting from `torch.nn.Module`. You define each of the operations separately, like `nn.Linear(784, 128)` for a fully connected linear layer with 784 inputs and 128 units.\n",
        "\n",
        "The class needs to include a `forward` method that implements the forward pass through the network. In this method, you pass some input tensor `x` through each of the operations you defined earlier. The `torch.nn` module also has functional equivalents for things like ReLUs in `torch.nn.functional`. This module is usually imported as `F`. Then to use a ReLU activation on some layer (which is just a tensor), you'd do `F.relu(x)`. Below are a few different commonly used activation functions.\n",
        "\n",
        "<img src=\"assets/activation.png\" width=700px>\n",
        "\n",
        "So, for this network, I'll build it with three fully connected layers, then a softmax output for predicting classes. The softmax function is similar to the sigmoid in that it squashes inputs between 0 and 1, but it's also normalized so that all the values sum to one like a proper probability distribution."
      ]
    },
    {
      "cell_type": "code",
      "metadata": {
        "colab": {
          "base_uri": "https://localhost:8080/"
        },
        "id": "ElS1lMgJpE-6",
        "outputId": "c7828e49-692c-4e21-abb4-778d1f2a7bdd"
      },
      "source": [
        "class Network(nn.Module):\n",
        "    \n",
        "    # Defining the layers, 128, 64, 10 units each\n",
        "    def __init__(self):\n",
        "        super().__init__()\n",
        "        self.fc1 = nn.Linear(784, 128)\n",
        "        self.fc2 = nn.Linear(128, 64)\n",
        "        self.fc3 = nn.Linear(64, 10)\n",
        "        \n",
        "    # Forward pass through the network, returns the output logits\n",
        "    def forward(self, x):\n",
        "        x = self.fc1(x)\n",
        "        x = F.relu(x)\n",
        "        x = self.fc2(x)\n",
        "        x = F.relu(x)\n",
        "        x = self.fc3(x)\n",
        "        x = F.softmax(x, dim=1)\n",
        "        return x\n",
        "\n",
        "model = Network()\n",
        "model"
      ],
      "execution_count": 49,
      "outputs": [
        {
          "output_type": "execute_result",
          "data": {
            "text/plain": [
              "Network(\n",
              "  (fc1): Linear(in_features=784, out_features=128, bias=True)\n",
              "  (fc2): Linear(in_features=128, out_features=64, bias=True)\n",
              "  (fc3): Linear(in_features=64, out_features=10, bias=True)\n",
              ")"
            ]
          },
          "metadata": {
            "tags": []
          },
          "execution_count": 49
        }
      ]
    },
    {
      "cell_type": "markdown",
      "metadata": {
        "id": "E_6S_dKYpE-6"
      },
      "source": [
        "### Sequential API\n",
        "PyTorch provides a convenient way to build networks like this where a tensor is passed sequentially through operations, `nn.Sequential` ([documentation](https://pytorch.org/docs/master/nn.html#torch.nn.Sequential)). Using this to build the equivalent network:"
      ]
    },
    {
      "cell_type": "code",
      "metadata": {
        "colab": {
          "base_uri": "https://localhost:8080/"
        },
        "id": "OMfvne-4pE-6",
        "outputId": "3dcc60b7-7d0f-44c9-f215-857268b93654"
      },
      "source": [
        "# Hyperparameters for our network\n",
        "input_size   = 784\n",
        "hidden_sizes = [128, 64]\n",
        "output_size   = 10\n",
        "\n",
        "# Build a feed-forward network\n",
        "model = nn.Sequential(nn.Linear(input_size, hidden_sizes[0]),\n",
        "                      nn.ReLU(),\n",
        "                      nn.Linear(hidden_sizes[0], hidden_sizes[1]),\n",
        "                      nn.ReLU(),\n",
        "                      nn.Linear(hidden_sizes[1], output_size),\n",
        "                      nn.Softmax(dim=1))\n",
        "print(model)"
      ],
      "execution_count": 8,
      "outputs": [
        {
          "output_type": "stream",
          "text": [
            "Sequential(\n",
            "  (0): Linear(in_features=784, out_features=128, bias=True)\n",
            "  (1): ReLU()\n",
            "  (2): Linear(in_features=128, out_features=64, bias=True)\n",
            "  (3): ReLU()\n",
            "  (4): Linear(in_features=64, out_features=10, bias=True)\n",
            "  (5): Softmax(dim=1)\n",
            ")\n"
          ],
          "name": "stdout"
        }
      ]
    },
    {
      "cell_type": "markdown",
      "metadata": {
        "id": "bKHH3SEDpE-6"
      },
      "source": [
        "You can also pass in an `OrderedDict` to name the individual layers and operations. Note that a dictionary keys must be unique, so _each operation must have a different name_."
      ]
    },
    {
      "cell_type": "code",
      "metadata": {
        "colab": {
          "base_uri": "https://localhost:8080/"
        },
        "id": "cHi-h_T4pE-7",
        "outputId": "5192b8cc-c0c2-4629-e621-8589920bc4e3"
      },
      "source": [
        "model = nn.Sequential(OrderedDict([\n",
        "          ('fc1',   nn.Linear(input_size, hidden_sizes[0])),\n",
        "          ('relu1', nn.ReLU()),\n",
        "          ('fc2',   nn.Linear(hidden_sizes[0], hidden_sizes[1])),\n",
        "          ('relu2', nn.ReLU()),\n",
        "          ('output', nn.Linear(hidden_sizes[1], output_size)),\n",
        "          ('softmax', nn.Softmax(dim=1))]))\n",
        "model"
      ],
      "execution_count": 9,
      "outputs": [
        {
          "output_type": "execute_result",
          "data": {
            "text/plain": [
              "Sequential(\n",
              "  (fc1): Linear(in_features=784, out_features=128, bias=True)\n",
              "  (relu1): ReLU()\n",
              "  (fc2): Linear(in_features=128, out_features=64, bias=True)\n",
              "  (relu2): ReLU()\n",
              "  (output): Linear(in_features=64, out_features=10, bias=True)\n",
              "  (softmax): Softmax(dim=1)\n",
              ")"
            ]
          },
          "metadata": {
            "tags": []
          },
          "execution_count": 9
        }
      ]
    },
    {
      "cell_type": "markdown",
      "metadata": {
        "id": "lcglX6ptpE-7"
      },
      "source": [
        "### Initializing weights and biases\n",
        "\n",
        "The weights and such are automatically initialized for you, but it's possible to customize how they are initialized. The weights and biases are tensors attached to the layer you defined, you can get them with `model.fc1.weight` for instance."
      ]
    },
    {
      "cell_type": "code",
      "metadata": {
        "colab": {
          "base_uri": "https://localhost:8080/"
        },
        "id": "Z-mUCN0QpE-7",
        "outputId": "e79b422c-af98-4e67-e24d-c715458b8453"
      },
      "source": [
        "print(model.fc1.weight)\n",
        "print(model.fc1.bias)"
      ],
      "execution_count": 10,
      "outputs": [
        {
          "output_type": "stream",
          "text": [
            "Parameter containing:\n",
            "tensor([[-1.6707e-02,  8.5169e-03, -2.2366e-02,  ..., -2.6023e-02,\n",
            "          5.5343e-03, -3.3735e-02],\n",
            "        [-7.5695e-03, -3.2519e-02, -2.5317e-02,  ...,  3.3143e-02,\n",
            "         -1.3610e-02,  3.2078e-02],\n",
            "        [-1.0188e-02,  2.1847e-02, -2.8363e-02,  ...,  4.2054e-03,\n",
            "         -2.7312e-02,  1.1966e-02],\n",
            "        ...,\n",
            "        [-2.5232e-02, -1.5528e-02,  3.0708e-02,  ...,  2.8483e-02,\n",
            "          2.5541e-02, -3.2182e-02],\n",
            "        [ 3.3011e-02,  2.2817e-02,  2.0393e-02,  ...,  2.5716e-02,\n",
            "          7.1138e-03, -2.3765e-02],\n",
            "        [ 1.0357e-02, -3.0753e-02, -3.7304e-05,  ..., -1.0232e-02,\n",
            "         -2.0012e-02, -3.0981e-02]], requires_grad=True)\n",
            "Parameter containing:\n",
            "tensor([-0.0045, -0.0220,  0.0003, -0.0173, -0.0077,  0.0014, -0.0191,  0.0081,\n",
            "         0.0039,  0.0249,  0.0324,  0.0009, -0.0173, -0.0089, -0.0285,  0.0186,\n",
            "        -0.0176,  0.0352,  0.0005,  0.0354,  0.0115, -0.0241,  0.0057,  0.0031,\n",
            "         0.0222, -0.0029,  0.0154,  0.0239,  0.0336,  0.0354, -0.0203,  0.0350,\n",
            "         0.0151, -0.0296, -0.0102, -0.0311,  0.0252, -0.0118,  0.0140, -0.0193,\n",
            "         0.0321,  0.0257, -0.0257, -0.0304, -0.0236,  0.0245, -0.0112,  0.0053,\n",
            "         0.0312,  0.0137, -0.0324, -0.0119, -0.0293, -0.0047,  0.0081, -0.0168,\n",
            "        -0.0094,  0.0095,  0.0219,  0.0291,  0.0260, -0.0235,  0.0249,  0.0212,\n",
            "         0.0132, -0.0055, -0.0192, -0.0298,  0.0206, -0.0179,  0.0274, -0.0190,\n",
            "        -0.0222, -0.0355, -0.0099, -0.0052, -0.0081, -0.0160,  0.0290, -0.0283,\n",
            "         0.0091,  0.0145,  0.0078,  0.0251,  0.0114,  0.0021,  0.0224, -0.0347,\n",
            "         0.0157,  0.0133,  0.0146,  0.0073, -0.0157, -0.0356, -0.0032, -0.0096,\n",
            "        -0.0292, -0.0138, -0.0076,  0.0072, -0.0107,  0.0036,  0.0023, -0.0341,\n",
            "         0.0110, -0.0146,  0.0024,  0.0141, -0.0288,  0.0156,  0.0060, -0.0185,\n",
            "        -0.0082, -0.0184, -0.0138, -0.0353, -0.0320, -0.0210,  0.0329,  0.0218,\n",
            "         0.0014, -0.0272, -0.0194, -0.0115,  0.0033,  0.0338,  0.0198, -0.0256],\n",
            "       requires_grad=True)\n"
          ],
          "name": "stdout"
        }
      ]
    },
    {
      "cell_type": "markdown",
      "metadata": {
        "id": "9BpbUt5_pE-8"
      },
      "source": [
        "For custom initialization, we want to modify these tensors in place. These are actually autograd *Variables*, so we need to get back the actual tensors with `model.fc1.weight.data`. Once we have the tensors, we can fill them with zeros (for biases) or random normal values."
      ]
    },
    {
      "cell_type": "code",
      "metadata": {
        "colab": {
          "base_uri": "https://localhost:8080/"
        },
        "id": "aqsxZmM2pE-8",
        "outputId": "4231202b-8327-49a9-f186-b9e99321cf98"
      },
      "source": [
        "# Set biases to all zeros\n",
        "model.fc1.bias.data.fill_(0)"
      ],
      "execution_count": 11,
      "outputs": [
        {
          "output_type": "execute_result",
          "data": {
            "text/plain": [
              "tensor([0., 0., 0., 0., 0., 0., 0., 0., 0., 0., 0., 0., 0., 0., 0., 0., 0., 0., 0., 0., 0., 0., 0., 0.,\n",
              "        0., 0., 0., 0., 0., 0., 0., 0., 0., 0., 0., 0., 0., 0., 0., 0., 0., 0., 0., 0., 0., 0., 0., 0.,\n",
              "        0., 0., 0., 0., 0., 0., 0., 0., 0., 0., 0., 0., 0., 0., 0., 0., 0., 0., 0., 0., 0., 0., 0., 0.,\n",
              "        0., 0., 0., 0., 0., 0., 0., 0., 0., 0., 0., 0., 0., 0., 0., 0., 0., 0., 0., 0., 0., 0., 0., 0.,\n",
              "        0., 0., 0., 0., 0., 0., 0., 0., 0., 0., 0., 0., 0., 0., 0., 0., 0., 0., 0., 0., 0., 0., 0., 0.,\n",
              "        0., 0., 0., 0., 0., 0., 0., 0.])"
            ]
          },
          "metadata": {
            "tags": []
          },
          "execution_count": 11
        }
      ]
    },
    {
      "cell_type": "code",
      "metadata": {
        "colab": {
          "base_uri": "https://localhost:8080/"
        },
        "id": "P8HBNGu5pE-8",
        "outputId": "03bfd5ba-5e07-4193-e65a-3fa1cb2552a6"
      },
      "source": [
        "# sample from random normal with standard dev = 0.01\n",
        "model.fc1.weight.data.normal_(std=0.01)"
      ],
      "execution_count": 12,
      "outputs": [
        {
          "output_type": "execute_result",
          "data": {
            "text/plain": [
              "tensor([[-1.4857e-02, -1.7164e-02, -3.6467e-03,  ...,  1.3056e-02,\n",
              "          9.4684e-03,  8.1202e-03],\n",
              "        [-6.0730e-05,  2.6947e-04, -9.0158e-03,  ..., -7.2148e-03,\n",
              "          3.5122e-03,  4.1001e-03],\n",
              "        [ 8.3803e-03, -3.6089e-03,  7.0578e-03,  ..., -1.0624e-02,\n",
              "          1.2092e-03, -5.6532e-03],\n",
              "        ...,\n",
              "        [-6.0203e-03,  2.3560e-03,  7.5426e-03,  ..., -5.8914e-05,\n",
              "          2.1834e-02,  7.2388e-03],\n",
              "        [-1.1184e-03,  6.4342e-03,  1.3141e-02,  ...,  9.3468e-03,\n",
              "          2.5650e-03,  8.5942e-03],\n",
              "        [-3.4107e-03,  3.4543e-03, -9.3649e-03,  ...,  9.0063e-03,\n",
              "         -2.5553e-03,  1.5564e-02]])"
            ]
          },
          "metadata": {
            "tags": []
          },
          "execution_count": 12
        }
      ]
    },
    {
      "cell_type": "markdown",
      "metadata": {
        "id": "ALNiee7vpE-8"
      },
      "source": [
        "### STEP 1: Forward pass\n",
        "\n",
        "Now that we have a network, let's see what happens when we pass in an image. This is called the forward pass. We're going to convert the image data into a tensor, then pass it through the operations defined by the network architecture."
      ]
    },
    {
      "cell_type": "code",
      "metadata": {
        "colab": {
          "base_uri": "https://localhost:8080/",
          "height": 0
        },
        "id": "DcUL6yWdpE-8",
        "outputId": "f2d38b6b-a621-4330-b327-d8134820be97"
      },
      "source": [
        "# Grab some data \n",
        "dataiter = iter(trainloader)\n",
        "images, labels = dataiter.next()\n",
        "\n",
        "# Resize images into a 1D vector, new shape is (batch size, color channels, image pixels) \n",
        "images.resize_(64, 1, 784)\n",
        "# or images.resize_(images.shape[0], 1, 784) to not automatically get batch size\n",
        "\n",
        "# Forward pass through the network\n",
        "img_idx = 0\n",
        "ps = model.forward(images[img_idx,:])\n",
        "\n",
        "img = images[img_idx]\n",
        "view_classify(img.view(1, 28, 28), ps)"
      ],
      "execution_count": 13,
      "outputs": [
        {
          "output_type": "display_data",
          "data": {
            "image/png": "[encoded data removed]",
            "text/plain": [
              "<Figure size 432x648 with 2 Axes>"
            ]
          },
          "metadata": {
            "tags": [],
            "image/png": {
              "width": 349,
              "height": 195
            },
            "needs_background": "light"
          }
        }
      ]
    },
    {
      "cell_type": "markdown",
      "metadata": {
        "id": "IZYWcU8upE-9"
      },
      "source": [
        "As you can see above, our network has basically no idea what this digit is. It's because we haven't trained it yet, all the weights are random!"
      ]
    },
    {
      "cell_type": "markdown",
      "metadata": {
        "id": "bjN8xGhLpE-9"
      },
      "source": [
        "# Training Neural Networks\n",
        "\n",
        "The network we built isn't so smart, it doesn't know anything about our handwritten digits. Neural networks with non-linear activations work like universal function approximators. There is some function that maps your input to the output. For example, images of handwritten digits to class probabilities. The power of neural networks is that we can train them to approximate this function, and basically any function given enough data and compute time.\n",
        "\n",
        "<img src=\"assets/function_approx.png\" width=500px>\n",
        "\n",
        "At first the network is naive, it doesn't know the function mapping the inputs to the outputs. We train the network by showing it examples of real data, then adjusting the network parameters such that it approximates this function.\n",
        "\n",
        "To find these parameters, we need to know how poorly the network is predicting the real outputs. For this we calculate a **loss function** (also called the cost), a measure of our prediction error. For example, the mean squared loss is often used in regression and binary classification problems\n",
        "\n",
        "$$\n",
        "\\ell = \\frac{1}{2n}\\sum_i^n{\\left(y_i - \\hat{y}_i\\right)^2}\n",
        "$$\n",
        "\n",
        "where $n$ is the number of training examples, $y_i$ are the true labels, and $\\hat{y}_i$ are the predicted labels.\n",
        "\n",
        "By minimizing this loss with respect to the network parameters, we can find configurations where the loss is at a minimum and the network is able to predict the correct labels with high accuracy. We find this minimum using a process called **gradient descent**. The gradient is the slope of the loss function and points in the direction of fastest change. To get to the minimum in the least amount of time, we then want to follow the gradient (downwards). You can think of this like descending a mountain by following the steepest slope to the base.\n",
        "\n",
        "<img src='assets/gradient_descent.png' width=350px>"
      ]
    },
    {
      "cell_type": "markdown",
      "metadata": {
        "id": "K4VdAcjvpE-9"
      },
      "source": [
        "## Backpropagation\n",
        "\n",
        "For single layer networks, gradient descent is simple to implement. However, it's more complicated for deeper, multilayer neural networks like the one we've built. Complicated enough that it took about 30 years before researchers figured out how to train multilayer networks, although it's straightforward once you learn about it. \n",
        "\n",
        "This is done through **backpropagation** which is really just an application of the chain rule from calculus. It's easiest to understand if we convert a two layer network into a graph representation.\n",
        "\n",
        "<img src='assets/w1_backprop_graph.png' width=400px>\n",
        "\n",
        "In the forward pass through the network, our data and operations go from right to left here. To train the weights with gradient descent, we propagate the gradient of the cost backwards through the network. Mathematically, this is really just calculating the gradient of the loss with respect to the weights using the chain rule.\n",
        "\n",
        "$$\n",
        "\\frac{\\partial \\ell}{\\partial w_1} = \\frac{\\partial l_1}{\\partial w_1} \\frac{\\partial s}{\\partial l_1} \\frac{\\partial l_2}{\\partial s} \\frac{\\partial \\ell}{\\partial l_2}\n",
        "$$\n",
        "\n",
        "We update our weights using this gradient with some learning rate $\\alpha$. \n",
        "\n",
        "$$\n",
        "w^\\prime = w - \\alpha \\frac{\\partial \\ell}{\\partial w}\n",
        "$$\n",
        "\n",
        "The learning rate is set such that the weight update steps are small enough that the iterative method settles in a minimum.\n",
        "\n",
        "The first thing we need to do for training is define our loss function. In PyTorch, you'll usually see this as `criterion`. Here we're using softmax output, so we want to use `criterion = nn.CrossEntropyLoss()` as our loss. Later when training, you use `loss = criterion(output, targets)` to calculate the actual loss.\n",
        "\n",
        "We also need to define the optimizer we're using, SGD or Adam, or something along those lines. Here I'll just use SGD with `torch.optim.SGD`, passing in the network parameters and the learning rate."
      ]
    },
    {
      "cell_type": "markdown",
      "metadata": {
        "id": "ToN9w8PwpE--"
      },
      "source": [
        "## Autograd\n",
        "\n",
        "Torch provides a module, `autograd`, for automatically calculating the gradient of tensors. It does this by keeping track of operations performed on tensors. To make sure PyTorch keeps track of operations on a tensor and calculates the gradients, you need to set `requires_grad` on a tensor. You can do this at creation with the `requires_grad` keyword, or at any time with `x.requires_grad_(True)`.\n",
        "\n",
        "You can turn off gradients for a block of code with the `torch.no_grad()` content:\n",
        "```python\n",
        "x = torch.zeros(1, requires_grad=True)\n",
        ">>> with torch.no_grad():\n",
        "...     y = x * 2\n",
        ">>> y.requires_grad\n",
        "False\n",
        "```\n",
        "\n",
        "Also, you can turn on or off gradients altogether with `torch.set_grad_enabled(True|False)`.\n",
        "\n",
        "The gradients are computed with respect to some variable `z` with `z.backward()`. This does a backward pass through the operations that created `z`."
      ]
    },
    {
      "cell_type": "code",
      "metadata": {
        "colab": {
          "base_uri": "https://localhost:8080/"
        },
        "id": "PD-CEcOkpE--",
        "outputId": "b0a351de-b5d9-4902-a5a2-9e6d2fd2bf2e"
      },
      "source": [
        "x = torch.randn(2,2, requires_grad=True)\n",
        "print(x)"
      ],
      "execution_count": 50,
      "outputs": [
        {
          "output_type": "stream",
          "text": [
            "tensor([[ 0.1135, -0.0579],\n",
            "        [-0.7629,  0.0300]], requires_grad=True)\n"
          ],
          "name": "stdout"
        }
      ]
    },
    {
      "cell_type": "code",
      "metadata": {
        "colab": {
          "base_uri": "https://localhost:8080/"
        },
        "id": "GQqdPov-pE--",
        "outputId": "f06736ef-0120-40be-d9bd-88dc9e7300d3"
      },
      "source": [
        "y = x**2\n",
        "print(y)"
      ],
      "execution_count": 51,
      "outputs": [
        {
          "output_type": "stream",
          "text": [
            "tensor([[0.0129, 0.0034],\n",
            "        [0.5820, 0.0009]], grad_fn=<PowBackward0>)\n"
          ],
          "name": "stdout"
        }
      ]
    },
    {
      "cell_type": "markdown",
      "metadata": {
        "id": "Jdvk4Rz3pE--"
      },
      "source": [
        "Below we can see the operation that created `y`, a power operation `PowBackward0`."
      ]
    },
    {
      "cell_type": "code",
      "metadata": {
        "colab": {
          "base_uri": "https://localhost:8080/"
        },
        "id": "eRvYV7AopE--",
        "outputId": "4b04342f-fe7e-4d01-996d-f6a4d8ba1a1d"
      },
      "source": [
        "## grad_fn shows the function that generated this variable\n",
        "print(y.grad_fn)"
      ],
      "execution_count": 17,
      "outputs": [
        {
          "output_type": "stream",
          "text": [
            "<PowBackward0 object at 0x7f24859e5490>\n"
          ],
          "name": "stdout"
        }
      ]
    },
    {
      "cell_type": "markdown",
      "metadata": {
        "id": "qMMlFeiPpE-_"
      },
      "source": [
        "The autgrad module keeps track of these operations and knows how to calculate the gradient for each one. In this way, it's able to calculate the gradients for a chain of operations, with respect to any one tensor. Let's reduce the tensor `y` to a scalar value, the mean."
      ]
    },
    {
      "cell_type": "code",
      "metadata": {
        "colab": {
          "base_uri": "https://localhost:8080/"
        },
        "id": "7NpxtOaXpE-_",
        "outputId": "40f92055-7ceb-49cf-c5c3-04427f008a3a"
      },
      "source": [
        "z = y.mean()\n",
        "print(z)"
      ],
      "execution_count": 18,
      "outputs": [
        {
          "output_type": "stream",
          "text": [
            "tensor(1.2015, grad_fn=<MeanBackward0>)\n"
          ],
          "name": "stdout"
        }
      ]
    },
    {
      "cell_type": "markdown",
      "metadata": {
        "id": "sOH7jqrwpE-_"
      },
      "source": [
        "You can check the gradients for `x` and `y` but they are empty currently."
      ]
    },
    {
      "cell_type": "code",
      "metadata": {
        "colab": {
          "base_uri": "https://localhost:8080/"
        },
        "id": "4pEP-AKzpE-_",
        "outputId": "05da0889-d98b-4567-a55f-9513055f9882"
      },
      "source": [
        "print(x.grad)"
      ],
      "execution_count": 19,
      "outputs": [
        {
          "output_type": "stream",
          "text": [
            "None\n"
          ],
          "name": "stdout"
        }
      ]
    },
    {
      "cell_type": "markdown",
      "metadata": {
        "id": "y8LP0NTapE-_"
      },
      "source": [
        "To calculate the gradients, you need to run the `.backward` method on a Variable, `z` for example. This will calculate the gradient for `z` with respect to `x`\n",
        "\n",
        "$$\n",
        "\\frac{\\partial z}{\\partial x} = \\frac{\\partial}{\\partial x}\\left[\\frac{1}{n}\\sum_i^n x_i^2\\right] = \\frac{x}{2}\n",
        "$$"
      ]
    },
    {
      "cell_type": "code",
      "metadata": {
        "colab": {
          "base_uri": "https://localhost:8080/"
        },
        "id": "BjBjZtvupE-_",
        "outputId": "15136ad3-b089-49fd-af33-e6d0c5bbd79a"
      },
      "source": [
        "z.backward()\n",
        "print(x.grad)\n",
        "print(x/2)"
      ],
      "execution_count": 20,
      "outputs": [
        {
          "output_type": "stream",
          "text": [
            "tensor([[ 0.1526,  0.6074],\n",
            "        [ 0.2031, -0.8764]])\n",
            "tensor([[ 0.1526,  0.6074],\n",
            "        [ 0.2031, -0.8764]], grad_fn=<DivBackward0>)\n"
          ],
          "name": "stdout"
        }
      ]
    },
    {
      "cell_type": "markdown",
      "metadata": {
        "id": "eep-GEBxpE-_"
      },
      "source": [
        "These gradients calculations are particularly useful for neural networks. For training we need the gradients of the weights with respect to the cost. With PyTorch, we run data forward through the network to calculate the cost, then, go backwards to calculate the gradients with respect to the cost. Once we have the gradients we can make a gradient descent step. "
      ]
    },
    {
      "cell_type": "markdown",
      "metadata": {
        "id": "cZr4qN9HpE_A"
      },
      "source": [
        "I'll build a network with `nn.Sequential` here. Only difference from the last part is I'm not actually using softmax on the output, but instead just using the raw output from the last layer. This is because the output from softmax is a probability distribution. Often, the output will have values really close to zero or really close to one. Due to [inaccuracies with representing numbers as floating points](https://docs.python.org/3/tutorial/floatingpoint.html), computations with a softmax output can lose accuracy and become unstable. To get around this, we'll use the raw output, called the **logits**, to calculate the loss."
      ]
    },
    {
      "cell_type": "code",
      "metadata": {
        "id": "j4nN4UtjpE_A"
      },
      "source": [
        "# Hyperparameters for our network\n",
        "input_size   = 784\n",
        "hidden_sizes = [128, 64]\n",
        "output_size  = 10\n",
        "\n",
        "# Build a feed-forward network\n",
        "model = nn.Sequential(OrderedDict([\n",
        "          ('fc1', nn.Linear(input_size, hidden_sizes[0])),\n",
        "          ('relu1', nn.ReLU()),\n",
        "          ('fc2', nn.Linear(hidden_sizes[0], hidden_sizes[1])),\n",
        "          ('relu2', nn.ReLU()),\n",
        "          ('logits', nn.Linear(hidden_sizes[1], output_size))]))"
      ],
      "execution_count": 21,
      "outputs": []
    },
    {
      "cell_type": "markdown",
      "metadata": {
        "id": "jjA_oOhopE_A"
      },
      "source": [
        "## Training the network!\n",
        "\n",
        "The first thing we need to do for training is define our loss function. In PyTorch, you'll usually see this as `criterion`. Here we're using softmax output, so we want to use `criterion = nn.CrossEntropyLoss()` as our loss. Later when training, you use `loss = criterion(output, targets)` to calculate the actual loss.\n",
        "\n",
        "We also need to define the optimizer we're using, SGD or Adam, or something along those lines. Here I'll just use SGD with `torch.optim.SGD`, passing in the network parameters and the learning rate."
      ]
    },
    {
      "cell_type": "code",
      "metadata": {
        "id": "MaHRWXXdpE_A"
      },
      "source": [
        "criterion = nn.CrossEntropyLoss()\n",
        "optimizer = optim.SGD(model.parameters(), lr=0.01)"
      ],
      "execution_count": 22,
      "outputs": []
    },
    {
      "cell_type": "markdown",
      "metadata": {
        "id": "zbbgkSXApE_A"
      },
      "source": [
        "First, let's consider just one learning step before looping through all the data. The general process with PyTorch:\n",
        "\n",
        "* Make a forward pass through the network to get the logits \n",
        "* Use the logits to calculate the loss\n",
        "* Perform a backward pass through the network with `loss.backward()` to calculate the gradients\n",
        "* Take a step with the optimizer to update the weights\n",
        "\n",
        "Below I'll go through one training step and print out the weights and gradients so you can see how it changes."
      ]
    },
    {
      "cell_type": "code",
      "metadata": {
        "colab": {
          "base_uri": "https://localhost:8080/"
        },
        "id": "ZBvRk097pE_A",
        "outputId": "3194b404-6a6b-45b7-d676-48b4d420a0c3"
      },
      "source": [
        "print('Initial weights - ', model.fc1.weight)\n",
        "\n",
        "images, labels = next(iter(trainloader))\n",
        "images.resize_(64, 784)\n",
        "\n",
        "# Clear the gradients, do this because gradients are accumulated\n",
        "optimizer.zero_grad()\n",
        "\n",
        "# Forward pass, then backward pass, then update weights\n",
        "output = model.forward(images)\n",
        "loss = criterion(output, labels)\n",
        "loss.backward()\n",
        "print('Gradient -', model.fc1.weight.grad)\n",
        "optimizer.step()"
      ],
      "execution_count": 23,
      "outputs": [
        {
          "output_type": "stream",
          "text": [
            "Initial weights -  Parameter containing:\n",
            "tensor([[-0.0112,  0.0003, -0.0269,  ..., -0.0265,  0.0285, -0.0352],\n",
            "        [ 0.0239,  0.0333, -0.0179,  ...,  0.0108, -0.0173,  0.0077],\n",
            "        [ 0.0048, -0.0246, -0.0095,  ..., -0.0094,  0.0014,  0.0171],\n",
            "        ...,\n",
            "        [ 0.0191,  0.0285, -0.0022,  ..., -0.0286, -0.0024,  0.0201],\n",
            "        [-0.0030,  0.0277,  0.0027,  ...,  0.0219, -0.0285,  0.0179],\n",
            "        [ 0.0175,  0.0016,  0.0092,  ..., -0.0284, -0.0307, -0.0233]],\n",
            "       requires_grad=True)\n",
            "Gradient - tensor([[ 0.0019,  0.0019,  0.0019,  ...,  0.0019,  0.0019,  0.0019],\n",
            "        [ 0.0023,  0.0023,  0.0023,  ...,  0.0023,  0.0023,  0.0023],\n",
            "        [-0.0002, -0.0002, -0.0002,  ..., -0.0002, -0.0002, -0.0002],\n",
            "        ...,\n",
            "        [-0.0011, -0.0011, -0.0011,  ..., -0.0011, -0.0011, -0.0011],\n",
            "        [ 0.0013,  0.0013,  0.0013,  ...,  0.0013,  0.0013,  0.0013],\n",
            "        [ 0.0047,  0.0047,  0.0047,  ...,  0.0047,  0.0047,  0.0047]])\n"
          ],
          "name": "stdout"
        }
      ]
    },
    {
      "cell_type": "code",
      "metadata": {
        "colab": {
          "base_uri": "https://localhost:8080/"
        },
        "id": "iP6EjIZ2pE_A",
        "outputId": "966ac701-9e88-4e01-c888-72b8c9621a91"
      },
      "source": [
        "print('Updated weights - ', model.fc1.weight)"
      ],
      "execution_count": 24,
      "outputs": [
        {
          "output_type": "stream",
          "text": [
            "Updated weights -  Parameter containing:\n",
            "tensor([[-0.0112,  0.0003, -0.0269,  ..., -0.0265,  0.0285, -0.0352],\n",
            "        [ 0.0239,  0.0333, -0.0179,  ...,  0.0107, -0.0173,  0.0077],\n",
            "        [ 0.0048, -0.0246, -0.0095,  ..., -0.0094,  0.0014,  0.0171],\n",
            "        ...,\n",
            "        [ 0.0191,  0.0285, -0.0022,  ..., -0.0286, -0.0024,  0.0201],\n",
            "        [-0.0030,  0.0277,  0.0027,  ...,  0.0219, -0.0285,  0.0179],\n",
            "        [ 0.0174,  0.0016,  0.0091,  ..., -0.0284, -0.0308, -0.0233]],\n",
            "       requires_grad=True)\n"
          ],
          "name": "stdout"
        }
      ]
    },
    {
      "cell_type": "markdown",
      "metadata": {
        "id": "4MY9DBsspE_B"
      },
      "source": [
        "### Training for real\n",
        "\n",
        "Now we'll put this algorithm into a loop so we can go through all the images. This is fairly straightforward. We'll loop through the mini-batches in our dataset, pass the data through the network to calculate the losses, get the gradients, then run the optimizer."
      ]
    },
    {
      "cell_type": "code",
      "metadata": {
        "id": "GPf7QeHfpE_B"
      },
      "source": [
        "optimizer = optim.SGD(model.parameters(), lr=0.003)"
      ],
      "execution_count": 25,
      "outputs": []
    },
    {
      "cell_type": "code",
      "metadata": {
        "colab": {
          "base_uri": "https://localhost:8080/"
        },
        "id": "Ui_ehugupE_B",
        "outputId": "9a8d75c0-cf26-4da3-fa4e-db48d9e7a316"
      },
      "source": [
        "epochs = 3\n",
        "print_every = 40\n",
        "\n",
        "for e in range(epochs):\n",
        "    running_loss = 0\n",
        "    print(f\"Epoch: {e+1}/{epochs}\")\n",
        "\n",
        "    for i, (images, labels) in enumerate(iter(trainloader)):\n",
        "\n",
        "        # Flatten MNIST images into a 784 long vector\n",
        "        images.resize_(images.size()[0], 784)\n",
        "        \n",
        "        optimizer.zero_grad()\n",
        "        \n",
        "        output = model.forward(images)   # 1) Forward pass\n",
        "        loss = criterion(output, labels) # 2) Compute loss\n",
        "        loss.backward()                  # 3) Backward pass\n",
        "        optimizer.step()                 # 4) Update model\n",
        "        \n",
        "        running_loss += loss.item()\n",
        "        \n",
        "        if i % print_every == 0:\n",
        "            print(f\"\\tIteration: {i}\\t Loss: {running_loss/print_every:.4f}\")\n",
        "            running_loss = 0"
      ],
      "execution_count": 26,
      "outputs": [
        {
          "output_type": "stream",
          "text": [
            "Epoch: 1/3\n",
            "\tIteration: 0\t Loss: 0.0583\n",
            "\tIteration: 40\t Loss: 2.3003\n",
            "\tIteration: 80\t Loss: 2.2771\n",
            "\tIteration: 120\t Loss: 2.2578\n",
            "\tIteration: 160\t Loss: 2.2362\n",
            "\tIteration: 200\t Loss: 2.2150\n",
            "\tIteration: 240\t Loss: 2.1923\n",
            "\tIteration: 280\t Loss: 2.1682\n",
            "\tIteration: 320\t Loss: 2.1415\n",
            "\tIteration: 360\t Loss: 2.1158\n",
            "\tIteration: 400\t Loss: 2.0720\n",
            "\tIteration: 440\t Loss: 2.0341\n",
            "\tIteration: 480\t Loss: 1.9940\n",
            "\tIteration: 520\t Loss: 1.9522\n",
            "\tIteration: 560\t Loss: 1.8924\n",
            "\tIteration: 600\t Loss: 1.8244\n",
            "\tIteration: 640\t Loss: 1.7853\n",
            "\tIteration: 680\t Loss: 1.7178\n",
            "\tIteration: 720\t Loss: 1.6556\n",
            "\tIteration: 760\t Loss: 1.5921\n",
            "\tIteration: 800\t Loss: 1.5116\n",
            "\tIteration: 840\t Loss: 1.4699\n",
            "\tIteration: 880\t Loss: 1.4052\n",
            "\tIteration: 920\t Loss: 1.3269\n",
            "Epoch: 2/3\n",
            "\tIteration: 0\t Loss: 0.0311\n",
            "\tIteration: 40\t Loss: 1.2713\n",
            "\tIteration: 80\t Loss: 1.1659\n",
            "\tIteration: 120\t Loss: 1.1311\n",
            "\tIteration: 160\t Loss: 1.0736\n",
            "\tIteration: 200\t Loss: 1.0283\n",
            "\tIteration: 240\t Loss: 0.9997\n",
            "\tIteration: 280\t Loss: 0.9475\n",
            "\tIteration: 320\t Loss: 0.9126\n",
            "\tIteration: 360\t Loss: 0.8804\n",
            "\tIteration: 400\t Loss: 0.8459\n",
            "\tIteration: 440\t Loss: 0.8029\n",
            "\tIteration: 480\t Loss: 0.8151\n",
            "\tIteration: 520\t Loss: 0.7936\n",
            "\tIteration: 560\t Loss: 0.7716\n",
            "\tIteration: 600\t Loss: 0.7158\n",
            "\tIteration: 640\t Loss: 0.7347\n",
            "\tIteration: 680\t Loss: 0.6905\n",
            "\tIteration: 720\t Loss: 0.6870\n",
            "\tIteration: 760\t Loss: 0.6560\n",
            "\tIteration: 800\t Loss: 0.6650\n",
            "\tIteration: 840\t Loss: 0.6221\n",
            "\tIteration: 880\t Loss: 0.6212\n",
            "\tIteration: 920\t Loss: 0.6162\n",
            "Epoch: 3/3\n",
            "\tIteration: 0\t Loss: 0.0130\n",
            "\tIteration: 40\t Loss: 0.6218\n",
            "\tIteration: 80\t Loss: 0.5889\n",
            "\tIteration: 120\t Loss: 0.5816\n",
            "\tIteration: 160\t Loss: 0.5737\n",
            "\tIteration: 200\t Loss: 0.5612\n",
            "\tIteration: 240\t Loss: 0.5538\n",
            "\tIteration: 280\t Loss: 0.5605\n",
            "\tIteration: 320\t Loss: 0.5603\n",
            "\tIteration: 360\t Loss: 0.5438\n",
            "\tIteration: 400\t Loss: 0.5266\n",
            "\tIteration: 440\t Loss: 0.5105\n",
            "\tIteration: 480\t Loss: 0.5219\n",
            "\tIteration: 520\t Loss: 0.5033\n",
            "\tIteration: 560\t Loss: 0.4728\n",
            "\tIteration: 600\t Loss: 0.4941\n",
            "\tIteration: 640\t Loss: 0.4852\n",
            "\tIteration: 680\t Loss: 0.5523\n",
            "\tIteration: 720\t Loss: 0.5039\n",
            "\tIteration: 760\t Loss: 0.4577\n",
            "\tIteration: 800\t Loss: 0.4821\n",
            "\tIteration: 840\t Loss: 0.4764\n",
            "\tIteration: 880\t Loss: 0.4645\n",
            "\tIteration: 920\t Loss: 0.4701\n"
          ],
          "name": "stdout"
        }
      ]
    },
    {
      "cell_type": "markdown",
      "metadata": {
        "id": "7a5LHrDwpE_B"
      },
      "source": [
        "With the network trained, we can check out it's predictions."
      ]
    },
    {
      "cell_type": "code",
      "metadata": {
        "colab": {
          "base_uri": "https://localhost:8080/",
          "height": 212
        },
        "id": "HrZSRU7NpE_B",
        "outputId": "d1d6a968-b317-4008-f21e-d88dade43523"
      },
      "source": [
        "images, labels = next(iter(trainloader))\n",
        "\n",
        "img = images[0].view(1, 784)\n",
        "# Turn off gradients to speed up this part\n",
        "with torch.no_grad():\n",
        "    logits = model.forward(img)\n",
        "\n",
        "# Output of the network are logits, need to take softmax for probabilities\n",
        "ps = F.softmax(logits, dim=1)\n",
        "view_classify(img.view(1, 28, 28), ps)"
      ],
      "execution_count": 27,
      "outputs": [
        {
          "output_type": "display_data",
          "data": {
            "image/png": "[encoded data removed]",
            "text/plain": [
              "<Figure size 432x648 with 2 Axes>"
            ]
          },
          "metadata": {
            "tags": [],
            "image/png": {
              "width": 349,
              "height": 195
            },
            "needs_background": "light"
          }
        }
      ]
    },
    {
      "cell_type": "markdown",
      "metadata": {
        "id": "-y_fYrOOpE_B"
      },
      "source": [
        "Now our network is brilliant. It can accurately predict the digits in our images."
      ]
    },
    {
      "cell_type": "markdown",
      "metadata": {
        "id": "ViVJV4GYpE_B"
      },
      "source": [
        "<div style=\"background:#222222; color:#ffffff; padding:20px\">\n",
        "    <h2 align=\"center\" style=\"color:#01ff84\">MNIST Clasification: Exercise</h2>\n",
        "<div>"
      ]
    },
    {
      "cell_type": "markdown",
      "metadata": {
        "id": "ROaubxhypE_C"
      },
      "source": [
        "<div style=\"background:#222222; color:#ffffff; padding:20px\">\n",
        "  <h3 style=\"color:#01ff84; margin-top:4px\">Exercise 1:</h3>\n",
        "  <p>Now it's your turn to build a simple network, use any method I've covered so far. In the next notebook, you'll learn how to train a network so it can make good predictions.</p>\n",
        "  <p>Build a network to classify the MNIST images with 3 hidden layers. Use 400 units in the first hidden layer, 200 units in the second layer, and 100 units in the third layer. Each hidden layer should have a ReLU activation function, and use softmax on the output layer.</p>\n",
        "<div>"
      ]
    },
    {
      "cell_type": "code",
      "metadata": {
        "id": "8UZwi-fnpE_C"
      },
      "source": [
        "## TODO: Your network here\n",
        "input_size   = 784\n",
        "hidden_sizes = [400,200,100]\n",
        "output_size   = 10\n",
        "\n",
        "# Build a feed-forward network\n",
        "model = nn.Sequential(nn.Linear(input_size, hidden_sizes[0]),\n",
        "                      nn.ReLU(),\n",
        "                      nn.Linear(hidden_sizes[0], hidden_sizes[1]),\n",
        "                      nn.ReLU(),\n",
        "                      nn.Linear(hidden_sizes[1], hidden_sizes[2]),\n",
        "                      nn.ReLU(),\n",
        "                      nn.Linear(hidden_sizes[2], output_size),\n",
        "                      nn.Softmax(dim=1))\n"
      ],
      "execution_count": 32,
      "outputs": []
    },
    {
      "cell_type": "code",
      "metadata": {
        "colab": {
          "base_uri": "https://localhost:8080/",
          "height": 212
        },
        "id": "MMWykkzRpE_C",
        "outputId": "981cfbf7-63f3-4ce1-95f3-a12180f427d4"
      },
      "source": [
        "# Run this cell with your model to make sure it works\n",
        "# Forward pass through the network and display output\n",
        "images, labels = next(iter(trainloader))\n",
        "images.resize_(images.shape[0], 1, 784)\n",
        "ps = model.forward(images[0,:])\n",
        "view_classify(images[0].view(1, 28, 28), ps)"
      ],
      "execution_count": 33,
      "outputs": [
        {
          "output_type": "display_data",
          "data": {
            "image/png": "[encoded data removed]",
            "text/plain": [
              "<Figure size 432x648 with 2 Axes>"
            ]
          },
          "metadata": {
            "tags": [],
            "image/png": {
              "width": 349,
              "height": 195
            },
            "needs_background": "light"
          }
        }
      ]
    },
    {
      "cell_type": "markdown",
      "metadata": {
        "id": "X_nTJ4A5pE_C"
      },
      "source": [
        "<div style=\"background:#222222; color:#ffffff; padding:20px\">\n",
        "  <h3 style=\"color:#01ff84; margin-top:4px\">Exercise 2:</h3>\n",
        "  <p>Train your network implementing the Pytorch training loop and <strong style=\"color:#01ff84\">after each epoch, use the model for predicting the test (validation) MNIST data.</strong></p>\n",
        "  <p>Note: If your model does not fit with the final softmax layer, you can remove this layer.</p>\n",
        "  <p>Hint: <a href=\"https://discuss.pytorch.org/t/training-loop-checking-validation-accuracy/78399\">Training loop checking validation accuracy\n",
        "</a></p>\n",
        "  <p>Research about <code>model.train()</code>, <code>model.eval()</code> and <code>with torch.no_grad()</code> in Pytorch.\n",
        "<div>"
      ]
    },
    {
      "cell_type": "code",
      "metadata": {
        "colab": {
          "base_uri": "https://localhost:8080/"
        },
        "id": "wwUY-5IkpE_C",
        "outputId": "2993860d-87fa-4433-e7d9-3e7f12242711"
      },
      "source": [
        "## TODO: Your training loop here\r\n",
        "criterion = nn.CrossEntropyLoss()\r\n",
        "optimizer = optim.SGD(model.parameters(), lr=0.03)\r\n",
        "\r\n",
        "epochs = 3\r\n",
        "print_every = 40\r\n",
        "\r\n",
        "for e in range(epochs):\r\n",
        "    running_loss = 0\r\n",
        "    print(f\"Epoch: {e+1}/{epochs}\")\r\n",
        "\r\n",
        "    for i, (images, labels) in enumerate(iter(trainloader)):\r\n",
        "\r\n",
        "        # Flatten MNIST images into a 784 long vector\r\n",
        "        images.resize_(images.size()[0], 784)\r\n",
        "        \r\n",
        "        optimizer.zero_grad()\r\n",
        "        \r\n",
        "        output = model.forward(images)   # 1) Forward pass\r\n",
        "        loss = criterion(output, labels) # 2) Compute loss\r\n",
        "        loss.backward()                  # 3) Backward pass\r\n",
        "        optimizer.step()                 # 4) Update model\r\n",
        "        \r\n",
        "        running_loss += loss.item()\r\n",
        "        if i % print_every == 0:\r\n",
        "            print(f\"\\tIteration: {i}\\t Loss: {running_loss/print_every:.4f}\")\r\n",
        "            running_loss = 0\r\n"
      ],
      "execution_count": 39,
      "outputs": [
        {
          "output_type": "stream",
          "text": [
            "Epoch: 1/3\n",
            "\tIteration: 0\t Loss: 0.0420\n",
            "\tIteration: 40\t Loss: 1.7160\n",
            "\tIteration: 80\t Loss: 1.7174\n",
            "\tIteration: 120\t Loss: 1.7222\n",
            "\tIteration: 160\t Loss: 1.7180\n",
            "\tIteration: 200\t Loss: 1.7298\n",
            "\tIteration: 240\t Loss: 1.7088\n",
            "\tIteration: 280\t Loss: 1.7167\n",
            "\tIteration: 320\t Loss: 1.7114\n",
            "\tIteration: 360\t Loss: 1.7099\n",
            "\tIteration: 400\t Loss: 1.7037\n",
            "\tIteration: 440\t Loss: 1.7150\n",
            "\tIteration: 480\t Loss: 1.7234\n",
            "\tIteration: 520\t Loss: 1.7309\n",
            "\tIteration: 560\t Loss: 1.7110\n",
            "\tIteration: 600\t Loss: 1.7089\n",
            "\tIteration: 640\t Loss: 1.7120\n",
            "\tIteration: 680\t Loss: 1.7065\n",
            "\tIteration: 720\t Loss: 1.7053\n",
            "\tIteration: 760\t Loss: 1.7067\n",
            "\tIteration: 800\t Loss: 1.7115\n",
            "\tIteration: 840\t Loss: 1.7226\n",
            "\tIteration: 880\t Loss: 1.7124\n",
            "\tIteration: 920\t Loss: 1.7035\n",
            "Epoch: 2/3\n",
            "\tIteration: 0\t Loss: 0.0427\n",
            "\tIteration: 40\t Loss: 1.7053\n",
            "\tIteration: 80\t Loss: 1.7081\n",
            "\tIteration: 120\t Loss: 1.7142\n",
            "\tIteration: 160\t Loss: 1.7116\n",
            "\tIteration: 200\t Loss: 1.7281\n",
            "\tIteration: 240\t Loss: 1.7111\n",
            "\tIteration: 280\t Loss: 1.6991\n",
            "\tIteration: 320\t Loss: 1.7119\n",
            "\tIteration: 360\t Loss: 1.6950\n",
            "\tIteration: 400\t Loss: 1.7062\n",
            "\tIteration: 440\t Loss: 1.7148\n",
            "\tIteration: 480\t Loss: 1.7053\n",
            "\tIteration: 520\t Loss: 1.7018\n",
            "\tIteration: 560\t Loss: 1.6955\n",
            "\tIteration: 600\t Loss: 1.7159\n",
            "\tIteration: 640\t Loss: 1.7088\n",
            "\tIteration: 680\t Loss: 1.7055\n",
            "\tIteration: 720\t Loss: 1.7059\n",
            "\tIteration: 760\t Loss: 1.7136\n",
            "\tIteration: 800\t Loss: 1.7114\n",
            "\tIteration: 840\t Loss: 1.7079\n",
            "\tIteration: 880\t Loss: 1.6984\n",
            "\tIteration: 920\t Loss: 1.6899\n",
            "Epoch: 3/3\n",
            "\tIteration: 0\t Loss: 0.0420\n",
            "\tIteration: 40\t Loss: 1.7008\n",
            "\tIteration: 80\t Loss: 1.7024\n",
            "\tIteration: 120\t Loss: 1.6985\n",
            "\tIteration: 160\t Loss: 1.6891\n",
            "\tIteration: 200\t Loss: 1.7097\n",
            "\tIteration: 240\t Loss: 1.7081\n",
            "\tIteration: 280\t Loss: 1.7020\n",
            "\tIteration: 320\t Loss: 1.6942\n",
            "\tIteration: 360\t Loss: 1.6968\n",
            "\tIteration: 400\t Loss: 1.7131\n",
            "\tIteration: 440\t Loss: 1.7118\n",
            "\tIteration: 480\t Loss: 1.6960\n",
            "\tIteration: 520\t Loss: 1.7011\n",
            "\tIteration: 560\t Loss: 1.6986\n",
            "\tIteration: 600\t Loss: 1.6988\n",
            "\tIteration: 640\t Loss: 1.7123\n",
            "\tIteration: 680\t Loss: 1.7149\n",
            "\tIteration: 720\t Loss: 1.7241\n",
            "\tIteration: 760\t Loss: 1.6938\n",
            "\tIteration: 800\t Loss: 1.6905\n",
            "\tIteration: 840\t Loss: 1.7001\n",
            "\tIteration: 880\t Loss: 1.7101\n",
            "\tIteration: 920\t Loss: 1.7033\n"
          ],
          "name": "stdout"
        }
      ]
    },
    {
      "cell_type": "code",
      "metadata": {
        "colab": {
          "base_uri": "https://localhost:8080/",
          "height": 212
        },
        "id": "OynFkI2RpE_C",
        "outputId": "5a934471-1f07-448c-ce8f-c123897cfffe"
      },
      "source": [
        "# Run this cell with your model to make sure it works and predicts well for the validation data\n",
        "images, labels = next(iter(testloader))\n",
        "images.resize_(images.shape[0], 1, 784)\n",
        "ps = model.forward(images[0,:])\n",
        "view_classify(images[0].view(1, 28, 28), ps)"
      ],
      "execution_count": 40,
      "outputs": [
        {
          "output_type": "display_data",
          "data": {
            "image/png": "[encoded data removed]",
            "text/plain": [
              "<Figure size 432x648 with 2 Axes>"
            ]
          },
          "metadata": {
            "tags": [],
            "image/png": {
              "width": 349,
              "height": 195
            },
            "needs_background": "light"
          }
        }
      ]
    },
    {
      "cell_type": "markdown",
      "metadata": {
        "id": "Wk5peeYSpE_C"
      },
      "source": [
        "<div style=\"background:#222222; color:#ffffff; padding:20px\">\n",
        "  <h3 style=\"color:#01ff84; margin-top:4px\">Exercise 3:</h3>\n",
        "  <p>Write the code for adding <strong style=\"color:#01ff84\">Early Stopping with patience = 2</strong> to the training loop from scratch.</p>\n",
        "  <p><strong style=\"color:#01ff84\">Hint:</strong> Monitor the Validation loss every epoch, and if in 2 epochs, the validation loss does not improve, stop the training loop with <code>break</code>.</p>\n",
        "<div>"
      ]
    },
    {
      "cell_type": "code",
      "metadata": {
        "colab": {
          "base_uri": "https://localhost:8080/",
          "height": 669
        },
        "id": "-CvzNxlipE_D",
        "outputId": "6e44c087-9f75-40af-ffe8-991edcf640c6"
      },
      "source": [
        "## TODO: Your training loop here\r\n",
        "epochs = 3\r\n",
        "print_every = 40\r\n",
        "\r\n",
        "correct = 0\r\n",
        "total = 0\r\n",
        "\r\n",
        "for e in range(epochs):\r\n",
        "    running_loss = 0\r\n",
        "    print(f\"Epoch: {e+1}/{epochs}\")\r\n",
        "\r\n",
        "    for i, (images, labels) in enumerate(iter(trainloader)):\r\n",
        "\r\n",
        "        # Flatten MNIST images into a 784 long vector\r\n",
        "        images.resize_(images.size()[0], 784)\r\n",
        "        \r\n",
        "        optimizer.zero_grad()\r\n",
        "        \r\n",
        "        output = model.forward(images)   # 1) Forward pass\r\n",
        "        loss = criterion(output, labels) # 2) Compute loss\r\n",
        "        loss.backward()                  # 3) Backward pass\r\n",
        "        optimizer.step()                 # 4) Update model\r\n",
        "        \r\n",
        "        running_loss += loss.item()\r\n",
        "        if i % print_every == 0:\r\n",
        "            print(f\"\\tIteration: {i}\\t Loss: {running_loss/print_every:.4f}\")\r\n",
        "            running_loss = 0\r\n",
        "    model.eval()\r\n",
        "    with torch.no_grad():\r\n",
        "        for i,(images,labels) in enumerate(iter(testloader)):\r\n",
        "            images.resize_(images.size()[0], 784)\r\n",
        "            output = model(images)\r\n",
        "            running_validation_loss = criterion(output, labels).item()\r\n",
        "            predicted = torch.max(output.data, 1)\r\n",
        "            total += labels.size(0)\r\n",
        "            correct += (predicted == labels).sum().item()\r\n",
        "\r\n",
        "\r\n",
        "    print('Accuracy of the network: %d %%' % (100*correct /total))\r\n",
        "    print(f'Validation loss: {running_validation_loss}')\r\n",
        "    if best_validation_loss > running_validation_loss:\r\n",
        "        best_validation_loss = running_validation_loss\r\n",
        "    else:\r\n",
        "        break"
      ],
      "execution_count": 61,
      "outputs": [
        {
          "output_type": "stream",
          "text": [
            "Epoch: 1/3\n",
            "\tIteration: 0\t Loss: 0.0576\n",
            "\tIteration: 40\t Loss: 2.3034\n",
            "\tIteration: 80\t Loss: 2.3039\n",
            "\tIteration: 120\t Loss: 2.3035\n",
            "\tIteration: 160\t Loss: 2.3034\n",
            "\tIteration: 200\t Loss: 2.3038\n",
            "\tIteration: 240\t Loss: 2.3036\n",
            "\tIteration: 280\t Loss: 2.3035\n",
            "\tIteration: 320\t Loss: 2.3041\n",
            "\tIteration: 360\t Loss: 2.3036\n",
            "\tIteration: 400\t Loss: 2.3030\n",
            "\tIteration: 440\t Loss: 2.3033\n",
            "\tIteration: 480\t Loss: 2.3037\n",
            "\tIteration: 520\t Loss: 2.3036\n",
            "\tIteration: 560\t Loss: 2.3031\n",
            "\tIteration: 600\t Loss: 2.3036\n",
            "\tIteration: 640\t Loss: 2.3035\n",
            "\tIteration: 680\t Loss: 2.3035\n",
            "\tIteration: 720\t Loss: 2.3037\n",
            "\tIteration: 760\t Loss: 2.3034\n",
            "\tIteration: 800\t Loss: 2.3030\n",
            "\tIteration: 840\t Loss: 2.3034\n",
            "\tIteration: 880\t Loss: 2.3034\n",
            "\tIteration: 920\t Loss: 2.3035\n"
          ],
          "name": "stdout"
        },
        {
          "output_type": "error",
          "ename": "AttributeError",
          "evalue": "ignored",
          "traceback": [
            "\u001b[0;31m---------------------------------------------------------------------------\u001b[0m",
            "\u001b[0;31mAttributeError\u001b[0m                            Traceback (most recent call last)",
            "\u001b[0;32m<ipython-input-61-e104ed38e4d4>\u001b[0m in \u001b[0;36m<module>\u001b[0;34m()\u001b[0m\n\u001b[1;32m     34\u001b[0m             \u001b[0mpredicted\u001b[0m \u001b[0;34m=\u001b[0m \u001b[0mtorch\u001b[0m\u001b[0;34m.\u001b[0m\u001b[0mmax\u001b[0m\u001b[0;34m(\u001b[0m\u001b[0moutput\u001b[0m\u001b[0;34m.\u001b[0m\u001b[0mdata\u001b[0m\u001b[0;34m,\u001b[0m \u001b[0;36m1\u001b[0m\u001b[0;34m)\u001b[0m\u001b[0;34m\u001b[0m\u001b[0;34m\u001b[0m\u001b[0m\n\u001b[1;32m     35\u001b[0m             \u001b[0mtotal\u001b[0m \u001b[0;34m+=\u001b[0m \u001b[0mlabels\u001b[0m\u001b[0;34m.\u001b[0m\u001b[0msize\u001b[0m\u001b[0;34m(\u001b[0m\u001b[0;36m0\u001b[0m\u001b[0;34m)\u001b[0m\u001b[0;34m\u001b[0m\u001b[0;34m\u001b[0m\u001b[0m\n\u001b[0;32m---> 36\u001b[0;31m             \u001b[0mcorrect\u001b[0m \u001b[0;34m+=\u001b[0m \u001b[0;34m(\u001b[0m\u001b[0mpredicted\u001b[0m \u001b[0;34m==\u001b[0m \u001b[0mlabels\u001b[0m\u001b[0;34m)\u001b[0m\u001b[0;34m.\u001b[0m\u001b[0msum\u001b[0m\u001b[0;34m(\u001b[0m\u001b[0;34m)\u001b[0m\u001b[0;34m.\u001b[0m\u001b[0mitem\u001b[0m\u001b[0;34m(\u001b[0m\u001b[0;34m)\u001b[0m\u001b[0;34m\u001b[0m\u001b[0;34m\u001b[0m\u001b[0m\n\u001b[0m\u001b[1;32m     37\u001b[0m \u001b[0;34m\u001b[0m\u001b[0m\n\u001b[1;32m     38\u001b[0m \u001b[0;34m\u001b[0m\u001b[0m\n",
            "\u001b[0;31mAttributeError\u001b[0m: 'bool' object has no attribute 'sum'"
          ]
        }
      ]
    }
  ]
}